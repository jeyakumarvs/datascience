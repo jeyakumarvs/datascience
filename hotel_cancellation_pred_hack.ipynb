{
  "nbformat": 4,
  "nbformat_minor": 0,
  "metadata": {
    "colab": {
      "name": "hotel-cancellation-pred-hack.ipynb",
      "provenance": [],
      "collapsed_sections": [],
      "authorship_tag": "ABX9TyMhenuV/ET+sJTDPbYrl/ek",
      "include_colab_link": true
    },
    "kernelspec": {
      "name": "python3",
      "display_name": "Python 3"
    },
    "language_info": {
      "name": "python"
    }
  },
  "cells": [
    {
      "cell_type": "markdown",
      "metadata": {
        "id": "view-in-github",
        "colab_type": "text"
      },
      "source": [
        "<a href=\"https://colab.research.google.com/github/jeyakumarvs/datascience/blob/main/hotel_cancellation_pred_hack.ipynb\" target=\"_parent\"><img src=\"https://colab.research.google.com/assets/colab-badge.svg\" alt=\"Open In Colab\"/></a>"
      ]
    },
    {
      "cell_type": "code",
      "metadata": {
        "id": "Vp7rZNQqqKh6"
      },
      "source": [
        "# If additional packages are needed but are not installed by default, uncomment the last two lines of this cell\n",
        "# and replace <package list> with a list of additional packages.\n",
        "# This will ensure the notebook has all the dependencies and works everywhere\n",
        "\n",
        "import sys\n",
        "import numpy as np\n",
        "from numpy import mean\n",
        "from numpy import std\n",
        "import pandas as pd\n",
        "import matplotlib.pyplot as plt\n",
        "import seaborn as sb\n",
        "\n",
        "from sklearn.model_selection import train_test_split\n",
        "\n",
        "#classification ml\n",
        "from sklearn.neighbors import KNeighborsClassifier\n",
        "from sklearn.ensemble import RandomForestClassifier\n",
        "from sklearn.ensemble import GradientBoostingClassifier\n",
        "\n",
        "#model selection\n",
        "from sklearn.model_selection import RandomizedSearchCV\n",
        "from sklearn.model_selection import GridSearchCV\n",
        "from sklearn.model_selection import RepeatedStratifiedKFold\n",
        "from sklearn.model_selection import cross_val_score\n",
        "\n",
        "#others\n",
        "from sklearn import metrics\n",
        "from sklearn.metrics import classification_report\n",
        "from sklearn.metrics import confusion_matrix"
      ],
      "execution_count": 95,
      "outputs": []
    },
    {
      "cell_type": "code",
      "metadata": {
        "id": "O-SEwCbHtdrv"
      },
      "source": [
        "# Libraries\n",
        "import pandas as pd\n",
        "pd.set_option(\"display.max_columns\", 101)"
      ],
      "execution_count": 96,
      "outputs": []
    },
    {
      "cell_type": "code",
      "metadata": {
        "id": "VDc01w63ths6"
      },
      "source": [
        "# <H1>Data Wrangling & Visualization</H1>"
      ],
      "execution_count": null,
      "outputs": []
    },
    {
      "cell_type": "code",
      "metadata": {
        "id": "s_rbLB8Otk0Q"
      },
      "source": [
        "# The dataset is already loaded below\n",
        "data = pd.read_csv(\"/content/hotel_bookings_hack.csv\")"
      ],
      "execution_count": 97,
      "outputs": []
    },
    {
      "cell_type": "code",
      "metadata": {
        "colab": {
          "base_uri": "https://localhost:8080/",
          "height": 194
        },
        "id": "NFb4_fOCue3E",
        "outputId": "3201a4a3-f894-4b02-c218-3239a3e5718d"
      },
      "source": [
        "data.head()"
      ],
      "execution_count": 98,
      "outputs": [
        {
          "output_type": "execute_result",
          "data": {
            "text/html": [
              "<div>\n",
              "<style scoped>\n",
              "    .dataframe tbody tr th:only-of-type {\n",
              "        vertical-align: middle;\n",
              "    }\n",
              "\n",
              "    .dataframe tbody tr th {\n",
              "        vertical-align: top;\n",
              "    }\n",
              "\n",
              "    .dataframe thead th {\n",
              "        text-align: right;\n",
              "    }\n",
              "</style>\n",
              "<table border=\"1\" class=\"dataframe\">\n",
              "  <thead>\n",
              "    <tr style=\"text-align: right;\">\n",
              "      <th></th>\n",
              "      <th>id</th>\n",
              "      <th>is_cancelled</th>\n",
              "      <th>lead_time</th>\n",
              "      <th>arrival_week</th>\n",
              "      <th>duration</th>\n",
              "      <th>segment</th>\n",
              "      <th>prev_cancel</th>\n",
              "      <th>booking_changes</th>\n",
              "      <th>deposit</th>\n",
              "      <th>waiting_period</th>\n",
              "      <th>per_Day_price</th>\n",
              "      <th>parking</th>\n",
              "      <th>special_request</th>\n",
              "      <th>cust_type</th>\n",
              "    </tr>\n",
              "  </thead>\n",
              "  <tbody>\n",
              "    <tr>\n",
              "      <th>0</th>\n",
              "      <td>1</td>\n",
              "      <td>0</td>\n",
              "      <td>342</td>\n",
              "      <td>27</td>\n",
              "      <td>0</td>\n",
              "      <td>Direct</td>\n",
              "      <td>0</td>\n",
              "      <td>3</td>\n",
              "      <td>No Deposit</td>\n",
              "      <td>0</td>\n",
              "      <td>0.0</td>\n",
              "      <td>0</td>\n",
              "      <td>0</td>\n",
              "      <td>Transient</td>\n",
              "    </tr>\n",
              "    <tr>\n",
              "      <th>1</th>\n",
              "      <td>2</td>\n",
              "      <td>0</td>\n",
              "      <td>737</td>\n",
              "      <td>27</td>\n",
              "      <td>0</td>\n",
              "      <td>Direct</td>\n",
              "      <td>0</td>\n",
              "      <td>4</td>\n",
              "      <td>No Deposit</td>\n",
              "      <td>0</td>\n",
              "      <td>0.0</td>\n",
              "      <td>0</td>\n",
              "      <td>0</td>\n",
              "      <td>Transient</td>\n",
              "    </tr>\n",
              "    <tr>\n",
              "      <th>2</th>\n",
              "      <td>3</td>\n",
              "      <td>0</td>\n",
              "      <td>7</td>\n",
              "      <td>27</td>\n",
              "      <td>1</td>\n",
              "      <td>Direct</td>\n",
              "      <td>0</td>\n",
              "      <td>0</td>\n",
              "      <td>No Deposit</td>\n",
              "      <td>0</td>\n",
              "      <td>75.0</td>\n",
              "      <td>0</td>\n",
              "      <td>0</td>\n",
              "      <td>Transient</td>\n",
              "    </tr>\n",
              "    <tr>\n",
              "      <th>3</th>\n",
              "      <td>4</td>\n",
              "      <td>0</td>\n",
              "      <td>13</td>\n",
              "      <td>27</td>\n",
              "      <td>1</td>\n",
              "      <td>Corporate</td>\n",
              "      <td>0</td>\n",
              "      <td>0</td>\n",
              "      <td>No Deposit</td>\n",
              "      <td>0</td>\n",
              "      <td>75.0</td>\n",
              "      <td>0</td>\n",
              "      <td>0</td>\n",
              "      <td>Transient</td>\n",
              "    </tr>\n",
              "    <tr>\n",
              "      <th>4</th>\n",
              "      <td>5</td>\n",
              "      <td>0</td>\n",
              "      <td>14</td>\n",
              "      <td>27</td>\n",
              "      <td>2</td>\n",
              "      <td>Online TA</td>\n",
              "      <td>0</td>\n",
              "      <td>0</td>\n",
              "      <td>No Deposit</td>\n",
              "      <td>0</td>\n",
              "      <td>98.0</td>\n",
              "      <td>0</td>\n",
              "      <td>1</td>\n",
              "      <td>Transient</td>\n",
              "    </tr>\n",
              "  </tbody>\n",
              "</table>\n",
              "</div>"
            ],
            "text/plain": [
              "   id  is_cancelled  lead_time  arrival_week  duration    segment  \\\n",
              "0   1             0        342            27         0     Direct   \n",
              "1   2             0        737            27         0     Direct   \n",
              "2   3             0          7            27         1     Direct   \n",
              "3   4             0         13            27         1  Corporate   \n",
              "4   5             0         14            27         2  Online TA   \n",
              "\n",
              "   prev_cancel  booking_changes     deposit  waiting_period  per_Day_price  \\\n",
              "0            0                3  No Deposit               0            0.0   \n",
              "1            0                4  No Deposit               0            0.0   \n",
              "2            0                0  No Deposit               0           75.0   \n",
              "3            0                0  No Deposit               0           75.0   \n",
              "4            0                0  No Deposit               0           98.0   \n",
              "\n",
              "   parking  special_request  cust_type  \n",
              "0        0                0  Transient  \n",
              "1        0                0  Transient  \n",
              "2        0                0  Transient  \n",
              "3        0                0  Transient  \n",
              "4        0                1  Transient  "
            ]
          },
          "metadata": {
            "tags": []
          },
          "execution_count": 98
        }
      ]
    },
    {
      "cell_type": "code",
      "metadata": {
        "colab": {
          "base_uri": "https://localhost:8080/"
        },
        "id": "GOWEVS0Fu3RL",
        "outputId": "f2688290-7450-4ee1-e025-5f9b05f86ff4"
      },
      "source": [
        "#Explore columns\n",
        "data.columns"
      ],
      "execution_count": 99,
      "outputs": [
        {
          "output_type": "execute_result",
          "data": {
            "text/plain": [
              "Index(['id', 'is_cancelled', 'lead_time', 'arrival_week', 'duration',\n",
              "       'segment', 'prev_cancel', 'booking_changes', 'deposit',\n",
              "       'waiting_period', 'per_Day_price', 'parking', 'special_request',\n",
              "       'cust_type'],\n",
              "      dtype='object')"
            ]
          },
          "metadata": {
            "tags": []
          },
          "execution_count": 99
        }
      ]
    },
    {
      "cell_type": "code",
      "metadata": {
        "colab": {
          "base_uri": "https://localhost:8080/",
          "height": 283
        },
        "id": "tMidMM1qu9KQ",
        "outputId": "08fc61f4-f9d2-4800-bf73-346012e6bbdd"
      },
      "source": [
        "data.describe()"
      ],
      "execution_count": 100,
      "outputs": [
        {
          "output_type": "execute_result",
          "data": {
            "text/html": [
              "<div>\n",
              "<style scoped>\n",
              "    .dataframe tbody tr th:only-of-type {\n",
              "        vertical-align: middle;\n",
              "    }\n",
              "\n",
              "    .dataframe tbody tr th {\n",
              "        vertical-align: top;\n",
              "    }\n",
              "\n",
              "    .dataframe thead th {\n",
              "        text-align: right;\n",
              "    }\n",
              "</style>\n",
              "<table border=\"1\" class=\"dataframe\">\n",
              "  <thead>\n",
              "    <tr style=\"text-align: right;\">\n",
              "      <th></th>\n",
              "      <th>id</th>\n",
              "      <th>is_cancelled</th>\n",
              "      <th>lead_time</th>\n",
              "      <th>arrival_week</th>\n",
              "      <th>duration</th>\n",
              "      <th>prev_cancel</th>\n",
              "      <th>booking_changes</th>\n",
              "      <th>waiting_period</th>\n",
              "      <th>per_Day_price</th>\n",
              "      <th>parking</th>\n",
              "      <th>special_request</th>\n",
              "    </tr>\n",
              "  </thead>\n",
              "  <tbody>\n",
              "    <tr>\n",
              "      <th>count</th>\n",
              "      <td>119390.000000</td>\n",
              "      <td>119390.000000</td>\n",
              "      <td>119390.000000</td>\n",
              "      <td>119390.000000</td>\n",
              "      <td>119390.000000</td>\n",
              "      <td>119390.000000</td>\n",
              "      <td>119390.000000</td>\n",
              "      <td>119390.000000</td>\n",
              "      <td>119390.000000</td>\n",
              "      <td>119390.000000</td>\n",
              "      <td>119390.000000</td>\n",
              "    </tr>\n",
              "    <tr>\n",
              "      <th>mean</th>\n",
              "      <td>59695.500000</td>\n",
              "      <td>0.370416</td>\n",
              "      <td>104.011416</td>\n",
              "      <td>27.165173</td>\n",
              "      <td>3.427900</td>\n",
              "      <td>0.087118</td>\n",
              "      <td>0.221124</td>\n",
              "      <td>2.321149</td>\n",
              "      <td>101.831122</td>\n",
              "      <td>0.062518</td>\n",
              "      <td>0.571363</td>\n",
              "    </tr>\n",
              "    <tr>\n",
              "      <th>std</th>\n",
              "      <td>34465.068657</td>\n",
              "      <td>0.482918</td>\n",
              "      <td>106.863097</td>\n",
              "      <td>13.605138</td>\n",
              "      <td>2.557439</td>\n",
              "      <td>0.844336</td>\n",
              "      <td>0.652306</td>\n",
              "      <td>17.594721</td>\n",
              "      <td>50.535790</td>\n",
              "      <td>0.245291</td>\n",
              "      <td>0.792798</td>\n",
              "    </tr>\n",
              "    <tr>\n",
              "      <th>min</th>\n",
              "      <td>1.000000</td>\n",
              "      <td>0.000000</td>\n",
              "      <td>0.000000</td>\n",
              "      <td>1.000000</td>\n",
              "      <td>0.000000</td>\n",
              "      <td>0.000000</td>\n",
              "      <td>0.000000</td>\n",
              "      <td>0.000000</td>\n",
              "      <td>-6.380000</td>\n",
              "      <td>0.000000</td>\n",
              "      <td>0.000000</td>\n",
              "    </tr>\n",
              "    <tr>\n",
              "      <th>25%</th>\n",
              "      <td>29848.250000</td>\n",
              "      <td>0.000000</td>\n",
              "      <td>18.000000</td>\n",
              "      <td>16.000000</td>\n",
              "      <td>2.000000</td>\n",
              "      <td>0.000000</td>\n",
              "      <td>0.000000</td>\n",
              "      <td>0.000000</td>\n",
              "      <td>69.290000</td>\n",
              "      <td>0.000000</td>\n",
              "      <td>0.000000</td>\n",
              "    </tr>\n",
              "    <tr>\n",
              "      <th>50%</th>\n",
              "      <td>59695.500000</td>\n",
              "      <td>0.000000</td>\n",
              "      <td>69.000000</td>\n",
              "      <td>28.000000</td>\n",
              "      <td>3.000000</td>\n",
              "      <td>0.000000</td>\n",
              "      <td>0.000000</td>\n",
              "      <td>0.000000</td>\n",
              "      <td>94.575000</td>\n",
              "      <td>0.000000</td>\n",
              "      <td>0.000000</td>\n",
              "    </tr>\n",
              "    <tr>\n",
              "      <th>75%</th>\n",
              "      <td>89542.750000</td>\n",
              "      <td>1.000000</td>\n",
              "      <td>160.000000</td>\n",
              "      <td>38.000000</td>\n",
              "      <td>4.000000</td>\n",
              "      <td>0.000000</td>\n",
              "      <td>0.000000</td>\n",
              "      <td>0.000000</td>\n",
              "      <td>126.000000</td>\n",
              "      <td>0.000000</td>\n",
              "      <td>1.000000</td>\n",
              "    </tr>\n",
              "    <tr>\n",
              "      <th>max</th>\n",
              "      <td>119390.000000</td>\n",
              "      <td>1.000000</td>\n",
              "      <td>737.000000</td>\n",
              "      <td>53.000000</td>\n",
              "      <td>69.000000</td>\n",
              "      <td>26.000000</td>\n",
              "      <td>21.000000</td>\n",
              "      <td>391.000000</td>\n",
              "      <td>5400.000000</td>\n",
              "      <td>8.000000</td>\n",
              "      <td>5.000000</td>\n",
              "    </tr>\n",
              "  </tbody>\n",
              "</table>\n",
              "</div>"
            ],
            "text/plain": [
              "                  id   is_cancelled      lead_time   arrival_week  \\\n",
              "count  119390.000000  119390.000000  119390.000000  119390.000000   \n",
              "mean    59695.500000       0.370416     104.011416      27.165173   \n",
              "std     34465.068657       0.482918     106.863097      13.605138   \n",
              "min         1.000000       0.000000       0.000000       1.000000   \n",
              "25%     29848.250000       0.000000      18.000000      16.000000   \n",
              "50%     59695.500000       0.000000      69.000000      28.000000   \n",
              "75%     89542.750000       1.000000     160.000000      38.000000   \n",
              "max    119390.000000       1.000000     737.000000      53.000000   \n",
              "\n",
              "            duration    prev_cancel  booking_changes  waiting_period  \\\n",
              "count  119390.000000  119390.000000    119390.000000   119390.000000   \n",
              "mean        3.427900       0.087118         0.221124        2.321149   \n",
              "std         2.557439       0.844336         0.652306       17.594721   \n",
              "min         0.000000       0.000000         0.000000        0.000000   \n",
              "25%         2.000000       0.000000         0.000000        0.000000   \n",
              "50%         3.000000       0.000000         0.000000        0.000000   \n",
              "75%         4.000000       0.000000         0.000000        0.000000   \n",
              "max        69.000000      26.000000        21.000000      391.000000   \n",
              "\n",
              "       per_Day_price        parking  special_request  \n",
              "count  119390.000000  119390.000000    119390.000000  \n",
              "mean      101.831122       0.062518         0.571363  \n",
              "std        50.535790       0.245291         0.792798  \n",
              "min        -6.380000       0.000000         0.000000  \n",
              "25%        69.290000       0.000000         0.000000  \n",
              "50%        94.575000       0.000000         0.000000  \n",
              "75%       126.000000       0.000000         1.000000  \n",
              "max      5400.000000       8.000000         5.000000  "
            ]
          },
          "metadata": {
            "tags": []
          },
          "execution_count": 100
        }
      ]
    },
    {
      "cell_type": "code",
      "metadata": {
        "colab": {
          "base_uri": "https://localhost:8080/"
        },
        "id": "BSK-pacSvCF4",
        "outputId": "d11f2ee7-716e-483f-f768-64f2f657daa4"
      },
      "source": [
        "#based on this information, there is no missing data; so, no need to worry about the filling the missing data\n",
        "data.info()"
      ],
      "execution_count": 101,
      "outputs": [
        {
          "output_type": "stream",
          "text": [
            "<class 'pandas.core.frame.DataFrame'>\n",
            "RangeIndex: 119390 entries, 0 to 119389\n",
            "Data columns (total 14 columns):\n",
            " #   Column           Non-Null Count   Dtype  \n",
            "---  ------           --------------   -----  \n",
            " 0   id               119390 non-null  int64  \n",
            " 1   is_cancelled     119390 non-null  int64  \n",
            " 2   lead_time        119390 non-null  int64  \n",
            " 3   arrival_week     119390 non-null  int64  \n",
            " 4   duration         119390 non-null  int64  \n",
            " 5   segment          119390 non-null  object \n",
            " 6   prev_cancel      119390 non-null  int64  \n",
            " 7   booking_changes  119390 non-null  int64  \n",
            " 8   deposit          119390 non-null  object \n",
            " 9   waiting_period   119390 non-null  int64  \n",
            " 10  per_Day_price    119390 non-null  float64\n",
            " 11  parking          119390 non-null  int64  \n",
            " 12  special_request  119390 non-null  int64  \n",
            " 13  cust_type        119390 non-null  object \n",
            "dtypes: float64(1), int64(10), object(3)\n",
            "memory usage: 12.8+ MB\n"
          ],
          "name": "stdout"
        }
      ]
    },
    {
      "cell_type": "code",
      "metadata": {
        "id": "JtGhmElGvKJE"
      },
      "source": [
        "#while concert the categorical varibles into Numerical varialble, noticed an issue in the data \n",
        "#data bas spaces in the trailing end and that makes the column names with trailing spaces\n",
        "\n",
        "data[\"deposit2\"] = data[\"deposit\"].map(lambda x : x.strip())\n",
        "data[\"cust_type2\"] = data[\"cust_type\"].map(lambda x : x.strip())\n",
        "data[\"segment2\"] = data[\"segment\"].map(lambda x : x.strip())"
      ],
      "execution_count": 102,
      "outputs": []
    },
    {
      "cell_type": "code",
      "metadata": {
        "colab": {
          "base_uri": "https://localhost:8080/",
          "height": 194
        },
        "id": "BA3oWl6cvKLZ",
        "outputId": "673d3b14-030b-4540-8ad1-b68d9f60dbbb"
      },
      "source": [
        "data.head()"
      ],
      "execution_count": 103,
      "outputs": [
        {
          "output_type": "execute_result",
          "data": {
            "text/html": [
              "<div>\n",
              "<style scoped>\n",
              "    .dataframe tbody tr th:only-of-type {\n",
              "        vertical-align: middle;\n",
              "    }\n",
              "\n",
              "    .dataframe tbody tr th {\n",
              "        vertical-align: top;\n",
              "    }\n",
              "\n",
              "    .dataframe thead th {\n",
              "        text-align: right;\n",
              "    }\n",
              "</style>\n",
              "<table border=\"1\" class=\"dataframe\">\n",
              "  <thead>\n",
              "    <tr style=\"text-align: right;\">\n",
              "      <th></th>\n",
              "      <th>id</th>\n",
              "      <th>is_cancelled</th>\n",
              "      <th>lead_time</th>\n",
              "      <th>arrival_week</th>\n",
              "      <th>duration</th>\n",
              "      <th>segment</th>\n",
              "      <th>prev_cancel</th>\n",
              "      <th>booking_changes</th>\n",
              "      <th>deposit</th>\n",
              "      <th>waiting_period</th>\n",
              "      <th>per_Day_price</th>\n",
              "      <th>parking</th>\n",
              "      <th>special_request</th>\n",
              "      <th>cust_type</th>\n",
              "      <th>deposit2</th>\n",
              "      <th>cust_type2</th>\n",
              "      <th>segment2</th>\n",
              "    </tr>\n",
              "  </thead>\n",
              "  <tbody>\n",
              "    <tr>\n",
              "      <th>0</th>\n",
              "      <td>1</td>\n",
              "      <td>0</td>\n",
              "      <td>342</td>\n",
              "      <td>27</td>\n",
              "      <td>0</td>\n",
              "      <td>Direct</td>\n",
              "      <td>0</td>\n",
              "      <td>3</td>\n",
              "      <td>No Deposit</td>\n",
              "      <td>0</td>\n",
              "      <td>0.0</td>\n",
              "      <td>0</td>\n",
              "      <td>0</td>\n",
              "      <td>Transient</td>\n",
              "      <td>No Deposit</td>\n",
              "      <td>Transient</td>\n",
              "      <td>Direct</td>\n",
              "    </tr>\n",
              "    <tr>\n",
              "      <th>1</th>\n",
              "      <td>2</td>\n",
              "      <td>0</td>\n",
              "      <td>737</td>\n",
              "      <td>27</td>\n",
              "      <td>0</td>\n",
              "      <td>Direct</td>\n",
              "      <td>0</td>\n",
              "      <td>4</td>\n",
              "      <td>No Deposit</td>\n",
              "      <td>0</td>\n",
              "      <td>0.0</td>\n",
              "      <td>0</td>\n",
              "      <td>0</td>\n",
              "      <td>Transient</td>\n",
              "      <td>No Deposit</td>\n",
              "      <td>Transient</td>\n",
              "      <td>Direct</td>\n",
              "    </tr>\n",
              "    <tr>\n",
              "      <th>2</th>\n",
              "      <td>3</td>\n",
              "      <td>0</td>\n",
              "      <td>7</td>\n",
              "      <td>27</td>\n",
              "      <td>1</td>\n",
              "      <td>Direct</td>\n",
              "      <td>0</td>\n",
              "      <td>0</td>\n",
              "      <td>No Deposit</td>\n",
              "      <td>0</td>\n",
              "      <td>75.0</td>\n",
              "      <td>0</td>\n",
              "      <td>0</td>\n",
              "      <td>Transient</td>\n",
              "      <td>No Deposit</td>\n",
              "      <td>Transient</td>\n",
              "      <td>Direct</td>\n",
              "    </tr>\n",
              "    <tr>\n",
              "      <th>3</th>\n",
              "      <td>4</td>\n",
              "      <td>0</td>\n",
              "      <td>13</td>\n",
              "      <td>27</td>\n",
              "      <td>1</td>\n",
              "      <td>Corporate</td>\n",
              "      <td>0</td>\n",
              "      <td>0</td>\n",
              "      <td>No Deposit</td>\n",
              "      <td>0</td>\n",
              "      <td>75.0</td>\n",
              "      <td>0</td>\n",
              "      <td>0</td>\n",
              "      <td>Transient</td>\n",
              "      <td>No Deposit</td>\n",
              "      <td>Transient</td>\n",
              "      <td>Corporate</td>\n",
              "    </tr>\n",
              "    <tr>\n",
              "      <th>4</th>\n",
              "      <td>5</td>\n",
              "      <td>0</td>\n",
              "      <td>14</td>\n",
              "      <td>27</td>\n",
              "      <td>2</td>\n",
              "      <td>Online TA</td>\n",
              "      <td>0</td>\n",
              "      <td>0</td>\n",
              "      <td>No Deposit</td>\n",
              "      <td>0</td>\n",
              "      <td>98.0</td>\n",
              "      <td>0</td>\n",
              "      <td>1</td>\n",
              "      <td>Transient</td>\n",
              "      <td>No Deposit</td>\n",
              "      <td>Transient</td>\n",
              "      <td>Online TA</td>\n",
              "    </tr>\n",
              "  </tbody>\n",
              "</table>\n",
              "</div>"
            ],
            "text/plain": [
              "   id  is_cancelled  lead_time  arrival_week  duration    segment  \\\n",
              "0   1             0        342            27         0     Direct   \n",
              "1   2             0        737            27         0     Direct   \n",
              "2   3             0          7            27         1     Direct   \n",
              "3   4             0         13            27         1  Corporate   \n",
              "4   5             0         14            27         2  Online TA   \n",
              "\n",
              "   prev_cancel  booking_changes     deposit  waiting_period  per_Day_price  \\\n",
              "0            0                3  No Deposit               0            0.0   \n",
              "1            0                4  No Deposit               0            0.0   \n",
              "2            0                0  No Deposit               0           75.0   \n",
              "3            0                0  No Deposit               0           75.0   \n",
              "4            0                0  No Deposit               0           98.0   \n",
              "\n",
              "   parking  special_request  cust_type    deposit2 cust_type2   segment2  \n",
              "0        0                0  Transient  No Deposit  Transient     Direct  \n",
              "1        0                0  Transient  No Deposit  Transient     Direct  \n",
              "2        0                0  Transient  No Deposit  Transient     Direct  \n",
              "3        0                0  Transient  No Deposit  Transient  Corporate  \n",
              "4        0                1  Transient  No Deposit  Transient  Online TA  "
            ]
          },
          "metadata": {
            "tags": []
          },
          "execution_count": 103
        }
      ]
    },
    {
      "cell_type": "code",
      "metadata": {
        "id": "FOXqY3UGvKN2"
      },
      "source": [
        " # Visualization, Modeling, Machine Learning"
      ],
      "execution_count": 18,
      "outputs": []
    },
    {
      "cell_type": "code",
      "metadata": {
        "colab": {
          "base_uri": "https://localhost:8080/"
        },
        "id": "IqlLHhcHwBZI",
        "outputId": "6bd23ad0-7f6c-4b0f-8f43-66f0063749b7"
      },
      "source": [
        "data.is_cancelled.value_counts()"
      ],
      "execution_count": 104,
      "outputs": [
        {
          "output_type": "execute_result",
          "data": {
            "text/plain": [
              "0    75166\n",
              "1    44224\n",
              "Name: is_cancelled, dtype: int64"
            ]
          },
          "metadata": {
            "tags": []
          },
          "execution_count": 104
        }
      ]
    },
    {
      "cell_type": "code",
      "metadata": {
        "colab": {
          "base_uri": "https://localhost:8080/"
        },
        "id": "B9DQXAZKwBbn",
        "outputId": "c1467f68-41eb-4502-fd72-64a8c91f3a31"
      },
      "source": [
        "data.segment.value_counts()"
      ],
      "execution_count": 105,
      "outputs": [
        {
          "output_type": "execute_result",
          "data": {
            "text/plain": [
              "Online TA        56477\n",
              "Offline TA/TO    24219\n",
              "Groups           19811\n",
              "Direct           12606\n",
              "Corporate         5295\n",
              "Complementary      743\n",
              "Aviation           237\n",
              "Undefined            2\n",
              "Name: segment, dtype: int64"
            ]
          },
          "metadata": {
            "tags": []
          },
          "execution_count": 105
        }
      ]
    },
    {
      "cell_type": "code",
      "metadata": {
        "colab": {
          "base_uri": "https://localhost:8080/"
        },
        "id": "9r79AbU_wBeI",
        "outputId": "f10aab2b-5350-4227-a9ff-4ce38a1e4b5b"
      },
      "source": [
        "data.deposit.value_counts()"
      ],
      "execution_count": 106,
      "outputs": [
        {
          "output_type": "execute_result",
          "data": {
            "text/plain": [
              "No Deposit    104641\n",
              "Non Refund     14587\n",
              "Refundable       162\n",
              "Name: deposit, dtype: int64"
            ]
          },
          "metadata": {
            "tags": []
          },
          "execution_count": 106
        }
      ]
    },
    {
      "cell_type": "code",
      "metadata": {
        "colab": {
          "base_uri": "https://localhost:8080/"
        },
        "id": "U_BfB8Y2wBgi",
        "outputId": "089406ea-d456-409c-bb2e-09bc7e0bb8ea"
      },
      "source": [
        "data.cust_type.value_counts()"
      ],
      "execution_count": 107,
      "outputs": [
        {
          "output_type": "execute_result",
          "data": {
            "text/plain": [
              "Transient          89613\n",
              "Transient-Party    25124\n",
              "Contract            4076\n",
              "Group                577\n",
              "Name: cust_type, dtype: int64"
            ]
          },
          "metadata": {
            "tags": []
          },
          "execution_count": 107
        }
      ]
    },
    {
      "cell_type": "code",
      "metadata": {
        "colab": {
          "base_uri": "https://localhost:8080/",
          "height": 315
        },
        "id": "u0SEQ5pkz9to",
        "outputId": "1391ebd4-03c2-46f9-ed7d-d190e13247e0"
      },
      "source": [
        "#Before generate the the corelation matrix, the categorical variables needs to be converted into Numertical variables\n",
        "\n",
        "#******************************************\n",
        "# *** 1 hot encoding is being used here ***\n",
        "#******************************************\n",
        "\n",
        "#1 segment\n",
        "data_seg = data[\"segment2\"]\n",
        "\n",
        "dum_df1 = pd.get_dummies(data_seg, columns=[\"segment2\"], prefix=\"seg\")\n",
        "dum_df1.head(10)\n",
        "\n",
        "#add these features into the main training df\n",
        "data = data.join(dum_df1)\n",
        "\n",
        "data.head()"
      ],
      "execution_count": 108,
      "outputs": [
        {
          "output_type": "execute_result",
          "data": {
            "text/html": [
              "<div>\n",
              "<style scoped>\n",
              "    .dataframe tbody tr th:only-of-type {\n",
              "        vertical-align: middle;\n",
              "    }\n",
              "\n",
              "    .dataframe tbody tr th {\n",
              "        vertical-align: top;\n",
              "    }\n",
              "\n",
              "    .dataframe thead th {\n",
              "        text-align: right;\n",
              "    }\n",
              "</style>\n",
              "<table border=\"1\" class=\"dataframe\">\n",
              "  <thead>\n",
              "    <tr style=\"text-align: right;\">\n",
              "      <th></th>\n",
              "      <th>id</th>\n",
              "      <th>is_cancelled</th>\n",
              "      <th>lead_time</th>\n",
              "      <th>arrival_week</th>\n",
              "      <th>duration</th>\n",
              "      <th>segment</th>\n",
              "      <th>prev_cancel</th>\n",
              "      <th>booking_changes</th>\n",
              "      <th>deposit</th>\n",
              "      <th>waiting_period</th>\n",
              "      <th>per_Day_price</th>\n",
              "      <th>parking</th>\n",
              "      <th>special_request</th>\n",
              "      <th>cust_type</th>\n",
              "      <th>deposit2</th>\n",
              "      <th>cust_type2</th>\n",
              "      <th>segment2</th>\n",
              "      <th>seg_Aviation</th>\n",
              "      <th>seg_Complementary</th>\n",
              "      <th>seg_Corporate</th>\n",
              "      <th>seg_Direct</th>\n",
              "      <th>seg_Groups</th>\n",
              "      <th>seg_Offline TA/TO</th>\n",
              "      <th>seg_Online TA</th>\n",
              "      <th>seg_Undefined</th>\n",
              "    </tr>\n",
              "  </thead>\n",
              "  <tbody>\n",
              "    <tr>\n",
              "      <th>0</th>\n",
              "      <td>1</td>\n",
              "      <td>0</td>\n",
              "      <td>342</td>\n",
              "      <td>27</td>\n",
              "      <td>0</td>\n",
              "      <td>Direct</td>\n",
              "      <td>0</td>\n",
              "      <td>3</td>\n",
              "      <td>No Deposit</td>\n",
              "      <td>0</td>\n",
              "      <td>0.0</td>\n",
              "      <td>0</td>\n",
              "      <td>0</td>\n",
              "      <td>Transient</td>\n",
              "      <td>No Deposit</td>\n",
              "      <td>Transient</td>\n",
              "      <td>Direct</td>\n",
              "      <td>0</td>\n",
              "      <td>0</td>\n",
              "      <td>0</td>\n",
              "      <td>1</td>\n",
              "      <td>0</td>\n",
              "      <td>0</td>\n",
              "      <td>0</td>\n",
              "      <td>0</td>\n",
              "    </tr>\n",
              "    <tr>\n",
              "      <th>1</th>\n",
              "      <td>2</td>\n",
              "      <td>0</td>\n",
              "      <td>737</td>\n",
              "      <td>27</td>\n",
              "      <td>0</td>\n",
              "      <td>Direct</td>\n",
              "      <td>0</td>\n",
              "      <td>4</td>\n",
              "      <td>No Deposit</td>\n",
              "      <td>0</td>\n",
              "      <td>0.0</td>\n",
              "      <td>0</td>\n",
              "      <td>0</td>\n",
              "      <td>Transient</td>\n",
              "      <td>No Deposit</td>\n",
              "      <td>Transient</td>\n",
              "      <td>Direct</td>\n",
              "      <td>0</td>\n",
              "      <td>0</td>\n",
              "      <td>0</td>\n",
              "      <td>1</td>\n",
              "      <td>0</td>\n",
              "      <td>0</td>\n",
              "      <td>0</td>\n",
              "      <td>0</td>\n",
              "    </tr>\n",
              "    <tr>\n",
              "      <th>2</th>\n",
              "      <td>3</td>\n",
              "      <td>0</td>\n",
              "      <td>7</td>\n",
              "      <td>27</td>\n",
              "      <td>1</td>\n",
              "      <td>Direct</td>\n",
              "      <td>0</td>\n",
              "      <td>0</td>\n",
              "      <td>No Deposit</td>\n",
              "      <td>0</td>\n",
              "      <td>75.0</td>\n",
              "      <td>0</td>\n",
              "      <td>0</td>\n",
              "      <td>Transient</td>\n",
              "      <td>No Deposit</td>\n",
              "      <td>Transient</td>\n",
              "      <td>Direct</td>\n",
              "      <td>0</td>\n",
              "      <td>0</td>\n",
              "      <td>0</td>\n",
              "      <td>1</td>\n",
              "      <td>0</td>\n",
              "      <td>0</td>\n",
              "      <td>0</td>\n",
              "      <td>0</td>\n",
              "    </tr>\n",
              "    <tr>\n",
              "      <th>3</th>\n",
              "      <td>4</td>\n",
              "      <td>0</td>\n",
              "      <td>13</td>\n",
              "      <td>27</td>\n",
              "      <td>1</td>\n",
              "      <td>Corporate</td>\n",
              "      <td>0</td>\n",
              "      <td>0</td>\n",
              "      <td>No Deposit</td>\n",
              "      <td>0</td>\n",
              "      <td>75.0</td>\n",
              "      <td>0</td>\n",
              "      <td>0</td>\n",
              "      <td>Transient</td>\n",
              "      <td>No Deposit</td>\n",
              "      <td>Transient</td>\n",
              "      <td>Corporate</td>\n",
              "      <td>0</td>\n",
              "      <td>0</td>\n",
              "      <td>1</td>\n",
              "      <td>0</td>\n",
              "      <td>0</td>\n",
              "      <td>0</td>\n",
              "      <td>0</td>\n",
              "      <td>0</td>\n",
              "    </tr>\n",
              "    <tr>\n",
              "      <th>4</th>\n",
              "      <td>5</td>\n",
              "      <td>0</td>\n",
              "      <td>14</td>\n",
              "      <td>27</td>\n",
              "      <td>2</td>\n",
              "      <td>Online TA</td>\n",
              "      <td>0</td>\n",
              "      <td>0</td>\n",
              "      <td>No Deposit</td>\n",
              "      <td>0</td>\n",
              "      <td>98.0</td>\n",
              "      <td>0</td>\n",
              "      <td>1</td>\n",
              "      <td>Transient</td>\n",
              "      <td>No Deposit</td>\n",
              "      <td>Transient</td>\n",
              "      <td>Online TA</td>\n",
              "      <td>0</td>\n",
              "      <td>0</td>\n",
              "      <td>0</td>\n",
              "      <td>0</td>\n",
              "      <td>0</td>\n",
              "      <td>0</td>\n",
              "      <td>1</td>\n",
              "      <td>0</td>\n",
              "    </tr>\n",
              "  </tbody>\n",
              "</table>\n",
              "</div>"
            ],
            "text/plain": [
              "   id  is_cancelled  lead_time  arrival_week  duration    segment  \\\n",
              "0   1             0        342            27         0     Direct   \n",
              "1   2             0        737            27         0     Direct   \n",
              "2   3             0          7            27         1     Direct   \n",
              "3   4             0         13            27         1  Corporate   \n",
              "4   5             0         14            27         2  Online TA   \n",
              "\n",
              "   prev_cancel  booking_changes     deposit  waiting_period  per_Day_price  \\\n",
              "0            0                3  No Deposit               0            0.0   \n",
              "1            0                4  No Deposit               0            0.0   \n",
              "2            0                0  No Deposit               0           75.0   \n",
              "3            0                0  No Deposit               0           75.0   \n",
              "4            0                0  No Deposit               0           98.0   \n",
              "\n",
              "   parking  special_request  cust_type    deposit2 cust_type2   segment2  \\\n",
              "0        0                0  Transient  No Deposit  Transient     Direct   \n",
              "1        0                0  Transient  No Deposit  Transient     Direct   \n",
              "2        0                0  Transient  No Deposit  Transient     Direct   \n",
              "3        0                0  Transient  No Deposit  Transient  Corporate   \n",
              "4        0                1  Transient  No Deposit  Transient  Online TA   \n",
              "\n",
              "   seg_Aviation  seg_Complementary  seg_Corporate  seg_Direct  seg_Groups  \\\n",
              "0             0                  0              0           1           0   \n",
              "1             0                  0              0           1           0   \n",
              "2             0                  0              0           1           0   \n",
              "3             0                  0              1           0           0   \n",
              "4             0                  0              0           0           0   \n",
              "\n",
              "   seg_Offline TA/TO  seg_Online TA  seg_Undefined  \n",
              "0                  0              0              0  \n",
              "1                  0              0              0  \n",
              "2                  0              0              0  \n",
              "3                  0              0              0  \n",
              "4                  0              1              0  "
            ]
          },
          "metadata": {
            "tags": []
          },
          "execution_count": 108
        }
      ]
    },
    {
      "cell_type": "code",
      "metadata": {
        "colab": {
          "base_uri": "https://localhost:8080/",
          "height": 315
        },
        "id": "2sAK91Qq0JUk",
        "outputId": "fb8fed26-75f7-4280-9498-bc72eff2b7c3"
      },
      "source": [
        "#2 cust_type (use the second column with he the spaces at the end gor trimmed)\n",
        "data_ctyp = data[\"cust_type2\"]\n",
        "\n",
        "dum_df2 = pd.get_dummies(data_ctyp, columns=[\"cust_type2\"], prefix=\"ctyp\")\n",
        "dum_df2.head(10)\n",
        "\n",
        "#add these features into the main training df\n",
        "data = data.join(dum_df2)\n",
        "\n",
        "data.head()"
      ],
      "execution_count": 109,
      "outputs": [
        {
          "output_type": "execute_result",
          "data": {
            "text/html": [
              "<div>\n",
              "<style scoped>\n",
              "    .dataframe tbody tr th:only-of-type {\n",
              "        vertical-align: middle;\n",
              "    }\n",
              "\n",
              "    .dataframe tbody tr th {\n",
              "        vertical-align: top;\n",
              "    }\n",
              "\n",
              "    .dataframe thead th {\n",
              "        text-align: right;\n",
              "    }\n",
              "</style>\n",
              "<table border=\"1\" class=\"dataframe\">\n",
              "  <thead>\n",
              "    <tr style=\"text-align: right;\">\n",
              "      <th></th>\n",
              "      <th>id</th>\n",
              "      <th>is_cancelled</th>\n",
              "      <th>lead_time</th>\n",
              "      <th>arrival_week</th>\n",
              "      <th>duration</th>\n",
              "      <th>segment</th>\n",
              "      <th>prev_cancel</th>\n",
              "      <th>booking_changes</th>\n",
              "      <th>deposit</th>\n",
              "      <th>waiting_period</th>\n",
              "      <th>per_Day_price</th>\n",
              "      <th>parking</th>\n",
              "      <th>special_request</th>\n",
              "      <th>cust_type</th>\n",
              "      <th>deposit2</th>\n",
              "      <th>cust_type2</th>\n",
              "      <th>segment2</th>\n",
              "      <th>seg_Aviation</th>\n",
              "      <th>seg_Complementary</th>\n",
              "      <th>seg_Corporate</th>\n",
              "      <th>seg_Direct</th>\n",
              "      <th>seg_Groups</th>\n",
              "      <th>seg_Offline TA/TO</th>\n",
              "      <th>seg_Online TA</th>\n",
              "      <th>seg_Undefined</th>\n",
              "      <th>ctyp_Contract</th>\n",
              "      <th>ctyp_Group</th>\n",
              "      <th>ctyp_Transient</th>\n",
              "      <th>ctyp_Transient-Party</th>\n",
              "    </tr>\n",
              "  </thead>\n",
              "  <tbody>\n",
              "    <tr>\n",
              "      <th>0</th>\n",
              "      <td>1</td>\n",
              "      <td>0</td>\n",
              "      <td>342</td>\n",
              "      <td>27</td>\n",
              "      <td>0</td>\n",
              "      <td>Direct</td>\n",
              "      <td>0</td>\n",
              "      <td>3</td>\n",
              "      <td>No Deposit</td>\n",
              "      <td>0</td>\n",
              "      <td>0.0</td>\n",
              "      <td>0</td>\n",
              "      <td>0</td>\n",
              "      <td>Transient</td>\n",
              "      <td>No Deposit</td>\n",
              "      <td>Transient</td>\n",
              "      <td>Direct</td>\n",
              "      <td>0</td>\n",
              "      <td>0</td>\n",
              "      <td>0</td>\n",
              "      <td>1</td>\n",
              "      <td>0</td>\n",
              "      <td>0</td>\n",
              "      <td>0</td>\n",
              "      <td>0</td>\n",
              "      <td>0</td>\n",
              "      <td>0</td>\n",
              "      <td>1</td>\n",
              "      <td>0</td>\n",
              "    </tr>\n",
              "    <tr>\n",
              "      <th>1</th>\n",
              "      <td>2</td>\n",
              "      <td>0</td>\n",
              "      <td>737</td>\n",
              "      <td>27</td>\n",
              "      <td>0</td>\n",
              "      <td>Direct</td>\n",
              "      <td>0</td>\n",
              "      <td>4</td>\n",
              "      <td>No Deposit</td>\n",
              "      <td>0</td>\n",
              "      <td>0.0</td>\n",
              "      <td>0</td>\n",
              "      <td>0</td>\n",
              "      <td>Transient</td>\n",
              "      <td>No Deposit</td>\n",
              "      <td>Transient</td>\n",
              "      <td>Direct</td>\n",
              "      <td>0</td>\n",
              "      <td>0</td>\n",
              "      <td>0</td>\n",
              "      <td>1</td>\n",
              "      <td>0</td>\n",
              "      <td>0</td>\n",
              "      <td>0</td>\n",
              "      <td>0</td>\n",
              "      <td>0</td>\n",
              "      <td>0</td>\n",
              "      <td>1</td>\n",
              "      <td>0</td>\n",
              "    </tr>\n",
              "    <tr>\n",
              "      <th>2</th>\n",
              "      <td>3</td>\n",
              "      <td>0</td>\n",
              "      <td>7</td>\n",
              "      <td>27</td>\n",
              "      <td>1</td>\n",
              "      <td>Direct</td>\n",
              "      <td>0</td>\n",
              "      <td>0</td>\n",
              "      <td>No Deposit</td>\n",
              "      <td>0</td>\n",
              "      <td>75.0</td>\n",
              "      <td>0</td>\n",
              "      <td>0</td>\n",
              "      <td>Transient</td>\n",
              "      <td>No Deposit</td>\n",
              "      <td>Transient</td>\n",
              "      <td>Direct</td>\n",
              "      <td>0</td>\n",
              "      <td>0</td>\n",
              "      <td>0</td>\n",
              "      <td>1</td>\n",
              "      <td>0</td>\n",
              "      <td>0</td>\n",
              "      <td>0</td>\n",
              "      <td>0</td>\n",
              "      <td>0</td>\n",
              "      <td>0</td>\n",
              "      <td>1</td>\n",
              "      <td>0</td>\n",
              "    </tr>\n",
              "    <tr>\n",
              "      <th>3</th>\n",
              "      <td>4</td>\n",
              "      <td>0</td>\n",
              "      <td>13</td>\n",
              "      <td>27</td>\n",
              "      <td>1</td>\n",
              "      <td>Corporate</td>\n",
              "      <td>0</td>\n",
              "      <td>0</td>\n",
              "      <td>No Deposit</td>\n",
              "      <td>0</td>\n",
              "      <td>75.0</td>\n",
              "      <td>0</td>\n",
              "      <td>0</td>\n",
              "      <td>Transient</td>\n",
              "      <td>No Deposit</td>\n",
              "      <td>Transient</td>\n",
              "      <td>Corporate</td>\n",
              "      <td>0</td>\n",
              "      <td>0</td>\n",
              "      <td>1</td>\n",
              "      <td>0</td>\n",
              "      <td>0</td>\n",
              "      <td>0</td>\n",
              "      <td>0</td>\n",
              "      <td>0</td>\n",
              "      <td>0</td>\n",
              "      <td>0</td>\n",
              "      <td>1</td>\n",
              "      <td>0</td>\n",
              "    </tr>\n",
              "    <tr>\n",
              "      <th>4</th>\n",
              "      <td>5</td>\n",
              "      <td>0</td>\n",
              "      <td>14</td>\n",
              "      <td>27</td>\n",
              "      <td>2</td>\n",
              "      <td>Online TA</td>\n",
              "      <td>0</td>\n",
              "      <td>0</td>\n",
              "      <td>No Deposit</td>\n",
              "      <td>0</td>\n",
              "      <td>98.0</td>\n",
              "      <td>0</td>\n",
              "      <td>1</td>\n",
              "      <td>Transient</td>\n",
              "      <td>No Deposit</td>\n",
              "      <td>Transient</td>\n",
              "      <td>Online TA</td>\n",
              "      <td>0</td>\n",
              "      <td>0</td>\n",
              "      <td>0</td>\n",
              "      <td>0</td>\n",
              "      <td>0</td>\n",
              "      <td>0</td>\n",
              "      <td>1</td>\n",
              "      <td>0</td>\n",
              "      <td>0</td>\n",
              "      <td>0</td>\n",
              "      <td>1</td>\n",
              "      <td>0</td>\n",
              "    </tr>\n",
              "  </tbody>\n",
              "</table>\n",
              "</div>"
            ],
            "text/plain": [
              "   id  is_cancelled  lead_time  arrival_week  duration    segment  \\\n",
              "0   1             0        342            27         0     Direct   \n",
              "1   2             0        737            27         0     Direct   \n",
              "2   3             0          7            27         1     Direct   \n",
              "3   4             0         13            27         1  Corporate   \n",
              "4   5             0         14            27         2  Online TA   \n",
              "\n",
              "   prev_cancel  booking_changes     deposit  waiting_period  per_Day_price  \\\n",
              "0            0                3  No Deposit               0            0.0   \n",
              "1            0                4  No Deposit               0            0.0   \n",
              "2            0                0  No Deposit               0           75.0   \n",
              "3            0                0  No Deposit               0           75.0   \n",
              "4            0                0  No Deposit               0           98.0   \n",
              "\n",
              "   parking  special_request  cust_type    deposit2 cust_type2   segment2  \\\n",
              "0        0                0  Transient  No Deposit  Transient     Direct   \n",
              "1        0                0  Transient  No Deposit  Transient     Direct   \n",
              "2        0                0  Transient  No Deposit  Transient     Direct   \n",
              "3        0                0  Transient  No Deposit  Transient  Corporate   \n",
              "4        0                1  Transient  No Deposit  Transient  Online TA   \n",
              "\n",
              "   seg_Aviation  seg_Complementary  seg_Corporate  seg_Direct  seg_Groups  \\\n",
              "0             0                  0              0           1           0   \n",
              "1             0                  0              0           1           0   \n",
              "2             0                  0              0           1           0   \n",
              "3             0                  0              1           0           0   \n",
              "4             0                  0              0           0           0   \n",
              "\n",
              "   seg_Offline TA/TO  seg_Online TA  seg_Undefined  ctyp_Contract  ctyp_Group  \\\n",
              "0                  0              0              0              0           0   \n",
              "1                  0              0              0              0           0   \n",
              "2                  0              0              0              0           0   \n",
              "3                  0              0              0              0           0   \n",
              "4                  0              1              0              0           0   \n",
              "\n",
              "   ctyp_Transient  ctyp_Transient-Party  \n",
              "0               1                     0  \n",
              "1               1                     0  \n",
              "2               1                     0  \n",
              "3               1                     0  \n",
              "4               1                     0  "
            ]
          },
          "metadata": {
            "tags": []
          },
          "execution_count": 109
        }
      ]
    },
    {
      "cell_type": "code",
      "metadata": {
        "colab": {
          "base_uri": "https://localhost:8080/",
          "height": 315
        },
        "id": "l_HvtEQl0JXd",
        "outputId": "4dd38fac-982f-482c-8b8a-3927f5872d35"
      },
      "source": [
        "#3 deposit (use the second column with he the spaces at the end gor trimmed)\n",
        "data_dep = data[\"deposit2\"]\n",
        "\n",
        "dum_df3 = pd.get_dummies(data_dep, columns=[\"deposit2\"], prefix=\"dep\")\n",
        "dum_df3.head(10)\n",
        "\n",
        "#add these features into the main training df\n",
        "data = data.join(dum_df3)\n",
        "\n",
        "data.head()"
      ],
      "execution_count": 110,
      "outputs": [
        {
          "output_type": "execute_result",
          "data": {
            "text/html": [
              "<div>\n",
              "<style scoped>\n",
              "    .dataframe tbody tr th:only-of-type {\n",
              "        vertical-align: middle;\n",
              "    }\n",
              "\n",
              "    .dataframe tbody tr th {\n",
              "        vertical-align: top;\n",
              "    }\n",
              "\n",
              "    .dataframe thead th {\n",
              "        text-align: right;\n",
              "    }\n",
              "</style>\n",
              "<table border=\"1\" class=\"dataframe\">\n",
              "  <thead>\n",
              "    <tr style=\"text-align: right;\">\n",
              "      <th></th>\n",
              "      <th>id</th>\n",
              "      <th>is_cancelled</th>\n",
              "      <th>lead_time</th>\n",
              "      <th>arrival_week</th>\n",
              "      <th>duration</th>\n",
              "      <th>segment</th>\n",
              "      <th>prev_cancel</th>\n",
              "      <th>booking_changes</th>\n",
              "      <th>deposit</th>\n",
              "      <th>waiting_period</th>\n",
              "      <th>per_Day_price</th>\n",
              "      <th>parking</th>\n",
              "      <th>special_request</th>\n",
              "      <th>cust_type</th>\n",
              "      <th>deposit2</th>\n",
              "      <th>cust_type2</th>\n",
              "      <th>segment2</th>\n",
              "      <th>seg_Aviation</th>\n",
              "      <th>seg_Complementary</th>\n",
              "      <th>seg_Corporate</th>\n",
              "      <th>seg_Direct</th>\n",
              "      <th>seg_Groups</th>\n",
              "      <th>seg_Offline TA/TO</th>\n",
              "      <th>seg_Online TA</th>\n",
              "      <th>seg_Undefined</th>\n",
              "      <th>ctyp_Contract</th>\n",
              "      <th>ctyp_Group</th>\n",
              "      <th>ctyp_Transient</th>\n",
              "      <th>ctyp_Transient-Party</th>\n",
              "      <th>dep_No Deposit</th>\n",
              "      <th>dep_Non Refund</th>\n",
              "      <th>dep_Refundable</th>\n",
              "    </tr>\n",
              "  </thead>\n",
              "  <tbody>\n",
              "    <tr>\n",
              "      <th>0</th>\n",
              "      <td>1</td>\n",
              "      <td>0</td>\n",
              "      <td>342</td>\n",
              "      <td>27</td>\n",
              "      <td>0</td>\n",
              "      <td>Direct</td>\n",
              "      <td>0</td>\n",
              "      <td>3</td>\n",
              "      <td>No Deposit</td>\n",
              "      <td>0</td>\n",
              "      <td>0.0</td>\n",
              "      <td>0</td>\n",
              "      <td>0</td>\n",
              "      <td>Transient</td>\n",
              "      <td>No Deposit</td>\n",
              "      <td>Transient</td>\n",
              "      <td>Direct</td>\n",
              "      <td>0</td>\n",
              "      <td>0</td>\n",
              "      <td>0</td>\n",
              "      <td>1</td>\n",
              "      <td>0</td>\n",
              "      <td>0</td>\n",
              "      <td>0</td>\n",
              "      <td>0</td>\n",
              "      <td>0</td>\n",
              "      <td>0</td>\n",
              "      <td>1</td>\n",
              "      <td>0</td>\n",
              "      <td>1</td>\n",
              "      <td>0</td>\n",
              "      <td>0</td>\n",
              "    </tr>\n",
              "    <tr>\n",
              "      <th>1</th>\n",
              "      <td>2</td>\n",
              "      <td>0</td>\n",
              "      <td>737</td>\n",
              "      <td>27</td>\n",
              "      <td>0</td>\n",
              "      <td>Direct</td>\n",
              "      <td>0</td>\n",
              "      <td>4</td>\n",
              "      <td>No Deposit</td>\n",
              "      <td>0</td>\n",
              "      <td>0.0</td>\n",
              "      <td>0</td>\n",
              "      <td>0</td>\n",
              "      <td>Transient</td>\n",
              "      <td>No Deposit</td>\n",
              "      <td>Transient</td>\n",
              "      <td>Direct</td>\n",
              "      <td>0</td>\n",
              "      <td>0</td>\n",
              "      <td>0</td>\n",
              "      <td>1</td>\n",
              "      <td>0</td>\n",
              "      <td>0</td>\n",
              "      <td>0</td>\n",
              "      <td>0</td>\n",
              "      <td>0</td>\n",
              "      <td>0</td>\n",
              "      <td>1</td>\n",
              "      <td>0</td>\n",
              "      <td>1</td>\n",
              "      <td>0</td>\n",
              "      <td>0</td>\n",
              "    </tr>\n",
              "    <tr>\n",
              "      <th>2</th>\n",
              "      <td>3</td>\n",
              "      <td>0</td>\n",
              "      <td>7</td>\n",
              "      <td>27</td>\n",
              "      <td>1</td>\n",
              "      <td>Direct</td>\n",
              "      <td>0</td>\n",
              "      <td>0</td>\n",
              "      <td>No Deposit</td>\n",
              "      <td>0</td>\n",
              "      <td>75.0</td>\n",
              "      <td>0</td>\n",
              "      <td>0</td>\n",
              "      <td>Transient</td>\n",
              "      <td>No Deposit</td>\n",
              "      <td>Transient</td>\n",
              "      <td>Direct</td>\n",
              "      <td>0</td>\n",
              "      <td>0</td>\n",
              "      <td>0</td>\n",
              "      <td>1</td>\n",
              "      <td>0</td>\n",
              "      <td>0</td>\n",
              "      <td>0</td>\n",
              "      <td>0</td>\n",
              "      <td>0</td>\n",
              "      <td>0</td>\n",
              "      <td>1</td>\n",
              "      <td>0</td>\n",
              "      <td>1</td>\n",
              "      <td>0</td>\n",
              "      <td>0</td>\n",
              "    </tr>\n",
              "    <tr>\n",
              "      <th>3</th>\n",
              "      <td>4</td>\n",
              "      <td>0</td>\n",
              "      <td>13</td>\n",
              "      <td>27</td>\n",
              "      <td>1</td>\n",
              "      <td>Corporate</td>\n",
              "      <td>0</td>\n",
              "      <td>0</td>\n",
              "      <td>No Deposit</td>\n",
              "      <td>0</td>\n",
              "      <td>75.0</td>\n",
              "      <td>0</td>\n",
              "      <td>0</td>\n",
              "      <td>Transient</td>\n",
              "      <td>No Deposit</td>\n",
              "      <td>Transient</td>\n",
              "      <td>Corporate</td>\n",
              "      <td>0</td>\n",
              "      <td>0</td>\n",
              "      <td>1</td>\n",
              "      <td>0</td>\n",
              "      <td>0</td>\n",
              "      <td>0</td>\n",
              "      <td>0</td>\n",
              "      <td>0</td>\n",
              "      <td>0</td>\n",
              "      <td>0</td>\n",
              "      <td>1</td>\n",
              "      <td>0</td>\n",
              "      <td>1</td>\n",
              "      <td>0</td>\n",
              "      <td>0</td>\n",
              "    </tr>\n",
              "    <tr>\n",
              "      <th>4</th>\n",
              "      <td>5</td>\n",
              "      <td>0</td>\n",
              "      <td>14</td>\n",
              "      <td>27</td>\n",
              "      <td>2</td>\n",
              "      <td>Online TA</td>\n",
              "      <td>0</td>\n",
              "      <td>0</td>\n",
              "      <td>No Deposit</td>\n",
              "      <td>0</td>\n",
              "      <td>98.0</td>\n",
              "      <td>0</td>\n",
              "      <td>1</td>\n",
              "      <td>Transient</td>\n",
              "      <td>No Deposit</td>\n",
              "      <td>Transient</td>\n",
              "      <td>Online TA</td>\n",
              "      <td>0</td>\n",
              "      <td>0</td>\n",
              "      <td>0</td>\n",
              "      <td>0</td>\n",
              "      <td>0</td>\n",
              "      <td>0</td>\n",
              "      <td>1</td>\n",
              "      <td>0</td>\n",
              "      <td>0</td>\n",
              "      <td>0</td>\n",
              "      <td>1</td>\n",
              "      <td>0</td>\n",
              "      <td>1</td>\n",
              "      <td>0</td>\n",
              "      <td>0</td>\n",
              "    </tr>\n",
              "  </tbody>\n",
              "</table>\n",
              "</div>"
            ],
            "text/plain": [
              "   id  is_cancelled  lead_time  arrival_week  duration    segment  \\\n",
              "0   1             0        342            27         0     Direct   \n",
              "1   2             0        737            27         0     Direct   \n",
              "2   3             0          7            27         1     Direct   \n",
              "3   4             0         13            27         1  Corporate   \n",
              "4   5             0         14            27         2  Online TA   \n",
              "\n",
              "   prev_cancel  booking_changes     deposit  waiting_period  per_Day_price  \\\n",
              "0            0                3  No Deposit               0            0.0   \n",
              "1            0                4  No Deposit               0            0.0   \n",
              "2            0                0  No Deposit               0           75.0   \n",
              "3            0                0  No Deposit               0           75.0   \n",
              "4            0                0  No Deposit               0           98.0   \n",
              "\n",
              "   parking  special_request  cust_type    deposit2 cust_type2   segment2  \\\n",
              "0        0                0  Transient  No Deposit  Transient     Direct   \n",
              "1        0                0  Transient  No Deposit  Transient     Direct   \n",
              "2        0                0  Transient  No Deposit  Transient     Direct   \n",
              "3        0                0  Transient  No Deposit  Transient  Corporate   \n",
              "4        0                1  Transient  No Deposit  Transient  Online TA   \n",
              "\n",
              "   seg_Aviation  seg_Complementary  seg_Corporate  seg_Direct  seg_Groups  \\\n",
              "0             0                  0              0           1           0   \n",
              "1             0                  0              0           1           0   \n",
              "2             0                  0              0           1           0   \n",
              "3             0                  0              1           0           0   \n",
              "4             0                  0              0           0           0   \n",
              "\n",
              "   seg_Offline TA/TO  seg_Online TA  seg_Undefined  ctyp_Contract  ctyp_Group  \\\n",
              "0                  0              0              0              0           0   \n",
              "1                  0              0              0              0           0   \n",
              "2                  0              0              0              0           0   \n",
              "3                  0              0              0              0           0   \n",
              "4                  0              1              0              0           0   \n",
              "\n",
              "   ctyp_Transient  ctyp_Transient-Party  dep_No Deposit  dep_Non Refund  \\\n",
              "0               1                     0               1               0   \n",
              "1               1                     0               1               0   \n",
              "2               1                     0               1               0   \n",
              "3               1                     0               1               0   \n",
              "4               1                     0               1               0   \n",
              "\n",
              "   dep_Refundable  \n",
              "0               0  \n",
              "1               0  \n",
              "2               0  \n",
              "3               0  \n",
              "4               0  "
            ]
          },
          "metadata": {
            "tags": []
          },
          "execution_count": 110
        }
      ]
    },
    {
      "cell_type": "code",
      "metadata": {
        "id": "46RiqMyf0j0R"
      },
      "source": [
        ""
      ],
      "execution_count": null,
      "outputs": []
    },
    {
      "cell_type": "code",
      "metadata": {
        "colab": {
          "base_uri": "https://localhost:8080/"
        },
        "id": "uxfidVPY0JcY",
        "outputId": "0f313331-abed-4fa7-db01-96276dbb1bfd"
      },
      "source": [
        "#split the train and test data\n",
        "tr_data, test_data = train_test_split(data, test_size=0.4, random_state=42)\n",
        "print(\"Training set count: \", len(tr_data))\n",
        "print(\"Test set count: \",len(test_data))"
      ],
      "execution_count": 111,
      "outputs": [
        {
          "output_type": "stream",
          "text": [
            "Training set count:  71634\n",
            "Test set count:  47756\n"
          ],
          "name": "stdout"
        }
      ]
    },
    {
      "cell_type": "code",
      "metadata": {
        "colab": {
          "base_uri": "https://localhost:8080/",
          "height": 705
        },
        "id": "mw_cnKWR4nsB",
        "outputId": "eead44a7-2338-4e28-ca5e-075a9686af89"
      },
      "source": [
        "#Corelation Matrix\n",
        "#1 visualize in a heatmap\n",
        "\n",
        "tr_cor_mat=tr_data.corr()\n",
        "\n",
        "tr_mask=np.array(tr_cor_mat)\n",
        "tr_mask[np.tril_indices_from(tr_mask)] = False\n",
        "\n",
        "viz1=plt.gcf()\n",
        "viz1.set_size_inches(10,10)\n",
        "\n",
        "sb.heatmap(data=tr_cor_mat, mask=tr_mask, annot=True)"
      ],
      "execution_count": 112,
      "outputs": [
        {
          "output_type": "execute_result",
          "data": {
            "text/plain": [
              "<matplotlib.axes._subplots.AxesSubplot at 0x7f53acde4f10>"
            ]
          },
          "metadata": {
            "tags": []
          },
          "execution_count": 112
        },
        {
          "output_type": "display_data",
          "data": {
            "image/png": "[encoded data removed]",
            "text/plain": [
              "<Figure size 720x720 with 2 Axes>"
            ]
          },
          "metadata": {
            "tags": [],
            "needs_background": "light"
          }
        }
      ]
    },
    {
      "cell_type": "code",
      "metadata": {
        "colab": {
          "base_uri": "https://localhost:8080/"
        },
        "id": "icOMdfZL4x1j",
        "outputId": "cca9b343-8f62-4323-ba2b-87c17fe05c3c"
      },
      "source": [
        "#Corelation Matrix\n",
        "#2 Looks at the values\n",
        "\n",
        "tr_cor_mat[\"is_cancelled\"].sort_values(ascending=False)\n",
        "\n",
        "#The below result shows that dep_Non Refund, lead_time, seg_Groups, prev_cancel and ctyp_Transient are the top 5 features which are having high correlation with the cancellation"
      ],
      "execution_count": 113,
      "outputs": [
        {
          "output_type": "execute_result",
          "data": {
            "text/plain": [
              "is_cancelled            1.000000\n",
              "dep_Non Refund          0.480573\n",
              "lead_time               0.293862\n",
              "seg_Groups              0.221955\n",
              "ctyp_Transient          0.131356\n",
              "prev_cancel             0.110074\n",
              "waiting_period          0.053578\n",
              "per_Day_price           0.046497\n",
              "duration                0.020323\n",
              "seg_Undefined           0.006905\n",
              "arrival_week            0.004231\n",
              "seg_Online TA          -0.008983\n",
              "dep_Refundable         -0.012116\n",
              "seg_Aviation           -0.012841\n",
              "ctyp_Contract          -0.023940\n",
              "seg_Offline TA/TO      -0.027078\n",
              "ctyp_Group             -0.038668\n",
              "seg_Complementary      -0.039530\n",
              "seg_Corporate          -0.082478\n",
              "ctyp_Transient-Party   -0.122164\n",
              "booking_changes        -0.142468\n",
              "seg_Direct             -0.151218\n",
              "parking                -0.194981\n",
              "special_request        -0.237227\n",
              "id                     -0.244269\n",
              "dep_No Deposit         -0.476359\n",
              "Name: is_cancelled, dtype: float64"
            ]
          },
          "metadata": {
            "tags": []
          },
          "execution_count": 113
        }
      ]
    },
    {
      "cell_type": "code",
      "metadata": {
        "colab": {
          "base_uri": "https://localhost:8080/",
          "height": 194
        },
        "id": "ec8JHGVY5MNl",
        "outputId": "3619aa77-1d85-4c0d-b50e-6e7d8d99896c"
      },
      "source": [
        "#I think, this is the time to drop the least corelated features\n",
        "# Keep the top-5 features (for this exercise)\n",
        "# After low score, add few features from bottom\n",
        "\n",
        "tr_data_mdl = tr_data.copy()\n",
        "#Rename it to make it consitent with other features\n",
        "tr_data_mdl.rename(columns={'dep_Non Refund':'dep_non_refund'}, inplace=True)\n",
        "tr_data_mdl.rename(columns={'dep_No Deposit':'dep_no_deposit'}, inplace=True)\n",
        "tr_data_mdl.rename(columns={'ctyp_Transient-Party':'ctyp_transient_party'}, inplace=True)\n",
        "\n",
        "features_sel = ['id','is_cancelled','dep_non_refund','lead_time','seg_Groups','prev_cancel','ctyp_Transient', 'dep_no_deposit','special_request','ctyp_transient_party','booking_changes']\n",
        "tr_data_mdl.drop(tr_data_mdl.columns.difference(features_sel),axis=1,inplace=True)\n",
        "\n",
        "tr_data_mdl.head()"
      ],
      "execution_count": 114,
      "outputs": [
        {
          "output_type": "execute_result",
          "data": {
            "text/html": [
              "<div>\n",
              "<style scoped>\n",
              "    .dataframe tbody tr th:only-of-type {\n",
              "        vertical-align: middle;\n",
              "    }\n",
              "\n",
              "    .dataframe tbody tr th {\n",
              "        vertical-align: top;\n",
              "    }\n",
              "\n",
              "    .dataframe thead th {\n",
              "        text-align: right;\n",
              "    }\n",
              "</style>\n",
              "<table border=\"1\" class=\"dataframe\">\n",
              "  <thead>\n",
              "    <tr style=\"text-align: right;\">\n",
              "      <th></th>\n",
              "      <th>id</th>\n",
              "      <th>is_cancelled</th>\n",
              "      <th>lead_time</th>\n",
              "      <th>prev_cancel</th>\n",
              "      <th>booking_changes</th>\n",
              "      <th>special_request</th>\n",
              "      <th>seg_Groups</th>\n",
              "      <th>ctyp_Transient</th>\n",
              "      <th>ctyp_transient_party</th>\n",
              "      <th>dep_no_deposit</th>\n",
              "      <th>dep_non_refund</th>\n",
              "    </tr>\n",
              "  </thead>\n",
              "  <tbody>\n",
              "    <tr>\n",
              "      <th>71397</th>\n",
              "      <td>71398</td>\n",
              "      <td>1</td>\n",
              "      <td>465</td>\n",
              "      <td>0</td>\n",
              "      <td>0</td>\n",
              "      <td>0</td>\n",
              "      <td>0</td>\n",
              "      <td>1</td>\n",
              "      <td>0</td>\n",
              "      <td>0</td>\n",
              "      <td>1</td>\n",
              "    </tr>\n",
              "    <tr>\n",
              "      <th>52819</th>\n",
              "      <td>52820</td>\n",
              "      <td>1</td>\n",
              "      <td>69</td>\n",
              "      <td>0</td>\n",
              "      <td>0</td>\n",
              "      <td>0</td>\n",
              "      <td>0</td>\n",
              "      <td>1</td>\n",
              "      <td>0</td>\n",
              "      <td>0</td>\n",
              "      <td>1</td>\n",
              "    </tr>\n",
              "    <tr>\n",
              "      <th>75267</th>\n",
              "      <td>75268</td>\n",
              "      <td>1</td>\n",
              "      <td>299</td>\n",
              "      <td>1</td>\n",
              "      <td>0</td>\n",
              "      <td>0</td>\n",
              "      <td>1</td>\n",
              "      <td>0</td>\n",
              "      <td>1</td>\n",
              "      <td>0</td>\n",
              "      <td>1</td>\n",
              "    </tr>\n",
              "    <tr>\n",
              "      <th>40803</th>\n",
              "      <td>40804</td>\n",
              "      <td>0</td>\n",
              "      <td>36</td>\n",
              "      <td>0</td>\n",
              "      <td>0</td>\n",
              "      <td>0</td>\n",
              "      <td>1</td>\n",
              "      <td>0</td>\n",
              "      <td>1</td>\n",
              "      <td>1</td>\n",
              "      <td>0</td>\n",
              "    </tr>\n",
              "    <tr>\n",
              "      <th>4784</th>\n",
              "      <td>4785</td>\n",
              "      <td>0</td>\n",
              "      <td>169</td>\n",
              "      <td>0</td>\n",
              "      <td>1</td>\n",
              "      <td>0</td>\n",
              "      <td>1</td>\n",
              "      <td>0</td>\n",
              "      <td>1</td>\n",
              "      <td>0</td>\n",
              "      <td>0</td>\n",
              "    </tr>\n",
              "  </tbody>\n",
              "</table>\n",
              "</div>"
            ],
            "text/plain": [
              "          id  is_cancelled  lead_time  prev_cancel  booking_changes  \\\n",
              "71397  71398             1        465            0                0   \n",
              "52819  52820             1         69            0                0   \n",
              "75267  75268             1        299            1                0   \n",
              "40803  40804             0         36            0                0   \n",
              "4784    4785             0        169            0                1   \n",
              "\n",
              "       special_request  seg_Groups  ctyp_Transient  ctyp_transient_party  \\\n",
              "71397                0           0               1                     0   \n",
              "52819                0           0               1                     0   \n",
              "75267                0           1               0                     1   \n",
              "40803                0           1               0                     1   \n",
              "4784                 0           1               0                     1   \n",
              "\n",
              "       dep_no_deposit  dep_non_refund  \n",
              "71397               0               1  \n",
              "52819               0               1  \n",
              "75267               0               1  \n",
              "40803               1               0  \n",
              "4784                0               0  "
            ]
          },
          "metadata": {
            "tags": []
          },
          "execution_count": 114
        }
      ]
    },
    {
      "cell_type": "code",
      "metadata": {
        "colab": {
          "base_uri": "https://localhost:8080/"
        },
        "id": "ZvOFJ5pL5Q3F",
        "outputId": "d3320001-41f1-4f32-f1ab-327bea1e1332"
      },
      "source": [
        "#remove id coulmn from training dataset as this needs to be removed before run the actual prediction\n",
        "tr_data_mdl.drop(['id'], axis=1, inplace=True)\n",
        "tr_data_mdl.columns"
      ],
      "execution_count": 115,
      "outputs": [
        {
          "output_type": "execute_result",
          "data": {
            "text/plain": [
              "Index(['is_cancelled', 'lead_time', 'prev_cancel', 'booking_changes',\n",
              "       'special_request', 'seg_Groups', 'ctyp_Transient',\n",
              "       'ctyp_transient_party', 'dep_no_deposit', 'dep_non_refund'],\n",
              "      dtype='object')"
            ]
          },
          "metadata": {
            "tags": []
          },
          "execution_count": 115
        }
      ]
    },
    {
      "cell_type": "code",
      "metadata": {
        "id": "MRl454x75Q57"
      },
      "source": [
        "# Visualize the top N features and their feature importance."
      ],
      "execution_count": null,
      "outputs": []
    },
    {
      "cell_type": "code",
      "metadata": {
        "colab": {
          "base_uri": "https://localhost:8080/",
          "height": 369
        },
        "id": "5ErjKtNR5Q8Q",
        "outputId": "295c401a-dd75-4cd7-ad2f-04af0cb09375"
      },
      "source": [
        "#1 lead Time\n",
        "# use kde (kernel density estimation)\n",
        "\n",
        "lead_time = tr_data[\"lead_time\"]\n",
        "\n",
        "plt.figure(figsize=(10,5))\n",
        "sb.histplot(lead_time, kde=True)\n",
        "plt.tight_layout()\n",
        "plt.show()"
      ],
      "execution_count": 116,
      "outputs": [
        {
          "output_type": "display_data",
          "data": {
            "image/png": "[encoded data removed]",
            "text/plain": [
              "<Figure size 720x360 with 1 Axes>"
            ]
          },
          "metadata": {
            "tags": [],
            "needs_background": "light"
          }
        }
      ]
    },
    {
      "cell_type": "code",
      "metadata": {
        "colab": {
          "base_uri": "https://localhost:8080/",
          "height": 194
        },
        "id": "OVjU62Fq5Q_K",
        "outputId": "d4771e18-5ef0-4b98-951d-c8a0c9a39bb1"
      },
      "source": [
        "# Test Data\n",
        "\n",
        "test_data_mdl = test_data.copy()\n",
        "#Rename it to make it consitent with other features\n",
        "test_data_mdl.rename(columns={'dep_Non Refund':'dep_non_refund'}, inplace=True)\n",
        "test_data_mdl.rename(columns={'dep_No Deposit':'dep_no_deposit'}, inplace=True)\n",
        "test_data_mdl.rename(columns={'ctyp_Transient-Party':'ctyp_transient_party'}, inplace=True)\n",
        "\n",
        "features_sel = ['id','is_cancelled','dep_non_refund','lead_time','seg_Groups','prev_cancel','ctyp_Transient', 'dep_no_deposit','special_request','ctyp_transient_party','booking_changes']\n",
        "test_data_mdl.drop(test_data_mdl.columns.difference(features_sel),axis=1,inplace=True)\n",
        "\n",
        "test_data_mdl.head()"
      ],
      "execution_count": 117,
      "outputs": [
        {
          "output_type": "execute_result",
          "data": {
            "text/html": [
              "<div>\n",
              "<style scoped>\n",
              "    .dataframe tbody tr th:only-of-type {\n",
              "        vertical-align: middle;\n",
              "    }\n",
              "\n",
              "    .dataframe tbody tr th {\n",
              "        vertical-align: top;\n",
              "    }\n",
              "\n",
              "    .dataframe thead th {\n",
              "        text-align: right;\n",
              "    }\n",
              "</style>\n",
              "<table border=\"1\" class=\"dataframe\">\n",
              "  <thead>\n",
              "    <tr style=\"text-align: right;\">\n",
              "      <th></th>\n",
              "      <th>id</th>\n",
              "      <th>is_cancelled</th>\n",
              "      <th>lead_time</th>\n",
              "      <th>prev_cancel</th>\n",
              "      <th>booking_changes</th>\n",
              "      <th>special_request</th>\n",
              "      <th>seg_Groups</th>\n",
              "      <th>ctyp_Transient</th>\n",
              "      <th>ctyp_transient_party</th>\n",
              "      <th>dep_no_deposit</th>\n",
              "      <th>dep_non_refund</th>\n",
              "    </tr>\n",
              "  </thead>\n",
              "  <tbody>\n",
              "    <tr>\n",
              "      <th>30946</th>\n",
              "      <td>30947</td>\n",
              "      <td>0</td>\n",
              "      <td>203</td>\n",
              "      <td>0</td>\n",
              "      <td>4</td>\n",
              "      <td>0</td>\n",
              "      <td>0</td>\n",
              "      <td>1</td>\n",
              "      <td>0</td>\n",
              "      <td>1</td>\n",
              "      <td>0</td>\n",
              "    </tr>\n",
              "    <tr>\n",
              "      <th>40207</th>\n",
              "      <td>40208</td>\n",
              "      <td>1</td>\n",
              "      <td>82</td>\n",
              "      <td>0</td>\n",
              "      <td>0</td>\n",
              "      <td>0</td>\n",
              "      <td>0</td>\n",
              "      <td>1</td>\n",
              "      <td>0</td>\n",
              "      <td>1</td>\n",
              "      <td>0</td>\n",
              "    </tr>\n",
              "    <tr>\n",
              "      <th>103708</th>\n",
              "      <td>103709</td>\n",
              "      <td>0</td>\n",
              "      <td>25</td>\n",
              "      <td>0</td>\n",
              "      <td>2</td>\n",
              "      <td>1</td>\n",
              "      <td>0</td>\n",
              "      <td>0</td>\n",
              "      <td>1</td>\n",
              "      <td>1</td>\n",
              "      <td>0</td>\n",
              "    </tr>\n",
              "    <tr>\n",
              "      <th>85144</th>\n",
              "      <td>85145</td>\n",
              "      <td>0</td>\n",
              "      <td>1</td>\n",
              "      <td>0</td>\n",
              "      <td>0</td>\n",
              "      <td>0</td>\n",
              "      <td>0</td>\n",
              "      <td>0</td>\n",
              "      <td>1</td>\n",
              "      <td>1</td>\n",
              "      <td>0</td>\n",
              "    </tr>\n",
              "    <tr>\n",
              "      <th>109991</th>\n",
              "      <td>109992</td>\n",
              "      <td>0</td>\n",
              "      <td>70</td>\n",
              "      <td>0</td>\n",
              "      <td>0</td>\n",
              "      <td>0</td>\n",
              "      <td>0</td>\n",
              "      <td>1</td>\n",
              "      <td>0</td>\n",
              "      <td>1</td>\n",
              "      <td>0</td>\n",
              "    </tr>\n",
              "  </tbody>\n",
              "</table>\n",
              "</div>"
            ],
            "text/plain": [
              "            id  is_cancelled  lead_time  prev_cancel  booking_changes  \\\n",
              "30946    30947             0        203            0                4   \n",
              "40207    40208             1         82            0                0   \n",
              "103708  103709             0         25            0                2   \n",
              "85144    85145             0          1            0                0   \n",
              "109991  109992             0         70            0                0   \n",
              "\n",
              "        special_request  seg_Groups  ctyp_Transient  ctyp_transient_party  \\\n",
              "30946                 0           0               1                     0   \n",
              "40207                 0           0               1                     0   \n",
              "103708                1           0               0                     1   \n",
              "85144                 0           0               0                     1   \n",
              "109991                0           0               1                     0   \n",
              "\n",
              "        dep_no_deposit  dep_non_refund  \n",
              "30946                1               0  \n",
              "40207                1               0  \n",
              "103708               1               0  \n",
              "85144                1               0  \n",
              "109991               1               0  "
            ]
          },
          "metadata": {
            "tags": []
          },
          "execution_count": 117
        }
      ]
    },
    {
      "cell_type": "code",
      "metadata": {
        "colab": {
          "base_uri": "https://localhost:8080/",
          "height": 194
        },
        "id": "qXyLgQHUZZFI",
        "outputId": "a104f946-0107-414f-d517-e8779f9843ff"
      },
      "source": [
        "#remove is_cancelled column\n",
        "test_data_mdl.drop(\"is_cancelled\",axis=1,inplace=True)\n",
        "\n",
        "test_data_mdl.head()"
      ],
      "execution_count": 139,
      "outputs": [
        {
          "output_type": "execute_result",
          "data": {
            "text/html": [
              "<div>\n",
              "<style scoped>\n",
              "    .dataframe tbody tr th:only-of-type {\n",
              "        vertical-align: middle;\n",
              "    }\n",
              "\n",
              "    .dataframe tbody tr th {\n",
              "        vertical-align: top;\n",
              "    }\n",
              "\n",
              "    .dataframe thead th {\n",
              "        text-align: right;\n",
              "    }\n",
              "</style>\n",
              "<table border=\"1\" class=\"dataframe\">\n",
              "  <thead>\n",
              "    <tr style=\"text-align: right;\">\n",
              "      <th></th>\n",
              "      <th>id</th>\n",
              "      <th>lead_time</th>\n",
              "      <th>prev_cancel</th>\n",
              "      <th>booking_changes</th>\n",
              "      <th>special_request</th>\n",
              "      <th>seg_Groups</th>\n",
              "      <th>ctyp_Transient</th>\n",
              "      <th>ctyp_transient_party</th>\n",
              "      <th>dep_no_deposit</th>\n",
              "      <th>dep_non_refund</th>\n",
              "    </tr>\n",
              "  </thead>\n",
              "  <tbody>\n",
              "    <tr>\n",
              "      <th>30946</th>\n",
              "      <td>30947</td>\n",
              "      <td>203</td>\n",
              "      <td>0</td>\n",
              "      <td>4</td>\n",
              "      <td>0</td>\n",
              "      <td>0</td>\n",
              "      <td>1</td>\n",
              "      <td>0</td>\n",
              "      <td>1</td>\n",
              "      <td>0</td>\n",
              "    </tr>\n",
              "    <tr>\n",
              "      <th>40207</th>\n",
              "      <td>40208</td>\n",
              "      <td>82</td>\n",
              "      <td>0</td>\n",
              "      <td>0</td>\n",
              "      <td>0</td>\n",
              "      <td>0</td>\n",
              "      <td>1</td>\n",
              "      <td>0</td>\n",
              "      <td>1</td>\n",
              "      <td>0</td>\n",
              "    </tr>\n",
              "    <tr>\n",
              "      <th>103708</th>\n",
              "      <td>103709</td>\n",
              "      <td>25</td>\n",
              "      <td>0</td>\n",
              "      <td>2</td>\n",
              "      <td>1</td>\n",
              "      <td>0</td>\n",
              "      <td>0</td>\n",
              "      <td>1</td>\n",
              "      <td>1</td>\n",
              "      <td>0</td>\n",
              "    </tr>\n",
              "    <tr>\n",
              "      <th>85144</th>\n",
              "      <td>85145</td>\n",
              "      <td>1</td>\n",
              "      <td>0</td>\n",
              "      <td>0</td>\n",
              "      <td>0</td>\n",
              "      <td>0</td>\n",
              "      <td>0</td>\n",
              "      <td>1</td>\n",
              "      <td>1</td>\n",
              "      <td>0</td>\n",
              "    </tr>\n",
              "    <tr>\n",
              "      <th>109991</th>\n",
              "      <td>109992</td>\n",
              "      <td>70</td>\n",
              "      <td>0</td>\n",
              "      <td>0</td>\n",
              "      <td>0</td>\n",
              "      <td>0</td>\n",
              "      <td>1</td>\n",
              "      <td>0</td>\n",
              "      <td>1</td>\n",
              "      <td>0</td>\n",
              "    </tr>\n",
              "  </tbody>\n",
              "</table>\n",
              "</div>"
            ],
            "text/plain": [
              "            id  lead_time  prev_cancel  booking_changes  special_request  \\\n",
              "30946    30947        203            0                4                0   \n",
              "40207    40208         82            0                0                0   \n",
              "103708  103709         25            0                2                1   \n",
              "85144    85145          1            0                0                0   \n",
              "109991  109992         70            0                0                0   \n",
              "\n",
              "        seg_Groups  ctyp_Transient  ctyp_transient_party  dep_no_deposit  \\\n",
              "30946            0               1                     0               1   \n",
              "40207            0               1                     0               1   \n",
              "103708           0               0                     1               1   \n",
              "85144            0               0                     1               1   \n",
              "109991           0               1                     0               1   \n",
              "\n",
              "        dep_non_refund  \n",
              "30946                0  \n",
              "40207                0  \n",
              "103708               0  \n",
              "85144                0  \n",
              "109991               0  "
            ]
          },
          "metadata": {
            "tags": []
          },
          "execution_count": 139
        }
      ]
    },
    {
      "cell_type": "code",
      "metadata": {
        "colab": {
          "base_uri": "https://localhost:8080/",
          "height": 194
        },
        "id": "up5JLweSSaF7",
        "outputId": "fd1d0b7a-bc53-45a5-937f-9bc40ec27908"
      },
      "source": [
        "tr_data_mdl.head()"
      ],
      "execution_count": 118,
      "outputs": [
        {
          "output_type": "execute_result",
          "data": {
            "text/html": [
              "<div>\n",
              "<style scoped>\n",
              "    .dataframe tbody tr th:only-of-type {\n",
              "        vertical-align: middle;\n",
              "    }\n",
              "\n",
              "    .dataframe tbody tr th {\n",
              "        vertical-align: top;\n",
              "    }\n",
              "\n",
              "    .dataframe thead th {\n",
              "        text-align: right;\n",
              "    }\n",
              "</style>\n",
              "<table border=\"1\" class=\"dataframe\">\n",
              "  <thead>\n",
              "    <tr style=\"text-align: right;\">\n",
              "      <th></th>\n",
              "      <th>is_cancelled</th>\n",
              "      <th>lead_time</th>\n",
              "      <th>prev_cancel</th>\n",
              "      <th>booking_changes</th>\n",
              "      <th>special_request</th>\n",
              "      <th>seg_Groups</th>\n",
              "      <th>ctyp_Transient</th>\n",
              "      <th>ctyp_transient_party</th>\n",
              "      <th>dep_no_deposit</th>\n",
              "      <th>dep_non_refund</th>\n",
              "    </tr>\n",
              "  </thead>\n",
              "  <tbody>\n",
              "    <tr>\n",
              "      <th>71397</th>\n",
              "      <td>1</td>\n",
              "      <td>465</td>\n",
              "      <td>0</td>\n",
              "      <td>0</td>\n",
              "      <td>0</td>\n",
              "      <td>0</td>\n",
              "      <td>1</td>\n",
              "      <td>0</td>\n",
              "      <td>0</td>\n",
              "      <td>1</td>\n",
              "    </tr>\n",
              "    <tr>\n",
              "      <th>52819</th>\n",
              "      <td>1</td>\n",
              "      <td>69</td>\n",
              "      <td>0</td>\n",
              "      <td>0</td>\n",
              "      <td>0</td>\n",
              "      <td>0</td>\n",
              "      <td>1</td>\n",
              "      <td>0</td>\n",
              "      <td>0</td>\n",
              "      <td>1</td>\n",
              "    </tr>\n",
              "    <tr>\n",
              "      <th>75267</th>\n",
              "      <td>1</td>\n",
              "      <td>299</td>\n",
              "      <td>1</td>\n",
              "      <td>0</td>\n",
              "      <td>0</td>\n",
              "      <td>1</td>\n",
              "      <td>0</td>\n",
              "      <td>1</td>\n",
              "      <td>0</td>\n",
              "      <td>1</td>\n",
              "    </tr>\n",
              "    <tr>\n",
              "      <th>40803</th>\n",
              "      <td>0</td>\n",
              "      <td>36</td>\n",
              "      <td>0</td>\n",
              "      <td>0</td>\n",
              "      <td>0</td>\n",
              "      <td>1</td>\n",
              "      <td>0</td>\n",
              "      <td>1</td>\n",
              "      <td>1</td>\n",
              "      <td>0</td>\n",
              "    </tr>\n",
              "    <tr>\n",
              "      <th>4784</th>\n",
              "      <td>0</td>\n",
              "      <td>169</td>\n",
              "      <td>0</td>\n",
              "      <td>1</td>\n",
              "      <td>0</td>\n",
              "      <td>1</td>\n",
              "      <td>0</td>\n",
              "      <td>1</td>\n",
              "      <td>0</td>\n",
              "      <td>0</td>\n",
              "    </tr>\n",
              "  </tbody>\n",
              "</table>\n",
              "</div>"
            ],
            "text/plain": [
              "       is_cancelled  lead_time  prev_cancel  booking_changes  special_request  \\\n",
              "71397             1        465            0                0                0   \n",
              "52819             1         69            0                0                0   \n",
              "75267             1        299            1                0                0   \n",
              "40803             0         36            0                0                0   \n",
              "4784              0        169            0                1                0   \n",
              "\n",
              "       seg_Groups  ctyp_Transient  ctyp_transient_party  dep_no_deposit  \\\n",
              "71397           0               1                     0               0   \n",
              "52819           0               1                     0               0   \n",
              "75267           1               0                     1               0   \n",
              "40803           1               0                     1               1   \n",
              "4784            1               0                     1               0   \n",
              "\n",
              "       dep_non_refund  \n",
              "71397               1  \n",
              "52819               1  \n",
              "75267               1  \n",
              "40803               0  \n",
              "4784                0  "
            ]
          },
          "metadata": {
            "tags": []
          },
          "execution_count": 118
        }
      ]
    },
    {
      "cell_type": "code",
      "metadata": {
        "id": "3wGeF1OsSaPP"
      },
      "source": [
        "#*******************\n",
        "#Model Selection\n",
        "#*******************\n",
        "\n",
        "#Precision and confusion matrix are the decision factor for the model selection\n",
        "#To start with, evaluating the below two models\n",
        "\n",
        "#1 KNN\n",
        "#2 Random Forest\n",
        "#3 Gradeient Boost"
      ],
      "execution_count": 119,
      "outputs": []
    },
    {
      "cell_type": "code",
      "metadata": {
        "colab": {
          "base_uri": "https://localhost:8080/"
        },
        "id": "ac4M3Yt_SaSK",
        "outputId": "46cc745c-ca5e-4c80-b0c5-333ac2190978"
      },
      "source": [
        "tr_data_mdl.columns"
      ],
      "execution_count": 120,
      "outputs": [
        {
          "output_type": "execute_result",
          "data": {
            "text/plain": [
              "Index(['is_cancelled', 'lead_time', 'prev_cancel', 'booking_changes',\n",
              "       'special_request', 'seg_Groups', 'ctyp_Transient',\n",
              "       'ctyp_transient_party', 'dep_no_deposit', 'dep_non_refund'],\n",
              "      dtype='object')"
            ]
          },
          "metadata": {
            "tags": []
          },
          "execution_count": 120
        }
      ]
    },
    {
      "cell_type": "code",
      "metadata": {
        "colab": {
          "base_uri": "https://localhost:8080/"
        },
        "id": "vU0iVShTSaUW",
        "outputId": "5f9df76c-7e8e-47dc-e46d-0328d4aa67ef"
      },
      "source": [
        "#validate the data types of all the columns; all are numeric\n",
        "tr_data_mdl.columns.to_series().groupby(tr_data_mdl.dtypes).groups"
      ],
      "execution_count": 121,
      "outputs": [
        {
          "output_type": "execute_result",
          "data": {
            "text/plain": [
              "{uint8: ['seg_Groups', 'ctyp_Transient', 'ctyp_transient_party', 'dep_no_deposit', 'dep_non_refund'], int64: ['is_cancelled', 'lead_time', 'prev_cancel', 'booking_changes', 'special_request']}"
            ]
          },
          "metadata": {
            "tags": []
          },
          "execution_count": 121
        }
      ]
    },
    {
      "cell_type": "code",
      "metadata": {
        "colab": {
          "base_uri": "https://localhost:8080/"
        },
        "id": "SdEs8d-OS0DL",
        "outputId": "1920f6c9-6841-49d7-bfca-015df550ce79"
      },
      "source": [
        "len(tr_data_mdl)"
      ],
      "execution_count": 122,
      "outputs": [
        {
          "output_type": "execute_result",
          "data": {
            "text/plain": [
              "71634"
            ]
          },
          "metadata": {
            "tags": []
          },
          "execution_count": 122
        }
      ]
    },
    {
      "cell_type": "code",
      "metadata": {
        "id": "1kF0kbdDS0GJ"
      },
      "source": [
        "#set 25% as test size from the training dataset\n",
        "x_train, x_test, y_train, y_test= train_test_split(tr_data_mdl.drop('is_cancelled',axis=1), tr_data_mdl['is_cancelled'], test_size=0.25, random_state=42)"
      ],
      "execution_count": 123,
      "outputs": []
    },
    {
      "cell_type": "code",
      "metadata": {
        "colab": {
          "base_uri": "https://localhost:8080/"
        },
        "id": "W8uvwE0ES0J4",
        "outputId": "9efa930a-e431-4bd9-eacb-30ec2859deb7"
      },
      "source": [
        "#1 KNN option-1 (default weights --> uniform)\n",
        "knn = KNeighborsClassifier()\n",
        "knn.fit(x_train, y_train)"
      ],
      "execution_count": 124,
      "outputs": [
        {
          "output_type": "execute_result",
          "data": {
            "text/plain": [
              "KNeighborsClassifier(algorithm='auto', leaf_size=30, metric='minkowski',\n",
              "                     metric_params=None, n_jobs=None, n_neighbors=5, p=2,\n",
              "                     weights='uniform')"
            ]
          },
          "metadata": {
            "tags": []
          },
          "execution_count": 124
        }
      ]
    },
    {
      "cell_type": "code",
      "metadata": {
        "colab": {
          "base_uri": "https://localhost:8080/"
        },
        "id": "MKiVurYFS0Ld",
        "outputId": "f9b68764-7c6f-4ef9-a603-74cb0875a641"
      },
      "source": [
        "#get the accuracy score\n",
        "knn_pred=knn.predict(x_test)\n",
        "score=metrics.accuracy_score(y_test,knn_pred)\n",
        "print(score)"
      ],
      "execution_count": 125,
      "outputs": [
        {
          "output_type": "stream",
          "text": [
            "0.7563794740074823\n"
          ],
          "name": "stdout"
        }
      ]
    },
    {
      "cell_type": "code",
      "metadata": {
        "colab": {
          "base_uri": "https://localhost:8080/"
        },
        "id": "CyhA0FPFS0OF",
        "outputId": "2413ea30-981a-4edb-9c32-579eeffe1fd0"
      },
      "source": [
        "confusion_matrix(y_test, knn_pred)"
      ],
      "execution_count": 126,
      "outputs": [
        {
          "output_type": "execute_result",
          "data": {
            "text/plain": [
              "array([[9643, 1580],\n",
              "       [2783, 3903]])"
            ]
          },
          "metadata": {
            "tags": []
          },
          "execution_count": 126
        }
      ]
    },
    {
      "cell_type": "code",
      "metadata": {
        "colab": {
          "base_uri": "https://localhost:8080/"
        },
        "id": "uoaNJ6f8S0QS",
        "outputId": "c08ec5ef-430b-4f09-d4cb-23292f5fea53"
      },
      "source": [
        "#1 KNN option-2 (default weights --> distance)\n",
        "knn2 = KNeighborsClassifier(weights='distance')\n",
        "knn2.fit(x_train, y_train)"
      ],
      "execution_count": 127,
      "outputs": [
        {
          "output_type": "execute_result",
          "data": {
            "text/plain": [
              "KNeighborsClassifier(algorithm='auto', leaf_size=30, metric='minkowski',\n",
              "                     metric_params=None, n_jobs=None, n_neighbors=5, p=2,\n",
              "                     weights='distance')"
            ]
          },
          "metadata": {
            "tags": []
          },
          "execution_count": 127
        }
      ]
    },
    {
      "cell_type": "code",
      "metadata": {
        "colab": {
          "base_uri": "https://localhost:8080/"
        },
        "id": "kwYaV_WRTWBe",
        "outputId": "0f4e50ee-2d13-4a18-ca8e-cfb2c8810492"
      },
      "source": [
        "#get the accuracy score\n",
        "knn_pred2=knn2.predict(x_test)\n",
        "score2=metrics.accuracy_score(y_test,knn_pred2)\n",
        "print(score2)"
      ],
      "execution_count": 128,
      "outputs": [
        {
          "output_type": "stream",
          "text": [
            "0.7583896364956167\n"
          ],
          "name": "stdout"
        }
      ]
    },
    {
      "cell_type": "code",
      "metadata": {
        "colab": {
          "base_uri": "https://localhost:8080/"
        },
        "id": "1QujAIGgTWEL",
        "outputId": "f8a366e4-964a-495d-959a-43376dd0254b"
      },
      "source": [
        "confusion_matrix(y_test, knn_pred2)"
      ],
      "execution_count": 129,
      "outputs": [
        {
          "output_type": "execute_result",
          "data": {
            "text/plain": [
              "array([[9655, 1568],\n",
              "       [2759, 3927]])"
            ]
          },
          "metadata": {
            "tags": []
          },
          "execution_count": 129
        }
      ]
    },
    {
      "cell_type": "code",
      "metadata": {
        "colab": {
          "base_uri": "https://localhost:8080/"
        },
        "id": "FWl83QJyTWJJ",
        "outputId": "c750f1c4-06cd-4ae7-a1a4-bcd89c369cee"
      },
      "source": [
        "#2 Random Forest\n",
        "\n",
        "rf = RandomForestClassifier(random_state=42, n_jobs=-1)\n",
        "rf.fit(x_train, y_train)"
      ],
      "execution_count": 130,
      "outputs": [
        {
          "output_type": "execute_result",
          "data": {
            "text/plain": [
              "RandomForestClassifier(bootstrap=True, ccp_alpha=0.0, class_weight=None,\n",
              "                       criterion='gini', max_depth=None, max_features='auto',\n",
              "                       max_leaf_nodes=None, max_samples=None,\n",
              "                       min_impurity_decrease=0.0, min_impurity_split=None,\n",
              "                       min_samples_leaf=1, min_samples_split=2,\n",
              "                       min_weight_fraction_leaf=0.0, n_estimators=100,\n",
              "                       n_jobs=-1, oob_score=False, random_state=42, verbose=0,\n",
              "                       warm_start=False)"
            ]
          },
          "metadata": {
            "tags": []
          },
          "execution_count": 130
        }
      ]
    },
    {
      "cell_type": "code",
      "metadata": {
        "colab": {
          "base_uri": "https://localhost:8080/"
        },
        "id": "Y3vG_zUuTWLV",
        "outputId": "bf3a7339-2da4-4575-e1a0-89ac2122282b"
      },
      "source": [
        "#get the accuracy score\n",
        "rf_pred=rf.predict(x_test)\n",
        "rf_ascore=metrics.accuracy_score(y_test,rf_pred)\n",
        "rf_pscore=metrics.precision_score(y_test,rf_pred)\n",
        "print(\"Accuracy score : \", rf_ascore)\n",
        "print(\"Precision score : \", rf_pscore)"
      ],
      "execution_count": 131,
      "outputs": [
        {
          "output_type": "stream",
          "text": [
            "Accuracy score :  0.77676028812329\n",
            "Precision score :  0.7616822429906542\n"
          ],
          "name": "stdout"
        }
      ]
    },
    {
      "cell_type": "code",
      "metadata": {
        "colab": {
          "base_uri": "https://localhost:8080/"
        },
        "id": "pZ89spKyTkl_",
        "outputId": "3fdc5954-5a41-4af4-d4c4-299ca2132c9a"
      },
      "source": [
        "confusion_matrix(y_test, rf_pred)"
      ],
      "execution_count": 132,
      "outputs": [
        {
          "output_type": "execute_result",
          "data": {
            "text/plain": [
              "array([[9999, 1224],\n",
              "       [2774, 3912]])"
            ]
          },
          "metadata": {
            "tags": []
          },
          "execution_count": 132
        }
      ]
    },
    {
      "cell_type": "code",
      "metadata": {
        "colab": {
          "base_uri": "https://localhost:8080/"
        },
        "id": "lI2n-f1iTkpT",
        "outputId": "4c28c279-9e90-41fb-8890-875efc9b7a36"
      },
      "source": [
        "#get the accuracy score\n",
        "rf_pred=rf.predict(x_test)\n",
        "rf_ascore=metrics.accuracy_score(y_test,rf_pred)\n",
        "rf_pscore=metrics.precision_score(y_test,rf_pred)\n",
        "print(\"Accuracy score : \", rf_ascore)\n",
        "print(\"Precision score : \", rf_pscore)"
      ],
      "execution_count": 133,
      "outputs": [
        {
          "output_type": "stream",
          "text": [
            "Accuracy score :  0.77676028812329\n",
            "Precision score :  0.7616822429906542\n"
          ],
          "name": "stdout"
        }
      ]
    },
    {
      "cell_type": "code",
      "metadata": {
        "colab": {
          "base_uri": "https://localhost:8080/"
        },
        "id": "hcVE1g6OTkrx",
        "outputId": "2d32561a-bd72-4a59-e84d-6b5bc07cf547"
      },
      "source": [
        "confusion_matrix(y_test, rf_pred)"
      ],
      "execution_count": 134,
      "outputs": [
        {
          "output_type": "execute_result",
          "data": {
            "text/plain": [
              "array([[9999, 1224],\n",
              "       [2774, 3912]])"
            ]
          },
          "metadata": {
            "tags": []
          },
          "execution_count": 134
        }
      ]
    },
    {
      "cell_type": "code",
      "metadata": {
        "colab": {
          "base_uri": "https://localhost:8080/"
        },
        "id": "y__DSdCiTkuU",
        "outputId": "fb8ea5d6-20f7-4f7d-f74e-68e689756cbc"
      },
      "source": [
        "#3 Gradient Boosting\n",
        "gb = GradientBoostingClassifier()\n",
        "cv=RepeatedStratifiedKFold(n_splits=10, n_repeats=3, random_state=1)\n",
        "n_scores= cross_val_score(gb,x_train, y_train,scoring='accuracy',cv=cv,n_jobs=-1,error_score='raise')\n",
        "print(mean(n_scores))\n",
        "print(std(n_scores))"
      ],
      "execution_count": 135,
      "outputs": [
        {
          "output_type": "stream",
          "text": [
            "0.77963710151467\n",
            "0.005425920471061865\n"
          ],
          "name": "stdout"
        }
      ]
    },
    {
      "cell_type": "code",
      "metadata": {
        "colab": {
          "base_uri": "https://localhost:8080/"
        },
        "id": "NN5h_9i9Tkzk",
        "outputId": "7a899405-eb10-43cd-c8f9-19e9593d80e2"
      },
      "source": [
        "gb.fit(x_train, y_train)"
      ],
      "execution_count": 136,
      "outputs": [
        {
          "output_type": "execute_result",
          "data": {
            "text/plain": [
              "GradientBoostingClassifier(ccp_alpha=0.0, criterion='friedman_mse', init=None,\n",
              "                           learning_rate=0.1, loss='deviance', max_depth=3,\n",
              "                           max_features=None, max_leaf_nodes=None,\n",
              "                           min_impurity_decrease=0.0, min_impurity_split=None,\n",
              "                           min_samples_leaf=1, min_samples_split=2,\n",
              "                           min_weight_fraction_leaf=0.0, n_estimators=100,\n",
              "                           n_iter_no_change=None, presort='deprecated',\n",
              "                           random_state=None, subsample=1.0, tol=0.0001,\n",
              "                           validation_fraction=0.1, verbose=0,\n",
              "                           warm_start=False)"
            ]
          },
          "metadata": {
            "tags": []
          },
          "execution_count": 136
        }
      ]
    },
    {
      "cell_type": "code",
      "metadata": {
        "colab": {
          "base_uri": "https://localhost:8080/"
        },
        "id": "peszWstLT432",
        "outputId": "63d773cd-da2a-4c53-da06-52187d210d0b"
      },
      "source": [
        "#get the accuracy score\n",
        "gb_pred=gb.predict(x_test)\n",
        "gb_pred[0]"
      ],
      "execution_count": 137,
      "outputs": [
        {
          "output_type": "execute_result",
          "data": {
            "text/plain": [
              "0"
            ]
          },
          "metadata": {
            "tags": []
          },
          "execution_count": 137
        }
      ]
    },
    {
      "cell_type": "code",
      "metadata": {
        "id": "xywsfe5FT461"
      },
      "source": [
        "#Predict"
      ],
      "execution_count": null,
      "outputs": []
    },
    {
      "cell_type": "code",
      "metadata": {
        "id": "LohtWfdiXnQw"
      },
      "source": [
        ""
      ],
      "execution_count": null,
      "outputs": []
    },
    {
      "cell_type": "code",
      "metadata": {
        "colab": {
          "base_uri": "https://localhost:8080/",
          "height": 194
        },
        "id": "P6hr-B5BT49F",
        "outputId": "13e47a3c-dbf2-4477-a365-1cb0e07d3a9a"
      },
      "source": [
        "no_of_tests=[100]\n",
        "p_dict={'n_estimators':no_of_tests,'n_jobs':[-1],'max_features':[\"auto\",\"log2\"] }\n",
        "mdl_fin=GridSearchCV(estimator=RandomForestClassifier(), param_grid=p_dict)\n",
        "\n",
        "mdl_fin.fit(x_train, y_train)\n",
        "pred=mdl_fin.predict(test_data_mdl.drop('id',axis=1))\n",
        "is_cancelled={'id':test_data_mdl['id'], 'is_cancelled':pred}\n",
        "\n",
        "out_final = pd.DataFrame(is_cancelled)\n",
        "out_final.head()"
      ],
      "execution_count": 140,
      "outputs": [
        {
          "output_type": "execute_result",
          "data": {
            "text/html": [
              "<div>\n",
              "<style scoped>\n",
              "    .dataframe tbody tr th:only-of-type {\n",
              "        vertical-align: middle;\n",
              "    }\n",
              "\n",
              "    .dataframe tbody tr th {\n",
              "        vertical-align: top;\n",
              "    }\n",
              "\n",
              "    .dataframe thead th {\n",
              "        text-align: right;\n",
              "    }\n",
              "</style>\n",
              "<table border=\"1\" class=\"dataframe\">\n",
              "  <thead>\n",
              "    <tr style=\"text-align: right;\">\n",
              "      <th></th>\n",
              "      <th>id</th>\n",
              "      <th>is_cancelled</th>\n",
              "    </tr>\n",
              "  </thead>\n",
              "  <tbody>\n",
              "    <tr>\n",
              "      <th>30946</th>\n",
              "      <td>30947</td>\n",
              "      <td>1</td>\n",
              "    </tr>\n",
              "    <tr>\n",
              "      <th>40207</th>\n",
              "      <td>40208</td>\n",
              "      <td>0</td>\n",
              "    </tr>\n",
              "    <tr>\n",
              "      <th>103708</th>\n",
              "      <td>103709</td>\n",
              "      <td>0</td>\n",
              "    </tr>\n",
              "    <tr>\n",
              "      <th>85144</th>\n",
              "      <td>85145</td>\n",
              "      <td>0</td>\n",
              "    </tr>\n",
              "    <tr>\n",
              "      <th>109991</th>\n",
              "      <td>109992</td>\n",
              "      <td>1</td>\n",
              "    </tr>\n",
              "  </tbody>\n",
              "</table>\n",
              "</div>"
            ],
            "text/plain": [
              "            id  is_cancelled\n",
              "30946    30947             1\n",
              "40207    40208             0\n",
              "103708  103709             0\n",
              "85144    85145             0\n",
              "109991  109992             1"
            ]
          },
          "metadata": {
            "tags": []
          },
          "execution_count": 140
        }
      ]
    },
    {
      "cell_type": "code",
      "metadata": {
        "colab": {
          "base_uri": "https://localhost:8080/"
        },
        "id": "XQu49BNRUYQ2",
        "outputId": "67c2a5bd-e84f-4cf1-9bc8-6d61b59fbc29"
      },
      "source": [
        "submission_df = out_final.copy()\n",
        "print(len(submission_df))"
      ],
      "execution_count": 141,
      "outputs": [
        {
          "output_type": "stream",
          "text": [
            "47756\n"
          ],
          "name": "stdout"
        }
      ]
    },
    {
      "cell_type": "code",
      "metadata": {
        "id": "dA5ETQbuUYUt"
      },
      "source": [
        "#Submission\n",
        "submission_df.to_csv('submissions.csv',index=False)"
      ],
      "execution_count": 142,
      "outputs": []
    }
  ]
}