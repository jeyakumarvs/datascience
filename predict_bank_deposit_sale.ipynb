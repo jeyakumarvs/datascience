{
  "nbformat": 4,
  "nbformat_minor": 0,
  "metadata": {
    "colab": {
      "name": "predict-bank-deposit-sale",
      "provenance": [],
      "collapsed_sections": [],
      "authorship_tag": "ABX9TyOglKlv16pk97POJ0Q2OICD"
    },
    "kernelspec": {
      "name": "python3",
      "display_name": "Python 3"
    },
    "language_info": {
      "name": "python"
    }
  },
  "cells": [
    {
      "cell_type": "code",
      "metadata": {
        "id": "Vp7rZNQqqKh6"
      },
      "source": [
        "# If additional packages are needed but are not installed by default, uncomment the last two lines of this cell\n",
        "# and replace <package list> with a list of additional packages.\n",
        "# This will ensure the notebook has all the dependencies and works everywhere\n",
        "\n",
        "import sys\n",
        "import numpy as np\n",
        "from numpy import mean\n",
        "from numpy import std\n",
        "import pandas as pd\n",
        "import matplotlib.pyplot as plt\n",
        "import seaborn as sb\n",
        "\n",
        "from sklearn.model_selection import train_test_split\n",
        "\n",
        "#classification ml\n",
        "from sklearn.neighbors import KNeighborsClassifier\n",
        "from sklearn.ensemble import RandomForestClassifier\n",
        "from sklearn.ensemble import GradientBoostingClassifier\n",
        "\n",
        "#model selection\n",
        "from sklearn.model_selection import RandomizedSearchCV\n",
        "from sklearn.model_selection import GridSearchCV\n",
        "from sklearn.model_selection import RepeatedStratifiedKFold\n",
        "from sklearn.model_selection import cross_val_score\n",
        "\n",
        "#sklearn score\n",
        "from sklearn.metrics import accuracy_score\n",
        "from sklearn.metrics import precision_score\n",
        "from sklearn.metrics import recall_score\n",
        "from sklearn.metrics import make_scorer\n",
        "\n",
        "#others\n",
        "from sklearn import metrics\n",
        "from sklearn.metrics import classification_report\n",
        "from sklearn.metrics import confusion_matrix\n",
        "\n"
      ],
      "execution_count": null,
      "outputs": []
    },
    {
      "cell_type": "code",
      "metadata": {
        "id": "O-SEwCbHtdrv"
      },
      "source": [
        "# Libraries\n",
        "import pandas as pd\n",
        "pd.set_option(\"display.max_columns\", 101)"
      ],
      "execution_count": null,
      "outputs": []
    },
    {
      "cell_type": "code",
      "metadata": {
        "id": "VDc01w63ths6"
      },
      "source": [
        "# <H1>Data Wrangling & Visualization</H1>"
      ],
      "execution_count": null,
      "outputs": []
    },
    {
      "cell_type": "code",
      "metadata": {
        "id": "s_rbLB8Otk0Q"
      },
      "source": [
        "# The dataset is already loaded below\n",
        "data = pd.read_csv(\"/content/bank_2.csv\")"
      ],
      "execution_count": null,
      "outputs": []
    },
    {
      "cell_type": "code",
      "metadata": {
        "colab": {
          "base_uri": "https://localhost:8080/",
          "height": 215
        },
        "id": "NFb4_fOCue3E",
        "outputId": "08138d57-3612-4358-eca9-bf7e08e2a142"
      },
      "source": [
        "data.head()"
      ],
      "execution_count": null,
      "outputs": [
        {
          "output_type": "execute_result",
          "data": {
            "text/html": [
              "<div>\n",
              "<style scoped>\n",
              "    .dataframe tbody tr th:only-of-type {\n",
              "        vertical-align: middle;\n",
              "    }\n",
              "\n",
              "    .dataframe tbody tr th {\n",
              "        vertical-align: top;\n",
              "    }\n",
              "\n",
              "    .dataframe thead th {\n",
              "        text-align: right;\n",
              "    }\n",
              "</style>\n",
              "<table border=\"1\" class=\"dataframe\">\n",
              "  <thead>\n",
              "    <tr style=\"text-align: right;\">\n",
              "      <th></th>\n",
              "      <th>client_id</th>\n",
              "      <th>age_bracket</th>\n",
              "      <th>job</th>\n",
              "      <th>marital</th>\n",
              "      <th>education</th>\n",
              "      <th>has_housing_loan</th>\n",
              "      <th>has_personal_loan</th>\n",
              "      <th>prev_call_day</th>\n",
              "      <th>prev_call_month</th>\n",
              "      <th>prev_call_duration</th>\n",
              "      <th>days_since_last_call</th>\n",
              "      <th>num_contacts_prev</th>\n",
              "      <th>subs_deposit</th>\n",
              "    </tr>\n",
              "  </thead>\n",
              "  <tbody>\n",
              "    <tr>\n",
              "      <th>0</th>\n",
              "      <td>1</td>\n",
              "      <td>59</td>\n",
              "      <td>admin.</td>\n",
              "      <td>married</td>\n",
              "      <td>secondary</td>\n",
              "      <td>yes</td>\n",
              "      <td>no</td>\n",
              "      <td>5</td>\n",
              "      <td>may</td>\n",
              "      <td>1042</td>\n",
              "      <td>-1</td>\n",
              "      <td>0</td>\n",
              "      <td>yes</td>\n",
              "    </tr>\n",
              "    <tr>\n",
              "      <th>1</th>\n",
              "      <td>2</td>\n",
              "      <td>56</td>\n",
              "      <td>admin.</td>\n",
              "      <td>married</td>\n",
              "      <td>secondary</td>\n",
              "      <td>no</td>\n",
              "      <td>no</td>\n",
              "      <td>5</td>\n",
              "      <td>may</td>\n",
              "      <td>1467</td>\n",
              "      <td>-1</td>\n",
              "      <td>0</td>\n",
              "      <td>yes</td>\n",
              "    </tr>\n",
              "    <tr>\n",
              "      <th>2</th>\n",
              "      <td>3</td>\n",
              "      <td>41</td>\n",
              "      <td>technician</td>\n",
              "      <td>married</td>\n",
              "      <td>secondary</td>\n",
              "      <td>yes</td>\n",
              "      <td>no</td>\n",
              "      <td>5</td>\n",
              "      <td>may</td>\n",
              "      <td>1389</td>\n",
              "      <td>-1</td>\n",
              "      <td>0</td>\n",
              "      <td>yes</td>\n",
              "    </tr>\n",
              "    <tr>\n",
              "      <th>3</th>\n",
              "      <td>4</td>\n",
              "      <td>55</td>\n",
              "      <td>services</td>\n",
              "      <td>married</td>\n",
              "      <td>secondary</td>\n",
              "      <td>yes</td>\n",
              "      <td>no</td>\n",
              "      <td>5</td>\n",
              "      <td>may</td>\n",
              "      <td>579</td>\n",
              "      <td>-1</td>\n",
              "      <td>0</td>\n",
              "      <td>yes</td>\n",
              "    </tr>\n",
              "    <tr>\n",
              "      <th>4</th>\n",
              "      <td>5</td>\n",
              "      <td>54</td>\n",
              "      <td>admin.</td>\n",
              "      <td>married</td>\n",
              "      <td>tertiary</td>\n",
              "      <td>no</td>\n",
              "      <td>no</td>\n",
              "      <td>5</td>\n",
              "      <td>may</td>\n",
              "      <td>673</td>\n",
              "      <td>-1</td>\n",
              "      <td>0</td>\n",
              "      <td>yes</td>\n",
              "    </tr>\n",
              "  </tbody>\n",
              "</table>\n",
              "</div>"
            ],
            "text/plain": [
              "   client_id  age_bracket         job  marital  education has_housing_loan  \\\n",
              "0          1           59      admin.  married  secondary              yes   \n",
              "1          2           56      admin.  married  secondary               no   \n",
              "2          3           41  technician  married  secondary              yes   \n",
              "3          4           55    services  married  secondary              yes   \n",
              "4          5           54      admin.  married   tertiary               no   \n",
              "\n",
              "  has_personal_loan  prev_call_day prev_call_month  prev_call_duration  \\\n",
              "0                no              5             may                1042   \n",
              "1                no              5             may                1467   \n",
              "2                no              5             may                1389   \n",
              "3                no              5             may                 579   \n",
              "4                no              5             may                 673   \n",
              "\n",
              "   days_since_last_call  num_contacts_prev subs_deposit  \n",
              "0                    -1                  0          yes  \n",
              "1                    -1                  0          yes  \n",
              "2                    -1                  0          yes  \n",
              "3                    -1                  0          yes  \n",
              "4                    -1                  0          yes  "
            ]
          },
          "metadata": {
            "tags": []
          },
          "execution_count": 5
        }
      ]
    },
    {
      "cell_type": "code",
      "metadata": {
        "colab": {
          "base_uri": "https://localhost:8080/"
        },
        "id": "GOWEVS0Fu3RL",
        "outputId": "93c605ab-5b88-428b-c941-11383540e149"
      },
      "source": [
        "#Explore columns\n",
        "data.columns"
      ],
      "execution_count": null,
      "outputs": [
        {
          "output_type": "execute_result",
          "data": {
            "text/plain": [
              "Index(['client_id', 'age_bracket', 'job', 'marital', 'education',\n",
              "       'has_housing_loan', 'has_personal_loan', 'prev_call_day',\n",
              "       'prev_call_month', 'prev_call_duration', 'days_since_last_call',\n",
              "       'num_contacts_prev', 'subs_deposit'],\n",
              "      dtype='object')"
            ]
          },
          "metadata": {
            "tags": []
          },
          "execution_count": 6
        }
      ]
    },
    {
      "cell_type": "code",
      "metadata": {
        "colab": {
          "base_uri": "https://localhost:8080/",
          "height": 284
        },
        "id": "tMidMM1qu9KQ",
        "outputId": "07f693de-8f83-4c64-e79d-74f599d557c5"
      },
      "source": [
        "data.describe()"
      ],
      "execution_count": null,
      "outputs": [
        {
          "output_type": "execute_result",
          "data": {
            "text/html": [
              "<div>\n",
              "<style scoped>\n",
              "    .dataframe tbody tr th:only-of-type {\n",
              "        vertical-align: middle;\n",
              "    }\n",
              "\n",
              "    .dataframe tbody tr th {\n",
              "        vertical-align: top;\n",
              "    }\n",
              "\n",
              "    .dataframe thead th {\n",
              "        text-align: right;\n",
              "    }\n",
              "</style>\n",
              "<table border=\"1\" class=\"dataframe\">\n",
              "  <thead>\n",
              "    <tr style=\"text-align: right;\">\n",
              "      <th></th>\n",
              "      <th>client_id</th>\n",
              "      <th>age_bracket</th>\n",
              "      <th>prev_call_day</th>\n",
              "      <th>prev_call_duration</th>\n",
              "      <th>days_since_last_call</th>\n",
              "      <th>num_contacts_prev</th>\n",
              "    </tr>\n",
              "  </thead>\n",
              "  <tbody>\n",
              "    <tr>\n",
              "      <th>count</th>\n",
              "      <td>11162.000000</td>\n",
              "      <td>11162.000000</td>\n",
              "      <td>11162.000000</td>\n",
              "      <td>11162.000000</td>\n",
              "      <td>11162.000000</td>\n",
              "      <td>11162.000000</td>\n",
              "    </tr>\n",
              "    <tr>\n",
              "      <th>mean</th>\n",
              "      <td>5581.500000</td>\n",
              "      <td>41.231948</td>\n",
              "      <td>15.658036</td>\n",
              "      <td>371.993818</td>\n",
              "      <td>51.330407</td>\n",
              "      <td>0.832557</td>\n",
              "    </tr>\n",
              "    <tr>\n",
              "      <th>std</th>\n",
              "      <td>3222.336187</td>\n",
              "      <td>11.913369</td>\n",
              "      <td>8.420740</td>\n",
              "      <td>347.128386</td>\n",
              "      <td>108.758282</td>\n",
              "      <td>2.292007</td>\n",
              "    </tr>\n",
              "    <tr>\n",
              "      <th>min</th>\n",
              "      <td>1.000000</td>\n",
              "      <td>18.000000</td>\n",
              "      <td>1.000000</td>\n",
              "      <td>2.000000</td>\n",
              "      <td>-1.000000</td>\n",
              "      <td>0.000000</td>\n",
              "    </tr>\n",
              "    <tr>\n",
              "      <th>25%</th>\n",
              "      <td>2791.250000</td>\n",
              "      <td>32.000000</td>\n",
              "      <td>8.000000</td>\n",
              "      <td>138.000000</td>\n",
              "      <td>-1.000000</td>\n",
              "      <td>0.000000</td>\n",
              "    </tr>\n",
              "    <tr>\n",
              "      <th>50%</th>\n",
              "      <td>5581.500000</td>\n",
              "      <td>39.000000</td>\n",
              "      <td>15.000000</td>\n",
              "      <td>255.000000</td>\n",
              "      <td>-1.000000</td>\n",
              "      <td>0.000000</td>\n",
              "    </tr>\n",
              "    <tr>\n",
              "      <th>75%</th>\n",
              "      <td>8371.750000</td>\n",
              "      <td>49.000000</td>\n",
              "      <td>22.000000</td>\n",
              "      <td>496.000000</td>\n",
              "      <td>20.750000</td>\n",
              "      <td>1.000000</td>\n",
              "    </tr>\n",
              "    <tr>\n",
              "      <th>max</th>\n",
              "      <td>11162.000000</td>\n",
              "      <td>95.000000</td>\n",
              "      <td>31.000000</td>\n",
              "      <td>3881.000000</td>\n",
              "      <td>854.000000</td>\n",
              "      <td>58.000000</td>\n",
              "    </tr>\n",
              "  </tbody>\n",
              "</table>\n",
              "</div>"
            ],
            "text/plain": [
              "          client_id   age_bracket  prev_call_day  prev_call_duration  \\\n",
              "count  11162.000000  11162.000000   11162.000000        11162.000000   \n",
              "mean    5581.500000     41.231948      15.658036          371.993818   \n",
              "std     3222.336187     11.913369       8.420740          347.128386   \n",
              "min        1.000000     18.000000       1.000000            2.000000   \n",
              "25%     2791.250000     32.000000       8.000000          138.000000   \n",
              "50%     5581.500000     39.000000      15.000000          255.000000   \n",
              "75%     8371.750000     49.000000      22.000000          496.000000   \n",
              "max    11162.000000     95.000000      31.000000         3881.000000   \n",
              "\n",
              "       days_since_last_call  num_contacts_prev  \n",
              "count          11162.000000       11162.000000  \n",
              "mean              51.330407           0.832557  \n",
              "std              108.758282           2.292007  \n",
              "min               -1.000000           0.000000  \n",
              "25%               -1.000000           0.000000  \n",
              "50%               -1.000000           0.000000  \n",
              "75%               20.750000           1.000000  \n",
              "max              854.000000          58.000000  "
            ]
          },
          "metadata": {
            "tags": []
          },
          "execution_count": 7
        }
      ]
    },
    {
      "cell_type": "code",
      "metadata": {
        "colab": {
          "base_uri": "https://localhost:8080/"
        },
        "id": "BSK-pacSvCF4",
        "outputId": "222c37cd-f67d-44b2-bd81-d4033a9da701"
      },
      "source": [
        "#based on this information, there is no missing data; so, no need to worry about the filling the missing data\n",
        "data.info()"
      ],
      "execution_count": null,
      "outputs": [
        {
          "output_type": "stream",
          "text": [
            "<class 'pandas.core.frame.DataFrame'>\n",
            "RangeIndex: 11162 entries, 0 to 11161\n",
            "Data columns (total 13 columns):\n",
            " #   Column                Non-Null Count  Dtype \n",
            "---  ------                --------------  ----- \n",
            " 0   client_id             11162 non-null  int64 \n",
            " 1   age_bracket           11162 non-null  int64 \n",
            " 2   job                   11162 non-null  object\n",
            " 3   marital               11162 non-null  object\n",
            " 4   education             11162 non-null  object\n",
            " 5   has_housing_loan      11162 non-null  object\n",
            " 6   has_personal_loan     11162 non-null  object\n",
            " 7   prev_call_day         11162 non-null  int64 \n",
            " 8   prev_call_month       11162 non-null  object\n",
            " 9   prev_call_duration    11162 non-null  int64 \n",
            " 10  days_since_last_call  11162 non-null  int64 \n",
            " 11  num_contacts_prev     11162 non-null  int64 \n",
            " 12  subs_deposit          11162 non-null  object\n",
            "dtypes: int64(6), object(7)\n",
            "memory usage: 1.1+ MB\n"
          ],
          "name": "stdout"
        }
      ]
    },
    {
      "cell_type": "code",
      "metadata": {
        "id": "FOXqY3UGvKN2"
      },
      "source": [
        " # Visualization, Modeling, Machine Learning"
      ],
      "execution_count": null,
      "outputs": []
    },
    {
      "cell_type": "code",
      "metadata": {
        "colab": {
          "base_uri": "https://localhost:8080/"
        },
        "id": "IqlLHhcHwBZI",
        "outputId": "5ce98f3c-d029-4317-f1fd-19ff0d6d4fc6"
      },
      "source": [
        "data.subs_deposit.value_counts()"
      ],
      "execution_count": null,
      "outputs": [
        {
          "output_type": "execute_result",
          "data": {
            "text/plain": [
              "no     5873\n",
              "yes    5289\n",
              "Name: subs_deposit, dtype: int64"
            ]
          },
          "metadata": {
            "tags": []
          },
          "execution_count": 11
        }
      ]
    },
    {
      "cell_type": "code",
      "metadata": {
        "colab": {
          "base_uri": "https://localhost:8080/"
        },
        "id": "B9DQXAZKwBbn",
        "outputId": "a9c9db4a-4786-48a5-f89c-4095fae2543e"
      },
      "source": [
        "data.job.value_counts()"
      ],
      "execution_count": null,
      "outputs": [
        {
          "output_type": "execute_result",
          "data": {
            "text/plain": [
              "management       2566\n",
              "blue-collar      1944\n",
              "technician       1823\n",
              "admin.           1334\n",
              "services          923\n",
              "retired           778\n",
              "self-employed     405\n",
              "student           360\n",
              "unemployed        357\n",
              "entrepreneur      328\n",
              "housemaid         274\n",
              "unknown            70\n",
              "Name: job, dtype: int64"
            ]
          },
          "metadata": {
            "tags": []
          },
          "execution_count": 12
        }
      ]
    },
    {
      "cell_type": "code",
      "metadata": {
        "colab": {
          "base_uri": "https://localhost:8080/"
        },
        "id": "9r79AbU_wBeI",
        "outputId": "1e6cb914-a66e-45d1-9f2d-d97e1a7f8835"
      },
      "source": [
        "data.marital.value_counts()"
      ],
      "execution_count": null,
      "outputs": [
        {
          "output_type": "execute_result",
          "data": {
            "text/plain": [
              "married     6351\n",
              "single      3518\n",
              "divorced    1293\n",
              "Name: marital, dtype: int64"
            ]
          },
          "metadata": {
            "tags": []
          },
          "execution_count": 13
        }
      ]
    },
    {
      "cell_type": "code",
      "metadata": {
        "colab": {
          "base_uri": "https://localhost:8080/"
        },
        "id": "U_BfB8Y2wBgi",
        "outputId": "4bb96421-bd22-4e0e-81fe-4dae058aa733"
      },
      "source": [
        "data.education.value_counts()"
      ],
      "execution_count": null,
      "outputs": [
        {
          "output_type": "execute_result",
          "data": {
            "text/plain": [
              "secondary    5476\n",
              "tertiary     3689\n",
              "primary      1500\n",
              "unknown       497\n",
              "Name: education, dtype: int64"
            ]
          },
          "metadata": {
            "tags": []
          },
          "execution_count": 14
        }
      ]
    },
    {
      "cell_type": "code",
      "metadata": {
        "colab": {
          "base_uri": "https://localhost:8080/"
        },
        "id": "-PqrOpPdMXTN",
        "outputId": "4a33056d-b2ad-4765-a3f9-6c16588c4a58"
      },
      "source": [
        "data.prev_call_month.value_counts()"
      ],
      "execution_count": null,
      "outputs": [
        {
          "output_type": "execute_result",
          "data": {
            "text/plain": [
              "may    2824\n",
              "aug    1519\n",
              "jul    1514\n",
              "jun    1222\n",
              "nov     943\n",
              "apr     923\n",
              "feb     776\n",
              "oct     392\n",
              "jan     344\n",
              "sep     319\n",
              "mar     276\n",
              "dec     110\n",
              "Name: prev_call_month, dtype: int64"
            ]
          },
          "metadata": {
            "tags": []
          },
          "execution_count": 6
        }
      ]
    },
    {
      "cell_type": "code",
      "metadata": {
        "colab": {
          "base_uri": "https://localhost:8080/"
        },
        "id": "8aYlwZWXUzFt",
        "outputId": "8cd7ce43-7588-4b77-9917-144659ac58c5"
      },
      "source": [
        "#convert this into the numerical values\n",
        "\n",
        "mon= {'jan':1, 'feb':2, 'mar':3, 'apr':4, 'may':5, 'jun':6, 'jul':7, 'aug':8, 'sep':9, 'oct':10, 'nov':11, 'dec':12}\n",
        "\n",
        "data['prev_call_month_nbr'] = data['prev_call_month'].map(mon);\n",
        "data['prev_call_month_nbr'].value_counts()"
      ],
      "execution_count": null,
      "outputs": [
        {
          "output_type": "execute_result",
          "data": {
            "text/plain": [
              "5     2824\n",
              "8     1519\n",
              "7     1514\n",
              "6     1222\n",
              "11     943\n",
              "4      923\n",
              "2      776\n",
              "10     392\n",
              "1      344\n",
              "9      319\n",
              "3      276\n",
              "12     110\n",
              "Name: prev_call_month_nbr, dtype: int64"
            ]
          },
          "metadata": {
            "tags": []
          },
          "execution_count": 56
        }
      ]
    },
    {
      "cell_type": "code",
      "metadata": {
        "colab": {
          "base_uri": "https://localhost:8080/",
          "height": 284
        },
        "id": "oUW3gsNWZdkc",
        "outputId": "db7599bf-7363-411c-f3a2-5a0cad094001"
      },
      "source": [
        "data.describe()"
      ],
      "execution_count": null,
      "outputs": [
        {
          "output_type": "execute_result",
          "data": {
            "text/html": [
              "<div>\n",
              "<style scoped>\n",
              "    .dataframe tbody tr th:only-of-type {\n",
              "        vertical-align: middle;\n",
              "    }\n",
              "\n",
              "    .dataframe tbody tr th {\n",
              "        vertical-align: top;\n",
              "    }\n",
              "\n",
              "    .dataframe thead th {\n",
              "        text-align: right;\n",
              "    }\n",
              "</style>\n",
              "<table border=\"1\" class=\"dataframe\">\n",
              "  <thead>\n",
              "    <tr style=\"text-align: right;\">\n",
              "      <th></th>\n",
              "      <th>client_id</th>\n",
              "      <th>age_bracket</th>\n",
              "      <th>prev_call_day</th>\n",
              "      <th>prev_call_duration</th>\n",
              "      <th>days_since_last_call</th>\n",
              "      <th>num_contacts_prev</th>\n",
              "      <th>prev_call_month_nbr</th>\n",
              "    </tr>\n",
              "  </thead>\n",
              "  <tbody>\n",
              "    <tr>\n",
              "      <th>count</th>\n",
              "      <td>11162.000000</td>\n",
              "      <td>11162.000000</td>\n",
              "      <td>11162.000000</td>\n",
              "      <td>11162.000000</td>\n",
              "      <td>11162.000000</td>\n",
              "      <td>11162.000000</td>\n",
              "      <td>11162.000000</td>\n",
              "    </tr>\n",
              "    <tr>\n",
              "      <th>mean</th>\n",
              "      <td>5581.500000</td>\n",
              "      <td>41.231948</td>\n",
              "      <td>15.658036</td>\n",
              "      <td>371.993818</td>\n",
              "      <td>51.330407</td>\n",
              "      <td>0.832557</td>\n",
              "      <td>6.190826</td>\n",
              "    </tr>\n",
              "    <tr>\n",
              "      <th>std</th>\n",
              "      <td>3222.336187</td>\n",
              "      <td>11.913369</td>\n",
              "      <td>8.420740</td>\n",
              "      <td>347.128386</td>\n",
              "      <td>108.758282</td>\n",
              "      <td>2.292007</td>\n",
              "      <td>2.572792</td>\n",
              "    </tr>\n",
              "    <tr>\n",
              "      <th>min</th>\n",
              "      <td>1.000000</td>\n",
              "      <td>18.000000</td>\n",
              "      <td>1.000000</td>\n",
              "      <td>2.000000</td>\n",
              "      <td>-1.000000</td>\n",
              "      <td>0.000000</td>\n",
              "      <td>1.000000</td>\n",
              "    </tr>\n",
              "    <tr>\n",
              "      <th>25%</th>\n",
              "      <td>2791.250000</td>\n",
              "      <td>32.000000</td>\n",
              "      <td>8.000000</td>\n",
              "      <td>138.000000</td>\n",
              "      <td>-1.000000</td>\n",
              "      <td>0.000000</td>\n",
              "      <td>5.000000</td>\n",
              "    </tr>\n",
              "    <tr>\n",
              "      <th>50%</th>\n",
              "      <td>5581.500000</td>\n",
              "      <td>39.000000</td>\n",
              "      <td>15.000000</td>\n",
              "      <td>255.000000</td>\n",
              "      <td>-1.000000</td>\n",
              "      <td>0.000000</td>\n",
              "      <td>6.000000</td>\n",
              "    </tr>\n",
              "    <tr>\n",
              "      <th>75%</th>\n",
              "      <td>8371.750000</td>\n",
              "      <td>49.000000</td>\n",
              "      <td>22.000000</td>\n",
              "      <td>496.000000</td>\n",
              "      <td>20.750000</td>\n",
              "      <td>1.000000</td>\n",
              "      <td>8.000000</td>\n",
              "    </tr>\n",
              "    <tr>\n",
              "      <th>max</th>\n",
              "      <td>11162.000000</td>\n",
              "      <td>95.000000</td>\n",
              "      <td>31.000000</td>\n",
              "      <td>3881.000000</td>\n",
              "      <td>854.000000</td>\n",
              "      <td>58.000000</td>\n",
              "      <td>12.000000</td>\n",
              "    </tr>\n",
              "  </tbody>\n",
              "</table>\n",
              "</div>"
            ],
            "text/plain": [
              "          client_id   age_bracket  prev_call_day  prev_call_duration  \\\n",
              "count  11162.000000  11162.000000   11162.000000        11162.000000   \n",
              "mean    5581.500000     41.231948      15.658036          371.993818   \n",
              "std     3222.336187     11.913369       8.420740          347.128386   \n",
              "min        1.000000     18.000000       1.000000            2.000000   \n",
              "25%     2791.250000     32.000000       8.000000          138.000000   \n",
              "50%     5581.500000     39.000000      15.000000          255.000000   \n",
              "75%     8371.750000     49.000000      22.000000          496.000000   \n",
              "max    11162.000000     95.000000      31.000000         3881.000000   \n",
              "\n",
              "       days_since_last_call  num_contacts_prev  prev_call_month_nbr  \n",
              "count          11162.000000       11162.000000         11162.000000  \n",
              "mean              51.330407           0.832557             6.190826  \n",
              "std              108.758282           2.292007             2.572792  \n",
              "min               -1.000000           0.000000             1.000000  \n",
              "25%               -1.000000           0.000000             5.000000  \n",
              "50%               -1.000000           0.000000             6.000000  \n",
              "75%               20.750000           1.000000             8.000000  \n",
              "max              854.000000          58.000000            12.000000  "
            ]
          },
          "metadata": {
            "tags": []
          },
          "execution_count": 57
        }
      ]
    },
    {
      "cell_type": "code",
      "metadata": {
        "colab": {
          "base_uri": "https://localhost:8080/"
        },
        "id": "hO9WLnXLtlMu",
        "outputId": "4066220c-193c-4f0f-9353-f0fb70b2ec16"
      },
      "source": [
        "#Add a categorical variable prev_caontacted --> yes/ no\n",
        "#logic : IF num_contacts_prev = -1 THEN 'no' ELSE 'yes'\n",
        "\n",
        "def prev_contacted(n):\n",
        "    if n >=1:\n",
        "        return 'yes'\n",
        "    else:\n",
        "        return 'no'\n",
        "\n",
        "data['prev_contacted'] = data['num_contacts_prev'].apply(prev_contacted)\n",
        "\n",
        "data['prev_contacted'].value_counts()"
      ],
      "execution_count": null,
      "outputs": [
        {
          "output_type": "execute_result",
          "data": {
            "text/plain": [
              "no     8324\n",
              "yes    2838\n",
              "Name: prev_contacted, dtype: int64"
            ]
          },
          "metadata": {
            "tags": []
          },
          "execution_count": 58
        }
      ]
    },
    {
      "cell_type": "code",
      "metadata": {
        "colab": {
          "base_uri": "https://localhost:8080/"
        },
        "id": "TE9cgmyLvLkU",
        "outputId": "9903568f-e52a-4d37-b1b5-dd58fd92af39"
      },
      "source": [
        "data.info()"
      ],
      "execution_count": null,
      "outputs": [
        {
          "output_type": "stream",
          "text": [
            "<class 'pandas.core.frame.DataFrame'>\n",
            "RangeIndex: 11162 entries, 0 to 11161\n",
            "Data columns (total 15 columns):\n",
            " #   Column                Non-Null Count  Dtype \n",
            "---  ------                --------------  ----- \n",
            " 0   client_id             11162 non-null  int64 \n",
            " 1   age_bracket           11162 non-null  int64 \n",
            " 2   job                   11162 non-null  object\n",
            " 3   marital               11162 non-null  object\n",
            " 4   education             11162 non-null  object\n",
            " 5   has_housing_loan      11162 non-null  object\n",
            " 6   has_personal_loan     11162 non-null  object\n",
            " 7   prev_call_day         11162 non-null  int64 \n",
            " 8   prev_call_month       11162 non-null  object\n",
            " 9   prev_call_duration    11162 non-null  int64 \n",
            " 10  days_since_last_call  11162 non-null  int64 \n",
            " 11  num_contacts_prev     11162 non-null  int64 \n",
            " 12  subs_deposit          11162 non-null  object\n",
            " 13  prev_call_month_nbr   11162 non-null  int64 \n",
            " 14  prev_contacted        11162 non-null  object\n",
            "dtypes: int64(7), object(8)\n",
            "memory usage: 1.3+ MB\n"
          ],
          "name": "stdout"
        }
      ]
    },
    {
      "cell_type": "code",
      "metadata": {
        "colab": {
          "base_uri": "https://localhost:8080/"
        },
        "id": "fVBYXa-Kfc-n",
        "outputId": "be86c4aa-4981-4640-d970-2ef1f51d7dbf"
      },
      "source": [
        "var_cat = data.select_dtypes('object').columns.to_list()\n",
        "#Remove the target column\n",
        "var_cat.remove('subs_deposit')\n",
        "var_cat"
      ],
      "execution_count": null,
      "outputs": [
        {
          "output_type": "execute_result",
          "data": {
            "text/plain": [
              "['job',\n",
              " 'marital',\n",
              " 'education',\n",
              " 'has_housing_loan',\n",
              " 'has_personal_loan',\n",
              " 'prev_call_month',\n",
              " 'prev_contacted']"
            ]
          },
          "metadata": {
            "tags": []
          },
          "execution_count": 60
        }
      ]
    },
    {
      "cell_type": "code",
      "metadata": {
        "colab": {
          "base_uri": "https://localhost:8080/",
          "height": 800
        },
        "id": "NO5pW-Zqf1wo",
        "outputId": "cde32f45-cbbe-44e3-a738-7528e3e63485"
      },
      "source": [
        "fig, ax = plt.subplots(3,3, figsize=(20,15))\n",
        "\n",
        "ax = ax.ravel()\n",
        "position = 0\n",
        "\n",
        "for i in var_cat:\n",
        "    \n",
        "    order = data[i].value_counts().index\n",
        "    sb.countplot(data=data, x=i, ax=ax[position], hue='subs_deposit', palette='Set2', order=order)\n",
        "    ax[position].tick_params(labelrotation=90)\n",
        "    ax[position].set_title(i, fontdict={'fontsize':16})\n",
        "    \n",
        "    position += 1\n",
        "\n",
        "plt.subplots_adjust(hspace=0.5)\n",
        "\n",
        "plt.show()"
      ],
      "execution_count": null,
      "outputs": [
        {
          "output_type": "display_data",
          "data": {
            "image/png": "[encoded data removed]",
            "text/plain": [
              "<Figure size 1440x1080 with 9 Axes>"
            ]
          },
          "metadata": {
            "tags": [],
            "needs_background": "light"
          }
        }
      ]
    },
    {
      "cell_type": "code",
      "metadata": {
        "colab": {
          "base_uri": "https://localhost:8080/"
        },
        "id": "7rbt4jvt7M22",
        "outputId": "084c5ef1-baca-424c-bd56-1c169539c8c0"
      },
      "source": [
        "var_num = data.select_dtypes(['int64', 'float64']).columns.to_list()\n",
        "#var_num.remove('client_id')\n",
        "len(var_num)"
      ],
      "execution_count": null,
      "outputs": [
        {
          "output_type": "execute_result",
          "data": {
            "text/plain": [
              "7"
            ]
          },
          "metadata": {
            "tags": []
          },
          "execution_count": 62
        }
      ]
    },
    {
      "cell_type": "code",
      "metadata": {
        "colab": {
          "base_uri": "https://localhost:8080/",
          "height": 808
        },
        "id": "SoAeoMf77NKy",
        "outputId": "a95f2872-a786-4d43-a4f1-4c394b98749d"
      },
      "source": [
        "data.hist(figsize=(20,10), edgecolor='white', color='#00afb9')\n",
        "plt.show()\n",
        "\n",
        "display(data[var_num].describe())"
      ],
      "execution_count": null,
      "outputs": [
        {
          "output_type": "display_data",
          "data": {
            "image/png": "[encoded data removed]",
            "text/plain": [
              "<Figure size 1440x720 with 9 Axes>"
            ]
          },
          "metadata": {
            "tags": [],
            "needs_background": "light"
          }
        },
        {
          "output_type": "display_data",
          "data": {
            "text/html": [
              "<div>\n",
              "<style scoped>\n",
              "    .dataframe tbody tr th:only-of-type {\n",
              "        vertical-align: middle;\n",
              "    }\n",
              "\n",
              "    .dataframe tbody tr th {\n",
              "        vertical-align: top;\n",
              "    }\n",
              "\n",
              "    .dataframe thead th {\n",
              "        text-align: right;\n",
              "    }\n",
              "</style>\n",
              "<table border=\"1\" class=\"dataframe\">\n",
              "  <thead>\n",
              "    <tr style=\"text-align: right;\">\n",
              "      <th></th>\n",
              "      <th>client_id</th>\n",
              "      <th>age_bracket</th>\n",
              "      <th>prev_call_day</th>\n",
              "      <th>prev_call_duration</th>\n",
              "      <th>days_since_last_call</th>\n",
              "      <th>num_contacts_prev</th>\n",
              "      <th>prev_call_month_nbr</th>\n",
              "    </tr>\n",
              "  </thead>\n",
              "  <tbody>\n",
              "    <tr>\n",
              "      <th>count</th>\n",
              "      <td>11162.000000</td>\n",
              "      <td>11162.000000</td>\n",
              "      <td>11162.000000</td>\n",
              "      <td>11162.000000</td>\n",
              "      <td>11162.000000</td>\n",
              "      <td>11162.000000</td>\n",
              "      <td>11162.000000</td>\n",
              "    </tr>\n",
              "    <tr>\n",
              "      <th>mean</th>\n",
              "      <td>5581.500000</td>\n",
              "      <td>41.231948</td>\n",
              "      <td>15.658036</td>\n",
              "      <td>371.993818</td>\n",
              "      <td>51.330407</td>\n",
              "      <td>0.832557</td>\n",
              "      <td>6.190826</td>\n",
              "    </tr>\n",
              "    <tr>\n",
              "      <th>std</th>\n",
              "      <td>3222.336187</td>\n",
              "      <td>11.913369</td>\n",
              "      <td>8.420740</td>\n",
              "      <td>347.128386</td>\n",
              "      <td>108.758282</td>\n",
              "      <td>2.292007</td>\n",
              "      <td>2.572792</td>\n",
              "    </tr>\n",
              "    <tr>\n",
              "      <th>min</th>\n",
              "      <td>1.000000</td>\n",
              "      <td>18.000000</td>\n",
              "      <td>1.000000</td>\n",
              "      <td>2.000000</td>\n",
              "      <td>-1.000000</td>\n",
              "      <td>0.000000</td>\n",
              "      <td>1.000000</td>\n",
              "    </tr>\n",
              "    <tr>\n",
              "      <th>25%</th>\n",
              "      <td>2791.250000</td>\n",
              "      <td>32.000000</td>\n",
              "      <td>8.000000</td>\n",
              "      <td>138.000000</td>\n",
              "      <td>-1.000000</td>\n",
              "      <td>0.000000</td>\n",
              "      <td>5.000000</td>\n",
              "    </tr>\n",
              "    <tr>\n",
              "      <th>50%</th>\n",
              "      <td>5581.500000</td>\n",
              "      <td>39.000000</td>\n",
              "      <td>15.000000</td>\n",
              "      <td>255.000000</td>\n",
              "      <td>-1.000000</td>\n",
              "      <td>0.000000</td>\n",
              "      <td>6.000000</td>\n",
              "    </tr>\n",
              "    <tr>\n",
              "      <th>75%</th>\n",
              "      <td>8371.750000</td>\n",
              "      <td>49.000000</td>\n",
              "      <td>22.000000</td>\n",
              "      <td>496.000000</td>\n",
              "      <td>20.750000</td>\n",
              "      <td>1.000000</td>\n",
              "      <td>8.000000</td>\n",
              "    </tr>\n",
              "    <tr>\n",
              "      <th>max</th>\n",
              "      <td>11162.000000</td>\n",
              "      <td>95.000000</td>\n",
              "      <td>31.000000</td>\n",
              "      <td>3881.000000</td>\n",
              "      <td>854.000000</td>\n",
              "      <td>58.000000</td>\n",
              "      <td>12.000000</td>\n",
              "    </tr>\n",
              "  </tbody>\n",
              "</table>\n",
              "</div>"
            ],
            "text/plain": [
              "          client_id   age_bracket  prev_call_day  prev_call_duration  \\\n",
              "count  11162.000000  11162.000000   11162.000000        11162.000000   \n",
              "mean    5581.500000     41.231948      15.658036          371.993818   \n",
              "std     3222.336187     11.913369       8.420740          347.128386   \n",
              "min        1.000000     18.000000       1.000000            2.000000   \n",
              "25%     2791.250000     32.000000       8.000000          138.000000   \n",
              "50%     5581.500000     39.000000      15.000000          255.000000   \n",
              "75%     8371.750000     49.000000      22.000000          496.000000   \n",
              "max    11162.000000     95.000000      31.000000         3881.000000   \n",
              "\n",
              "       days_since_last_call  num_contacts_prev  prev_call_month_nbr  \n",
              "count          11162.000000       11162.000000         11162.000000  \n",
              "mean              51.330407           0.832557             6.190826  \n",
              "std              108.758282           2.292007             2.572792  \n",
              "min               -1.000000           0.000000             1.000000  \n",
              "25%               -1.000000           0.000000             5.000000  \n",
              "50%               -1.000000           0.000000             6.000000  \n",
              "75%               20.750000           1.000000             8.000000  \n",
              "max              854.000000          58.000000            12.000000  "
            ]
          },
          "metadata": {
            "tags": []
          }
        }
      ]
    },
    {
      "cell_type": "code",
      "metadata": {
        "colab": {
          "base_uri": "https://localhost:8080/",
          "height": 265
        },
        "id": "BSXA1glwf2Ag",
        "outputId": "819a7a74-ca2c-4325-f27b-922b9271180c"
      },
      "source": [
        "#Based on the above, days_since_last_call ane num_contacts_prev are skewed\n",
        "\n",
        "#num_contacts_prev\n",
        "num_contacts_prev_log = np.log(data['num_contacts_prev']+1)\n",
        "num_contacts_prev_log.hist(edgecolor='white', color='#00afb9')\n",
        "\n",
        "plt.show()"
      ],
      "execution_count": null,
      "outputs": [
        {
          "output_type": "display_data",
          "data": {
            "image/png": "[encoded data removed]",
            "text/plain": [
              "<Figure size 432x288 with 1 Axes>"
            ]
          },
          "metadata": {
            "tags": [],
            "needs_background": "light"
          }
        }
      ]
    },
    {
      "cell_type": "code",
      "metadata": {
        "colab": {
          "base_uri": "https://localhost:8080/",
          "height": 298
        },
        "id": "_F_AvyUhCR8v",
        "outputId": "5b9a25f7-d595-4498-be3d-daed0deadfa9"
      },
      "source": [
        "#days_since_last_call\n",
        "days_since_last_call_log = np.log(data['days_since_last_call'] )\n",
        "days_since_last_call_log.hist(edgecolor='white', color='#00afb9')\n",
        "\n",
        "plt.show()"
      ],
      "execution_count": null,
      "outputs": [
        {
          "output_type": "stream",
          "text": [
            "/usr/local/lib/python3.7/dist-packages/pandas/core/series.py:726: RuntimeWarning: invalid value encountered in log\n",
            "  result = getattr(ufunc, method)(*inputs, **kwargs)\n"
          ],
          "name": "stderr"
        },
        {
          "output_type": "display_data",
          "data": {
            "image/png": "[encoded data removed]",
            "text/plain": [
              "<Figure size 432x288 with 1 Axes>"
            ]
          },
          "metadata": {
            "tags": [],
            "needs_background": "light"
          }
        }
      ]
    },
    {
      "cell_type": "code",
      "metadata": {
        "colab": {
          "base_uri": "https://localhost:8080/"
        },
        "id": "jfJXroXRDGJE",
        "outputId": "7162188c-0d2b-45e8-8764-d13d7be58406"
      },
      "source": [
        "data.info()"
      ],
      "execution_count": null,
      "outputs": [
        {
          "output_type": "stream",
          "text": [
            "<class 'pandas.core.frame.DataFrame'>\n",
            "RangeIndex: 11162 entries, 0 to 11161\n",
            "Data columns (total 15 columns):\n",
            " #   Column                Non-Null Count  Dtype \n",
            "---  ------                --------------  ----- \n",
            " 0   client_id             11162 non-null  int64 \n",
            " 1   age_bracket           11162 non-null  int64 \n",
            " 2   job                   11162 non-null  object\n",
            " 3   marital               11162 non-null  object\n",
            " 4   education             11162 non-null  object\n",
            " 5   has_housing_loan      11162 non-null  object\n",
            " 6   has_personal_loan     11162 non-null  object\n",
            " 7   prev_call_day         11162 non-null  int64 \n",
            " 8   prev_call_month       11162 non-null  object\n",
            " 9   prev_call_duration    11162 non-null  int64 \n",
            " 10  days_since_last_call  11162 non-null  int64 \n",
            " 11  num_contacts_prev     11162 non-null  int64 \n",
            " 12  subs_deposit          11162 non-null  object\n",
            " 13  prev_call_month_nbr   11162 non-null  int64 \n",
            " 14  prev_contacted        11162 non-null  object\n",
            "dtypes: int64(7), object(8)\n",
            "memory usage: 1.3+ MB\n"
          ],
          "name": "stdout"
        }
      ]
    },
    {
      "cell_type": "code",
      "metadata": {
        "colab": {
          "base_uri": "https://localhost:8080/",
          "height": 215
        },
        "id": "u0SEQ5pkz9to",
        "outputId": "c1cd8ff5-114c-411b-d258-c25a67c1dc0c"
      },
      "source": [
        "#Before generate the the corelation matrix, the categorical variables needs to be converted into Numertical variables\n",
        "\n",
        "#******************************************\n",
        "# *** 1 hot encoding is being used here ***\n",
        "#******************************************\n",
        "\n",
        "#1 marital\n",
        "data_seg = data[\"marital\"]\n",
        "\n",
        "dum_df1 = pd.get_dummies(data_seg, columns=[\"marital\"], prefix=\"m\")\n",
        "dum_df1.head(10)\n",
        "\n",
        "#add these features into the main training df\n",
        "data = data.join(dum_df1)\n",
        "\n",
        "data.head()"
      ],
      "execution_count": null,
      "outputs": [
        {
          "output_type": "execute_result",
          "data": {
            "text/html": [
              "<div>\n",
              "<style scoped>\n",
              "    .dataframe tbody tr th:only-of-type {\n",
              "        vertical-align: middle;\n",
              "    }\n",
              "\n",
              "    .dataframe tbody tr th {\n",
              "        vertical-align: top;\n",
              "    }\n",
              "\n",
              "    .dataframe thead th {\n",
              "        text-align: right;\n",
              "    }\n",
              "</style>\n",
              "<table border=\"1\" class=\"dataframe\">\n",
              "  <thead>\n",
              "    <tr style=\"text-align: right;\">\n",
              "      <th></th>\n",
              "      <th>client_id</th>\n",
              "      <th>age_bracket</th>\n",
              "      <th>job</th>\n",
              "      <th>marital</th>\n",
              "      <th>education</th>\n",
              "      <th>has_housing_loan</th>\n",
              "      <th>has_personal_loan</th>\n",
              "      <th>prev_call_day</th>\n",
              "      <th>prev_call_month</th>\n",
              "      <th>prev_call_duration</th>\n",
              "      <th>days_since_last_call</th>\n",
              "      <th>num_contacts_prev</th>\n",
              "      <th>subs_deposit</th>\n",
              "      <th>prev_call_month_nbr</th>\n",
              "      <th>prev_contacted</th>\n",
              "      <th>m_divorced</th>\n",
              "      <th>m_married</th>\n",
              "      <th>m_single</th>\n",
              "    </tr>\n",
              "  </thead>\n",
              "  <tbody>\n",
              "    <tr>\n",
              "      <th>0</th>\n",
              "      <td>1</td>\n",
              "      <td>59</td>\n",
              "      <td>admin.</td>\n",
              "      <td>married</td>\n",
              "      <td>secondary</td>\n",
              "      <td>yes</td>\n",
              "      <td>no</td>\n",
              "      <td>5</td>\n",
              "      <td>may</td>\n",
              "      <td>1042</td>\n",
              "      <td>-1</td>\n",
              "      <td>0</td>\n",
              "      <td>yes</td>\n",
              "      <td>5</td>\n",
              "      <td>no</td>\n",
              "      <td>0</td>\n",
              "      <td>1</td>\n",
              "      <td>0</td>\n",
              "    </tr>\n",
              "    <tr>\n",
              "      <th>1</th>\n",
              "      <td>2</td>\n",
              "      <td>56</td>\n",
              "      <td>admin.</td>\n",
              "      <td>married</td>\n",
              "      <td>secondary</td>\n",
              "      <td>no</td>\n",
              "      <td>no</td>\n",
              "      <td>5</td>\n",
              "      <td>may</td>\n",
              "      <td>1467</td>\n",
              "      <td>-1</td>\n",
              "      <td>0</td>\n",
              "      <td>yes</td>\n",
              "      <td>5</td>\n",
              "      <td>no</td>\n",
              "      <td>0</td>\n",
              "      <td>1</td>\n",
              "      <td>0</td>\n",
              "    </tr>\n",
              "    <tr>\n",
              "      <th>2</th>\n",
              "      <td>3</td>\n",
              "      <td>41</td>\n",
              "      <td>technician</td>\n",
              "      <td>married</td>\n",
              "      <td>secondary</td>\n",
              "      <td>yes</td>\n",
              "      <td>no</td>\n",
              "      <td>5</td>\n",
              "      <td>may</td>\n",
              "      <td>1389</td>\n",
              "      <td>-1</td>\n",
              "      <td>0</td>\n",
              "      <td>yes</td>\n",
              "      <td>5</td>\n",
              "      <td>no</td>\n",
              "      <td>0</td>\n",
              "      <td>1</td>\n",
              "      <td>0</td>\n",
              "    </tr>\n",
              "    <tr>\n",
              "      <th>3</th>\n",
              "      <td>4</td>\n",
              "      <td>55</td>\n",
              "      <td>services</td>\n",
              "      <td>married</td>\n",
              "      <td>secondary</td>\n",
              "      <td>yes</td>\n",
              "      <td>no</td>\n",
              "      <td>5</td>\n",
              "      <td>may</td>\n",
              "      <td>579</td>\n",
              "      <td>-1</td>\n",
              "      <td>0</td>\n",
              "      <td>yes</td>\n",
              "      <td>5</td>\n",
              "      <td>no</td>\n",
              "      <td>0</td>\n",
              "      <td>1</td>\n",
              "      <td>0</td>\n",
              "    </tr>\n",
              "    <tr>\n",
              "      <th>4</th>\n",
              "      <td>5</td>\n",
              "      <td>54</td>\n",
              "      <td>admin.</td>\n",
              "      <td>married</td>\n",
              "      <td>tertiary</td>\n",
              "      <td>no</td>\n",
              "      <td>no</td>\n",
              "      <td>5</td>\n",
              "      <td>may</td>\n",
              "      <td>673</td>\n",
              "      <td>-1</td>\n",
              "      <td>0</td>\n",
              "      <td>yes</td>\n",
              "      <td>5</td>\n",
              "      <td>no</td>\n",
              "      <td>0</td>\n",
              "      <td>1</td>\n",
              "      <td>0</td>\n",
              "    </tr>\n",
              "  </tbody>\n",
              "</table>\n",
              "</div>"
            ],
            "text/plain": [
              "   client_id  age_bracket         job  marital  education has_housing_loan  \\\n",
              "0          1           59      admin.  married  secondary              yes   \n",
              "1          2           56      admin.  married  secondary               no   \n",
              "2          3           41  technician  married  secondary              yes   \n",
              "3          4           55    services  married  secondary              yes   \n",
              "4          5           54      admin.  married   tertiary               no   \n",
              "\n",
              "  has_personal_loan  prev_call_day prev_call_month  prev_call_duration  \\\n",
              "0                no              5             may                1042   \n",
              "1                no              5             may                1467   \n",
              "2                no              5             may                1389   \n",
              "3                no              5             may                 579   \n",
              "4                no              5             may                 673   \n",
              "\n",
              "   days_since_last_call  num_contacts_prev subs_deposit  prev_call_month_nbr  \\\n",
              "0                    -1                  0          yes                    5   \n",
              "1                    -1                  0          yes                    5   \n",
              "2                    -1                  0          yes                    5   \n",
              "3                    -1                  0          yes                    5   \n",
              "4                    -1                  0          yes                    5   \n",
              "\n",
              "  prev_contacted  m_divorced  m_married  m_single  \n",
              "0             no           0          1         0  \n",
              "1             no           0          1         0  \n",
              "2             no           0          1         0  \n",
              "3             no           0          1         0  \n",
              "4             no           0          1         0  "
            ]
          },
          "metadata": {
            "tags": []
          },
          "execution_count": 66
        }
      ]
    },
    {
      "cell_type": "code",
      "metadata": {
        "colab": {
          "base_uri": "https://localhost:8080/",
          "height": 215
        },
        "id": "2sAK91Qq0JUk",
        "outputId": "25e6dd2e-ef08-45fd-fa2f-8f2007514732"
      },
      "source": [
        "#2 education \n",
        "data_edu = data[\"education\"]\n",
        "\n",
        "dum_df2 = pd.get_dummies(data_edu, columns=[\"education\"], prefix=\"edu\")\n",
        "dum_df2.head(10)\n",
        "\n",
        "#add these features into the main training df\n",
        "data = data.join(dum_df2)\n",
        "\n",
        "data.head()"
      ],
      "execution_count": null,
      "outputs": [
        {
          "output_type": "execute_result",
          "data": {
            "text/html": [
              "<div>\n",
              "<style scoped>\n",
              "    .dataframe tbody tr th:only-of-type {\n",
              "        vertical-align: middle;\n",
              "    }\n",
              "\n",
              "    .dataframe tbody tr th {\n",
              "        vertical-align: top;\n",
              "    }\n",
              "\n",
              "    .dataframe thead th {\n",
              "        text-align: right;\n",
              "    }\n",
              "</style>\n",
              "<table border=\"1\" class=\"dataframe\">\n",
              "  <thead>\n",
              "    <tr style=\"text-align: right;\">\n",
              "      <th></th>\n",
              "      <th>client_id</th>\n",
              "      <th>age_bracket</th>\n",
              "      <th>job</th>\n",
              "      <th>marital</th>\n",
              "      <th>education</th>\n",
              "      <th>has_housing_loan</th>\n",
              "      <th>has_personal_loan</th>\n",
              "      <th>prev_call_day</th>\n",
              "      <th>prev_call_month</th>\n",
              "      <th>prev_call_duration</th>\n",
              "      <th>days_since_last_call</th>\n",
              "      <th>num_contacts_prev</th>\n",
              "      <th>subs_deposit</th>\n",
              "      <th>prev_call_month_nbr</th>\n",
              "      <th>prev_contacted</th>\n",
              "      <th>m_divorced</th>\n",
              "      <th>m_married</th>\n",
              "      <th>m_single</th>\n",
              "      <th>edu_primary</th>\n",
              "      <th>edu_secondary</th>\n",
              "      <th>edu_tertiary</th>\n",
              "      <th>edu_unknown</th>\n",
              "    </tr>\n",
              "  </thead>\n",
              "  <tbody>\n",
              "    <tr>\n",
              "      <th>0</th>\n",
              "      <td>1</td>\n",
              "      <td>59</td>\n",
              "      <td>admin.</td>\n",
              "      <td>married</td>\n",
              "      <td>secondary</td>\n",
              "      <td>yes</td>\n",
              "      <td>no</td>\n",
              "      <td>5</td>\n",
              "      <td>may</td>\n",
              "      <td>1042</td>\n",
              "      <td>-1</td>\n",
              "      <td>0</td>\n",
              "      <td>yes</td>\n",
              "      <td>5</td>\n",
              "      <td>no</td>\n",
              "      <td>0</td>\n",
              "      <td>1</td>\n",
              "      <td>0</td>\n",
              "      <td>0</td>\n",
              "      <td>1</td>\n",
              "      <td>0</td>\n",
              "      <td>0</td>\n",
              "    </tr>\n",
              "    <tr>\n",
              "      <th>1</th>\n",
              "      <td>2</td>\n",
              "      <td>56</td>\n",
              "      <td>admin.</td>\n",
              "      <td>married</td>\n",
              "      <td>secondary</td>\n",
              "      <td>no</td>\n",
              "      <td>no</td>\n",
              "      <td>5</td>\n",
              "      <td>may</td>\n",
              "      <td>1467</td>\n",
              "      <td>-1</td>\n",
              "      <td>0</td>\n",
              "      <td>yes</td>\n",
              "      <td>5</td>\n",
              "      <td>no</td>\n",
              "      <td>0</td>\n",
              "      <td>1</td>\n",
              "      <td>0</td>\n",
              "      <td>0</td>\n",
              "      <td>1</td>\n",
              "      <td>0</td>\n",
              "      <td>0</td>\n",
              "    </tr>\n",
              "    <tr>\n",
              "      <th>2</th>\n",
              "      <td>3</td>\n",
              "      <td>41</td>\n",
              "      <td>technician</td>\n",
              "      <td>married</td>\n",
              "      <td>secondary</td>\n",
              "      <td>yes</td>\n",
              "      <td>no</td>\n",
              "      <td>5</td>\n",
              "      <td>may</td>\n",
              "      <td>1389</td>\n",
              "      <td>-1</td>\n",
              "      <td>0</td>\n",
              "      <td>yes</td>\n",
              "      <td>5</td>\n",
              "      <td>no</td>\n",
              "      <td>0</td>\n",
              "      <td>1</td>\n",
              "      <td>0</td>\n",
              "      <td>0</td>\n",
              "      <td>1</td>\n",
              "      <td>0</td>\n",
              "      <td>0</td>\n",
              "    </tr>\n",
              "    <tr>\n",
              "      <th>3</th>\n",
              "      <td>4</td>\n",
              "      <td>55</td>\n",
              "      <td>services</td>\n",
              "      <td>married</td>\n",
              "      <td>secondary</td>\n",
              "      <td>yes</td>\n",
              "      <td>no</td>\n",
              "      <td>5</td>\n",
              "      <td>may</td>\n",
              "      <td>579</td>\n",
              "      <td>-1</td>\n",
              "      <td>0</td>\n",
              "      <td>yes</td>\n",
              "      <td>5</td>\n",
              "      <td>no</td>\n",
              "      <td>0</td>\n",
              "      <td>1</td>\n",
              "      <td>0</td>\n",
              "      <td>0</td>\n",
              "      <td>1</td>\n",
              "      <td>0</td>\n",
              "      <td>0</td>\n",
              "    </tr>\n",
              "    <tr>\n",
              "      <th>4</th>\n",
              "      <td>5</td>\n",
              "      <td>54</td>\n",
              "      <td>admin.</td>\n",
              "      <td>married</td>\n",
              "      <td>tertiary</td>\n",
              "      <td>no</td>\n",
              "      <td>no</td>\n",
              "      <td>5</td>\n",
              "      <td>may</td>\n",
              "      <td>673</td>\n",
              "      <td>-1</td>\n",
              "      <td>0</td>\n",
              "      <td>yes</td>\n",
              "      <td>5</td>\n",
              "      <td>no</td>\n",
              "      <td>0</td>\n",
              "      <td>1</td>\n",
              "      <td>0</td>\n",
              "      <td>0</td>\n",
              "      <td>0</td>\n",
              "      <td>1</td>\n",
              "      <td>0</td>\n",
              "    </tr>\n",
              "  </tbody>\n",
              "</table>\n",
              "</div>"
            ],
            "text/plain": [
              "   client_id  age_bracket         job  marital  education has_housing_loan  \\\n",
              "0          1           59      admin.  married  secondary              yes   \n",
              "1          2           56      admin.  married  secondary               no   \n",
              "2          3           41  technician  married  secondary              yes   \n",
              "3          4           55    services  married  secondary              yes   \n",
              "4          5           54      admin.  married   tertiary               no   \n",
              "\n",
              "  has_personal_loan  prev_call_day prev_call_month  prev_call_duration  \\\n",
              "0                no              5             may                1042   \n",
              "1                no              5             may                1467   \n",
              "2                no              5             may                1389   \n",
              "3                no              5             may                 579   \n",
              "4                no              5             may                 673   \n",
              "\n",
              "   days_since_last_call  num_contacts_prev subs_deposit  prev_call_month_nbr  \\\n",
              "0                    -1                  0          yes                    5   \n",
              "1                    -1                  0          yes                    5   \n",
              "2                    -1                  0          yes                    5   \n",
              "3                    -1                  0          yes                    5   \n",
              "4                    -1                  0          yes                    5   \n",
              "\n",
              "  prev_contacted  m_divorced  m_married  m_single  edu_primary  edu_secondary  \\\n",
              "0             no           0          1         0            0              1   \n",
              "1             no           0          1         0            0              1   \n",
              "2             no           0          1         0            0              1   \n",
              "3             no           0          1         0            0              1   \n",
              "4             no           0          1         0            0              0   \n",
              "\n",
              "   edu_tertiary  edu_unknown  \n",
              "0             0            0  \n",
              "1             0            0  \n",
              "2             0            0  \n",
              "3             0            0  \n",
              "4             1            0  "
            ]
          },
          "metadata": {
            "tags": []
          },
          "execution_count": 67
        }
      ]
    },
    {
      "cell_type": "code",
      "metadata": {
        "colab": {
          "base_uri": "https://localhost:8080/",
          "height": 215
        },
        "id": "8lSlYCaUHxVj",
        "outputId": "8729e9b0-8e68-4f49-cf84-19cce651302e"
      },
      "source": [
        "#3 has_housing_loan \n",
        "data_hl = data[\"has_housing_loan\"]\n",
        "\n",
        "dum_df3 = pd.get_dummies(data_hl, columns=[\"has_housing_loan\"], prefix=\"hl\")\n",
        "dum_df3.head(10)\n",
        "\n",
        "#add these features into the main training df\n",
        "data = data.join(dum_df3)\n",
        "\n",
        "data.head()\n"
      ],
      "execution_count": null,
      "outputs": [
        {
          "output_type": "execute_result",
          "data": {
            "text/html": [
              "<div>\n",
              "<style scoped>\n",
              "    .dataframe tbody tr th:only-of-type {\n",
              "        vertical-align: middle;\n",
              "    }\n",
              "\n",
              "    .dataframe tbody tr th {\n",
              "        vertical-align: top;\n",
              "    }\n",
              "\n",
              "    .dataframe thead th {\n",
              "        text-align: right;\n",
              "    }\n",
              "</style>\n",
              "<table border=\"1\" class=\"dataframe\">\n",
              "  <thead>\n",
              "    <tr style=\"text-align: right;\">\n",
              "      <th></th>\n",
              "      <th>client_id</th>\n",
              "      <th>age_bracket</th>\n",
              "      <th>job</th>\n",
              "      <th>marital</th>\n",
              "      <th>education</th>\n",
              "      <th>has_housing_loan</th>\n",
              "      <th>has_personal_loan</th>\n",
              "      <th>prev_call_day</th>\n",
              "      <th>prev_call_month</th>\n",
              "      <th>prev_call_duration</th>\n",
              "      <th>days_since_last_call</th>\n",
              "      <th>num_contacts_prev</th>\n",
              "      <th>subs_deposit</th>\n",
              "      <th>prev_call_month_nbr</th>\n",
              "      <th>prev_contacted</th>\n",
              "      <th>m_divorced</th>\n",
              "      <th>m_married</th>\n",
              "      <th>m_single</th>\n",
              "      <th>edu_primary</th>\n",
              "      <th>edu_secondary</th>\n",
              "      <th>edu_tertiary</th>\n",
              "      <th>edu_unknown</th>\n",
              "      <th>hl_no</th>\n",
              "      <th>hl_yes</th>\n",
              "    </tr>\n",
              "  </thead>\n",
              "  <tbody>\n",
              "    <tr>\n",
              "      <th>0</th>\n",
              "      <td>1</td>\n",
              "      <td>59</td>\n",
              "      <td>admin.</td>\n",
              "      <td>married</td>\n",
              "      <td>secondary</td>\n",
              "      <td>yes</td>\n",
              "      <td>no</td>\n",
              "      <td>5</td>\n",
              "      <td>may</td>\n",
              "      <td>1042</td>\n",
              "      <td>-1</td>\n",
              "      <td>0</td>\n",
              "      <td>yes</td>\n",
              "      <td>5</td>\n",
              "      <td>no</td>\n",
              "      <td>0</td>\n",
              "      <td>1</td>\n",
              "      <td>0</td>\n",
              "      <td>0</td>\n",
              "      <td>1</td>\n",
              "      <td>0</td>\n",
              "      <td>0</td>\n",
              "      <td>0</td>\n",
              "      <td>1</td>\n",
              "    </tr>\n",
              "    <tr>\n",
              "      <th>1</th>\n",
              "      <td>2</td>\n",
              "      <td>56</td>\n",
              "      <td>admin.</td>\n",
              "      <td>married</td>\n",
              "      <td>secondary</td>\n",
              "      <td>no</td>\n",
              "      <td>no</td>\n",
              "      <td>5</td>\n",
              "      <td>may</td>\n",
              "      <td>1467</td>\n",
              "      <td>-1</td>\n",
              "      <td>0</td>\n",
              "      <td>yes</td>\n",
              "      <td>5</td>\n",
              "      <td>no</td>\n",
              "      <td>0</td>\n",
              "      <td>1</td>\n",
              "      <td>0</td>\n",
              "      <td>0</td>\n",
              "      <td>1</td>\n",
              "      <td>0</td>\n",
              "      <td>0</td>\n",
              "      <td>1</td>\n",
              "      <td>0</td>\n",
              "    </tr>\n",
              "    <tr>\n",
              "      <th>2</th>\n",
              "      <td>3</td>\n",
              "      <td>41</td>\n",
              "      <td>technician</td>\n",
              "      <td>married</td>\n",
              "      <td>secondary</td>\n",
              "      <td>yes</td>\n",
              "      <td>no</td>\n",
              "      <td>5</td>\n",
              "      <td>may</td>\n",
              "      <td>1389</td>\n",
              "      <td>-1</td>\n",
              "      <td>0</td>\n",
              "      <td>yes</td>\n",
              "      <td>5</td>\n",
              "      <td>no</td>\n",
              "      <td>0</td>\n",
              "      <td>1</td>\n",
              "      <td>0</td>\n",
              "      <td>0</td>\n",
              "      <td>1</td>\n",
              "      <td>0</td>\n",
              "      <td>0</td>\n",
              "      <td>0</td>\n",
              "      <td>1</td>\n",
              "    </tr>\n",
              "    <tr>\n",
              "      <th>3</th>\n",
              "      <td>4</td>\n",
              "      <td>55</td>\n",
              "      <td>services</td>\n",
              "      <td>married</td>\n",
              "      <td>secondary</td>\n",
              "      <td>yes</td>\n",
              "      <td>no</td>\n",
              "      <td>5</td>\n",
              "      <td>may</td>\n",
              "      <td>579</td>\n",
              "      <td>-1</td>\n",
              "      <td>0</td>\n",
              "      <td>yes</td>\n",
              "      <td>5</td>\n",
              "      <td>no</td>\n",
              "      <td>0</td>\n",
              "      <td>1</td>\n",
              "      <td>0</td>\n",
              "      <td>0</td>\n",
              "      <td>1</td>\n",
              "      <td>0</td>\n",
              "      <td>0</td>\n",
              "      <td>0</td>\n",
              "      <td>1</td>\n",
              "    </tr>\n",
              "    <tr>\n",
              "      <th>4</th>\n",
              "      <td>5</td>\n",
              "      <td>54</td>\n",
              "      <td>admin.</td>\n",
              "      <td>married</td>\n",
              "      <td>tertiary</td>\n",
              "      <td>no</td>\n",
              "      <td>no</td>\n",
              "      <td>5</td>\n",
              "      <td>may</td>\n",
              "      <td>673</td>\n",
              "      <td>-1</td>\n",
              "      <td>0</td>\n",
              "      <td>yes</td>\n",
              "      <td>5</td>\n",
              "      <td>no</td>\n",
              "      <td>0</td>\n",
              "      <td>1</td>\n",
              "      <td>0</td>\n",
              "      <td>0</td>\n",
              "      <td>0</td>\n",
              "      <td>1</td>\n",
              "      <td>0</td>\n",
              "      <td>1</td>\n",
              "      <td>0</td>\n",
              "    </tr>\n",
              "  </tbody>\n",
              "</table>\n",
              "</div>"
            ],
            "text/plain": [
              "   client_id  age_bracket         job  marital  education has_housing_loan  \\\n",
              "0          1           59      admin.  married  secondary              yes   \n",
              "1          2           56      admin.  married  secondary               no   \n",
              "2          3           41  technician  married  secondary              yes   \n",
              "3          4           55    services  married  secondary              yes   \n",
              "4          5           54      admin.  married   tertiary               no   \n",
              "\n",
              "  has_personal_loan  prev_call_day prev_call_month  prev_call_duration  \\\n",
              "0                no              5             may                1042   \n",
              "1                no              5             may                1467   \n",
              "2                no              5             may                1389   \n",
              "3                no              5             may                 579   \n",
              "4                no              5             may                 673   \n",
              "\n",
              "   days_since_last_call  num_contacts_prev subs_deposit  prev_call_month_nbr  \\\n",
              "0                    -1                  0          yes                    5   \n",
              "1                    -1                  0          yes                    5   \n",
              "2                    -1                  0          yes                    5   \n",
              "3                    -1                  0          yes                    5   \n",
              "4                    -1                  0          yes                    5   \n",
              "\n",
              "  prev_contacted  m_divorced  m_married  m_single  edu_primary  edu_secondary  \\\n",
              "0             no           0          1         0            0              1   \n",
              "1             no           0          1         0            0              1   \n",
              "2             no           0          1         0            0              1   \n",
              "3             no           0          1         0            0              1   \n",
              "4             no           0          1         0            0              0   \n",
              "\n",
              "   edu_tertiary  edu_unknown  hl_no  hl_yes  \n",
              "0             0            0      0       1  \n",
              "1             0            0      1       0  \n",
              "2             0            0      0       1  \n",
              "3             0            0      0       1  \n",
              "4             1            0      1       0  "
            ]
          },
          "metadata": {
            "tags": []
          },
          "execution_count": 68
        }
      ]
    },
    {
      "cell_type": "code",
      "metadata": {
        "colab": {
          "base_uri": "https://localhost:8080/",
          "height": 215
        },
        "id": "_bAztKAEHxne",
        "outputId": "2620598d-bdf5-4d77-883c-4c0790a0973f"
      },
      "source": [
        "#4 has_personal_loan \n",
        "data_pl = data[\"has_personal_loan\"]\n",
        "\n",
        "dum_df4 = pd.get_dummies(data_pl, columns=[\"has_personal_loan\"], prefix=\"pl\")\n",
        "dum_df4.head(10)\n",
        "\n",
        "#add these features into the main training df\n",
        "data = data.join(dum_df4)\n",
        "\n",
        "data.head()"
      ],
      "execution_count": null,
      "outputs": [
        {
          "output_type": "execute_result",
          "data": {
            "text/html": [
              "<div>\n",
              "<style scoped>\n",
              "    .dataframe tbody tr th:only-of-type {\n",
              "        vertical-align: middle;\n",
              "    }\n",
              "\n",
              "    .dataframe tbody tr th {\n",
              "        vertical-align: top;\n",
              "    }\n",
              "\n",
              "    .dataframe thead th {\n",
              "        text-align: right;\n",
              "    }\n",
              "</style>\n",
              "<table border=\"1\" class=\"dataframe\">\n",
              "  <thead>\n",
              "    <tr style=\"text-align: right;\">\n",
              "      <th></th>\n",
              "      <th>client_id</th>\n",
              "      <th>age_bracket</th>\n",
              "      <th>job</th>\n",
              "      <th>marital</th>\n",
              "      <th>education</th>\n",
              "      <th>has_housing_loan</th>\n",
              "      <th>has_personal_loan</th>\n",
              "      <th>prev_call_day</th>\n",
              "      <th>prev_call_month</th>\n",
              "      <th>prev_call_duration</th>\n",
              "      <th>days_since_last_call</th>\n",
              "      <th>num_contacts_prev</th>\n",
              "      <th>subs_deposit</th>\n",
              "      <th>prev_call_month_nbr</th>\n",
              "      <th>prev_contacted</th>\n",
              "      <th>m_divorced</th>\n",
              "      <th>m_married</th>\n",
              "      <th>m_single</th>\n",
              "      <th>edu_primary</th>\n",
              "      <th>edu_secondary</th>\n",
              "      <th>edu_tertiary</th>\n",
              "      <th>edu_unknown</th>\n",
              "      <th>hl_no</th>\n",
              "      <th>hl_yes</th>\n",
              "      <th>pl_no</th>\n",
              "      <th>pl_yes</th>\n",
              "    </tr>\n",
              "  </thead>\n",
              "  <tbody>\n",
              "    <tr>\n",
              "      <th>0</th>\n",
              "      <td>1</td>\n",
              "      <td>59</td>\n",
              "      <td>admin.</td>\n",
              "      <td>married</td>\n",
              "      <td>secondary</td>\n",
              "      <td>yes</td>\n",
              "      <td>no</td>\n",
              "      <td>5</td>\n",
              "      <td>may</td>\n",
              "      <td>1042</td>\n",
              "      <td>-1</td>\n",
              "      <td>0</td>\n",
              "      <td>yes</td>\n",
              "      <td>5</td>\n",
              "      <td>no</td>\n",
              "      <td>0</td>\n",
              "      <td>1</td>\n",
              "      <td>0</td>\n",
              "      <td>0</td>\n",
              "      <td>1</td>\n",
              "      <td>0</td>\n",
              "      <td>0</td>\n",
              "      <td>0</td>\n",
              "      <td>1</td>\n",
              "      <td>1</td>\n",
              "      <td>0</td>\n",
              "    </tr>\n",
              "    <tr>\n",
              "      <th>1</th>\n",
              "      <td>2</td>\n",
              "      <td>56</td>\n",
              "      <td>admin.</td>\n",
              "      <td>married</td>\n",
              "      <td>secondary</td>\n",
              "      <td>no</td>\n",
              "      <td>no</td>\n",
              "      <td>5</td>\n",
              "      <td>may</td>\n",
              "      <td>1467</td>\n",
              "      <td>-1</td>\n",
              "      <td>0</td>\n",
              "      <td>yes</td>\n",
              "      <td>5</td>\n",
              "      <td>no</td>\n",
              "      <td>0</td>\n",
              "      <td>1</td>\n",
              "      <td>0</td>\n",
              "      <td>0</td>\n",
              "      <td>1</td>\n",
              "      <td>0</td>\n",
              "      <td>0</td>\n",
              "      <td>1</td>\n",
              "      <td>0</td>\n",
              "      <td>1</td>\n",
              "      <td>0</td>\n",
              "    </tr>\n",
              "    <tr>\n",
              "      <th>2</th>\n",
              "      <td>3</td>\n",
              "      <td>41</td>\n",
              "      <td>technician</td>\n",
              "      <td>married</td>\n",
              "      <td>secondary</td>\n",
              "      <td>yes</td>\n",
              "      <td>no</td>\n",
              "      <td>5</td>\n",
              "      <td>may</td>\n",
              "      <td>1389</td>\n",
              "      <td>-1</td>\n",
              "      <td>0</td>\n",
              "      <td>yes</td>\n",
              "      <td>5</td>\n",
              "      <td>no</td>\n",
              "      <td>0</td>\n",
              "      <td>1</td>\n",
              "      <td>0</td>\n",
              "      <td>0</td>\n",
              "      <td>1</td>\n",
              "      <td>0</td>\n",
              "      <td>0</td>\n",
              "      <td>0</td>\n",
              "      <td>1</td>\n",
              "      <td>1</td>\n",
              "      <td>0</td>\n",
              "    </tr>\n",
              "    <tr>\n",
              "      <th>3</th>\n",
              "      <td>4</td>\n",
              "      <td>55</td>\n",
              "      <td>services</td>\n",
              "      <td>married</td>\n",
              "      <td>secondary</td>\n",
              "      <td>yes</td>\n",
              "      <td>no</td>\n",
              "      <td>5</td>\n",
              "      <td>may</td>\n",
              "      <td>579</td>\n",
              "      <td>-1</td>\n",
              "      <td>0</td>\n",
              "      <td>yes</td>\n",
              "      <td>5</td>\n",
              "      <td>no</td>\n",
              "      <td>0</td>\n",
              "      <td>1</td>\n",
              "      <td>0</td>\n",
              "      <td>0</td>\n",
              "      <td>1</td>\n",
              "      <td>0</td>\n",
              "      <td>0</td>\n",
              "      <td>0</td>\n",
              "      <td>1</td>\n",
              "      <td>1</td>\n",
              "      <td>0</td>\n",
              "    </tr>\n",
              "    <tr>\n",
              "      <th>4</th>\n",
              "      <td>5</td>\n",
              "      <td>54</td>\n",
              "      <td>admin.</td>\n",
              "      <td>married</td>\n",
              "      <td>tertiary</td>\n",
              "      <td>no</td>\n",
              "      <td>no</td>\n",
              "      <td>5</td>\n",
              "      <td>may</td>\n",
              "      <td>673</td>\n",
              "      <td>-1</td>\n",
              "      <td>0</td>\n",
              "      <td>yes</td>\n",
              "      <td>5</td>\n",
              "      <td>no</td>\n",
              "      <td>0</td>\n",
              "      <td>1</td>\n",
              "      <td>0</td>\n",
              "      <td>0</td>\n",
              "      <td>0</td>\n",
              "      <td>1</td>\n",
              "      <td>0</td>\n",
              "      <td>1</td>\n",
              "      <td>0</td>\n",
              "      <td>1</td>\n",
              "      <td>0</td>\n",
              "    </tr>\n",
              "  </tbody>\n",
              "</table>\n",
              "</div>"
            ],
            "text/plain": [
              "   client_id  age_bracket         job  marital  education has_housing_loan  \\\n",
              "0          1           59      admin.  married  secondary              yes   \n",
              "1          2           56      admin.  married  secondary               no   \n",
              "2          3           41  technician  married  secondary              yes   \n",
              "3          4           55    services  married  secondary              yes   \n",
              "4          5           54      admin.  married   tertiary               no   \n",
              "\n",
              "  has_personal_loan  prev_call_day prev_call_month  prev_call_duration  \\\n",
              "0                no              5             may                1042   \n",
              "1                no              5             may                1467   \n",
              "2                no              5             may                1389   \n",
              "3                no              5             may                 579   \n",
              "4                no              5             may                 673   \n",
              "\n",
              "   days_since_last_call  num_contacts_prev subs_deposit  prev_call_month_nbr  \\\n",
              "0                    -1                  0          yes                    5   \n",
              "1                    -1                  0          yes                    5   \n",
              "2                    -1                  0          yes                    5   \n",
              "3                    -1                  0          yes                    5   \n",
              "4                    -1                  0          yes                    5   \n",
              "\n",
              "  prev_contacted  m_divorced  m_married  m_single  edu_primary  edu_secondary  \\\n",
              "0             no           0          1         0            0              1   \n",
              "1             no           0          1         0            0              1   \n",
              "2             no           0          1         0            0              1   \n",
              "3             no           0          1         0            0              1   \n",
              "4             no           0          1         0            0              0   \n",
              "\n",
              "   edu_tertiary  edu_unknown  hl_no  hl_yes  pl_no  pl_yes  \n",
              "0             0            0      0       1      1       0  \n",
              "1             0            0      1       0      1       0  \n",
              "2             0            0      0       1      1       0  \n",
              "3             0            0      0       1      1       0  \n",
              "4             1            0      1       0      1       0  "
            ]
          },
          "metadata": {
            "tags": []
          },
          "execution_count": 69
        }
      ]
    },
    {
      "cell_type": "code",
      "metadata": {
        "id": "46RiqMyf0j0R",
        "colab": {
          "base_uri": "https://localhost:8080/",
          "height": 215
        },
        "outputId": "02757074-e32e-4493-c0cf-0ad3e6c10b95"
      },
      "source": [
        "data.head()"
      ],
      "execution_count": null,
      "outputs": [
        {
          "output_type": "execute_result",
          "data": {
            "text/html": [
              "<div>\n",
              "<style scoped>\n",
              "    .dataframe tbody tr th:only-of-type {\n",
              "        vertical-align: middle;\n",
              "    }\n",
              "\n",
              "    .dataframe tbody tr th {\n",
              "        vertical-align: top;\n",
              "    }\n",
              "\n",
              "    .dataframe thead th {\n",
              "        text-align: right;\n",
              "    }\n",
              "</style>\n",
              "<table border=\"1\" class=\"dataframe\">\n",
              "  <thead>\n",
              "    <tr style=\"text-align: right;\">\n",
              "      <th></th>\n",
              "      <th>client_id</th>\n",
              "      <th>age_bracket</th>\n",
              "      <th>job</th>\n",
              "      <th>marital</th>\n",
              "      <th>education</th>\n",
              "      <th>has_housing_loan</th>\n",
              "      <th>has_personal_loan</th>\n",
              "      <th>prev_call_day</th>\n",
              "      <th>prev_call_month</th>\n",
              "      <th>prev_call_duration</th>\n",
              "      <th>days_since_last_call</th>\n",
              "      <th>num_contacts_prev</th>\n",
              "      <th>subs_deposit</th>\n",
              "      <th>prev_call_month_nbr</th>\n",
              "      <th>prev_contacted</th>\n",
              "      <th>m_divorced</th>\n",
              "      <th>m_married</th>\n",
              "      <th>m_single</th>\n",
              "      <th>edu_primary</th>\n",
              "      <th>edu_secondary</th>\n",
              "      <th>edu_tertiary</th>\n",
              "      <th>edu_unknown</th>\n",
              "      <th>hl_no</th>\n",
              "      <th>hl_yes</th>\n",
              "    </tr>\n",
              "  </thead>\n",
              "  <tbody>\n",
              "    <tr>\n",
              "      <th>0</th>\n",
              "      <td>1</td>\n",
              "      <td>59</td>\n",
              "      <td>admin.</td>\n",
              "      <td>married</td>\n",
              "      <td>secondary</td>\n",
              "      <td>yes</td>\n",
              "      <td>no</td>\n",
              "      <td>5</td>\n",
              "      <td>may</td>\n",
              "      <td>1042</td>\n",
              "      <td>-1</td>\n",
              "      <td>0</td>\n",
              "      <td>yes</td>\n",
              "      <td>5</td>\n",
              "      <td>no</td>\n",
              "      <td>0</td>\n",
              "      <td>1</td>\n",
              "      <td>0</td>\n",
              "      <td>0</td>\n",
              "      <td>1</td>\n",
              "      <td>0</td>\n",
              "      <td>0</td>\n",
              "      <td>0</td>\n",
              "      <td>1</td>\n",
              "    </tr>\n",
              "    <tr>\n",
              "      <th>1</th>\n",
              "      <td>2</td>\n",
              "      <td>56</td>\n",
              "      <td>admin.</td>\n",
              "      <td>married</td>\n",
              "      <td>secondary</td>\n",
              "      <td>no</td>\n",
              "      <td>no</td>\n",
              "      <td>5</td>\n",
              "      <td>may</td>\n",
              "      <td>1467</td>\n",
              "      <td>-1</td>\n",
              "      <td>0</td>\n",
              "      <td>yes</td>\n",
              "      <td>5</td>\n",
              "      <td>no</td>\n",
              "      <td>0</td>\n",
              "      <td>1</td>\n",
              "      <td>0</td>\n",
              "      <td>0</td>\n",
              "      <td>1</td>\n",
              "      <td>0</td>\n",
              "      <td>0</td>\n",
              "      <td>1</td>\n",
              "      <td>0</td>\n",
              "    </tr>\n",
              "    <tr>\n",
              "      <th>2</th>\n",
              "      <td>3</td>\n",
              "      <td>41</td>\n",
              "      <td>technician</td>\n",
              "      <td>married</td>\n",
              "      <td>secondary</td>\n",
              "      <td>yes</td>\n",
              "      <td>no</td>\n",
              "      <td>5</td>\n",
              "      <td>may</td>\n",
              "      <td>1389</td>\n",
              "      <td>-1</td>\n",
              "      <td>0</td>\n",
              "      <td>yes</td>\n",
              "      <td>5</td>\n",
              "      <td>no</td>\n",
              "      <td>0</td>\n",
              "      <td>1</td>\n",
              "      <td>0</td>\n",
              "      <td>0</td>\n",
              "      <td>1</td>\n",
              "      <td>0</td>\n",
              "      <td>0</td>\n",
              "      <td>0</td>\n",
              "      <td>1</td>\n",
              "    </tr>\n",
              "    <tr>\n",
              "      <th>3</th>\n",
              "      <td>4</td>\n",
              "      <td>55</td>\n",
              "      <td>services</td>\n",
              "      <td>married</td>\n",
              "      <td>secondary</td>\n",
              "      <td>yes</td>\n",
              "      <td>no</td>\n",
              "      <td>5</td>\n",
              "      <td>may</td>\n",
              "      <td>579</td>\n",
              "      <td>-1</td>\n",
              "      <td>0</td>\n",
              "      <td>yes</td>\n",
              "      <td>5</td>\n",
              "      <td>no</td>\n",
              "      <td>0</td>\n",
              "      <td>1</td>\n",
              "      <td>0</td>\n",
              "      <td>0</td>\n",
              "      <td>1</td>\n",
              "      <td>0</td>\n",
              "      <td>0</td>\n",
              "      <td>0</td>\n",
              "      <td>1</td>\n",
              "    </tr>\n",
              "    <tr>\n",
              "      <th>4</th>\n",
              "      <td>5</td>\n",
              "      <td>54</td>\n",
              "      <td>admin.</td>\n",
              "      <td>married</td>\n",
              "      <td>tertiary</td>\n",
              "      <td>no</td>\n",
              "      <td>no</td>\n",
              "      <td>5</td>\n",
              "      <td>may</td>\n",
              "      <td>673</td>\n",
              "      <td>-1</td>\n",
              "      <td>0</td>\n",
              "      <td>yes</td>\n",
              "      <td>5</td>\n",
              "      <td>no</td>\n",
              "      <td>0</td>\n",
              "      <td>1</td>\n",
              "      <td>0</td>\n",
              "      <td>0</td>\n",
              "      <td>0</td>\n",
              "      <td>1</td>\n",
              "      <td>0</td>\n",
              "      <td>1</td>\n",
              "      <td>0</td>\n",
              "    </tr>\n",
              "  </tbody>\n",
              "</table>\n",
              "</div>"
            ],
            "text/plain": [
              "   client_id  age_bracket         job  marital  education has_housing_loan  \\\n",
              "0          1           59      admin.  married  secondary              yes   \n",
              "1          2           56      admin.  married  secondary               no   \n",
              "2          3           41  technician  married  secondary              yes   \n",
              "3          4           55    services  married  secondary              yes   \n",
              "4          5           54      admin.  married   tertiary               no   \n",
              "\n",
              "  has_personal_loan  prev_call_day prev_call_month  prev_call_duration  \\\n",
              "0                no              5             may                1042   \n",
              "1                no              5             may                1467   \n",
              "2                no              5             may                1389   \n",
              "3                no              5             may                 579   \n",
              "4                no              5             may                 673   \n",
              "\n",
              "   days_since_last_call  num_contacts_prev subs_deposit  prev_call_month_nbr  \\\n",
              "0                    -1                  0          yes                    5   \n",
              "1                    -1                  0          yes                    5   \n",
              "2                    -1                  0          yes                    5   \n",
              "3                    -1                  0          yes                    5   \n",
              "4                    -1                  0          yes                    5   \n",
              "\n",
              "  prev_contacted  m_divorced  m_married  m_single  edu_primary  edu_secondary  \\\n",
              "0             no           0          1         0            0              1   \n",
              "1             no           0          1         0            0              1   \n",
              "2             no           0          1         0            0              1   \n",
              "3             no           0          1         0            0              1   \n",
              "4             no           0          1         0            0              0   \n",
              "\n",
              "   edu_tertiary  edu_unknown  hl_no  hl_yes  \n",
              "0             0            0      0       1  \n",
              "1             0            0      1       0  \n",
              "2             0            0      0       1  \n",
              "3             0            0      0       1  \n",
              "4             1            0      1       0  "
            ]
          },
          "metadata": {
            "tags": []
          },
          "execution_count": 74
        }
      ]
    },
    {
      "cell_type": "code",
      "metadata": {
        "colab": {
          "base_uri": "https://localhost:8080/",
          "height": 215
        },
        "id": "ajL1DVDhI_oz",
        "outputId": "57e2b929-7e7c-449c-ac6a-8ded54f50929"
      },
      "source": [
        "#option -2 for job (using pd.factorize method)\n",
        "\n",
        "\n",
        "data[\"job_n\"] = pd.factorize(data.job)[0]\n",
        "\n",
        "data.head()"
      ],
      "execution_count": null,
      "outputs": [
        {
          "output_type": "execute_result",
          "data": {
            "text/html": [
              "<div>\n",
              "<style scoped>\n",
              "    .dataframe tbody tr th:only-of-type {\n",
              "        vertical-align: middle;\n",
              "    }\n",
              "\n",
              "    .dataframe tbody tr th {\n",
              "        vertical-align: top;\n",
              "    }\n",
              "\n",
              "    .dataframe thead th {\n",
              "        text-align: right;\n",
              "    }\n",
              "</style>\n",
              "<table border=\"1\" class=\"dataframe\">\n",
              "  <thead>\n",
              "    <tr style=\"text-align: right;\">\n",
              "      <th></th>\n",
              "      <th>client_id</th>\n",
              "      <th>age_bracket</th>\n",
              "      <th>job</th>\n",
              "      <th>marital</th>\n",
              "      <th>education</th>\n",
              "      <th>has_housing_loan</th>\n",
              "      <th>has_personal_loan</th>\n",
              "      <th>prev_call_day</th>\n",
              "      <th>prev_call_month</th>\n",
              "      <th>prev_call_duration</th>\n",
              "      <th>days_since_last_call</th>\n",
              "      <th>num_contacts_prev</th>\n",
              "      <th>subs_deposit</th>\n",
              "      <th>prev_call_month_nbr</th>\n",
              "      <th>prev_contacted</th>\n",
              "      <th>m_divorced</th>\n",
              "      <th>m_married</th>\n",
              "      <th>m_single</th>\n",
              "      <th>edu_primary</th>\n",
              "      <th>edu_secondary</th>\n",
              "      <th>edu_tertiary</th>\n",
              "      <th>edu_unknown</th>\n",
              "      <th>hl_no</th>\n",
              "      <th>hl_yes</th>\n",
              "      <th>pl_no</th>\n",
              "      <th>pl_yes</th>\n",
              "      <th>job_n</th>\n",
              "    </tr>\n",
              "  </thead>\n",
              "  <tbody>\n",
              "    <tr>\n",
              "      <th>0</th>\n",
              "      <td>1</td>\n",
              "      <td>59</td>\n",
              "      <td>admin.</td>\n",
              "      <td>married</td>\n",
              "      <td>secondary</td>\n",
              "      <td>yes</td>\n",
              "      <td>no</td>\n",
              "      <td>5</td>\n",
              "      <td>may</td>\n",
              "      <td>1042</td>\n",
              "      <td>-1</td>\n",
              "      <td>0</td>\n",
              "      <td>yes</td>\n",
              "      <td>5</td>\n",
              "      <td>no</td>\n",
              "      <td>0</td>\n",
              "      <td>1</td>\n",
              "      <td>0</td>\n",
              "      <td>0</td>\n",
              "      <td>1</td>\n",
              "      <td>0</td>\n",
              "      <td>0</td>\n",
              "      <td>0</td>\n",
              "      <td>1</td>\n",
              "      <td>1</td>\n",
              "      <td>0</td>\n",
              "      <td>0</td>\n",
              "    </tr>\n",
              "    <tr>\n",
              "      <th>1</th>\n",
              "      <td>2</td>\n",
              "      <td>56</td>\n",
              "      <td>admin.</td>\n",
              "      <td>married</td>\n",
              "      <td>secondary</td>\n",
              "      <td>no</td>\n",
              "      <td>no</td>\n",
              "      <td>5</td>\n",
              "      <td>may</td>\n",
              "      <td>1467</td>\n",
              "      <td>-1</td>\n",
              "      <td>0</td>\n",
              "      <td>yes</td>\n",
              "      <td>5</td>\n",
              "      <td>no</td>\n",
              "      <td>0</td>\n",
              "      <td>1</td>\n",
              "      <td>0</td>\n",
              "      <td>0</td>\n",
              "      <td>1</td>\n",
              "      <td>0</td>\n",
              "      <td>0</td>\n",
              "      <td>1</td>\n",
              "      <td>0</td>\n",
              "      <td>1</td>\n",
              "      <td>0</td>\n",
              "      <td>0</td>\n",
              "    </tr>\n",
              "    <tr>\n",
              "      <th>2</th>\n",
              "      <td>3</td>\n",
              "      <td>41</td>\n",
              "      <td>technician</td>\n",
              "      <td>married</td>\n",
              "      <td>secondary</td>\n",
              "      <td>yes</td>\n",
              "      <td>no</td>\n",
              "      <td>5</td>\n",
              "      <td>may</td>\n",
              "      <td>1389</td>\n",
              "      <td>-1</td>\n",
              "      <td>0</td>\n",
              "      <td>yes</td>\n",
              "      <td>5</td>\n",
              "      <td>no</td>\n",
              "      <td>0</td>\n",
              "      <td>1</td>\n",
              "      <td>0</td>\n",
              "      <td>0</td>\n",
              "      <td>1</td>\n",
              "      <td>0</td>\n",
              "      <td>0</td>\n",
              "      <td>0</td>\n",
              "      <td>1</td>\n",
              "      <td>1</td>\n",
              "      <td>0</td>\n",
              "      <td>1</td>\n",
              "    </tr>\n",
              "    <tr>\n",
              "      <th>3</th>\n",
              "      <td>4</td>\n",
              "      <td>55</td>\n",
              "      <td>services</td>\n",
              "      <td>married</td>\n",
              "      <td>secondary</td>\n",
              "      <td>yes</td>\n",
              "      <td>no</td>\n",
              "      <td>5</td>\n",
              "      <td>may</td>\n",
              "      <td>579</td>\n",
              "      <td>-1</td>\n",
              "      <td>0</td>\n",
              "      <td>yes</td>\n",
              "      <td>5</td>\n",
              "      <td>no</td>\n",
              "      <td>0</td>\n",
              "      <td>1</td>\n",
              "      <td>0</td>\n",
              "      <td>0</td>\n",
              "      <td>1</td>\n",
              "      <td>0</td>\n",
              "      <td>0</td>\n",
              "      <td>0</td>\n",
              "      <td>1</td>\n",
              "      <td>1</td>\n",
              "      <td>0</td>\n",
              "      <td>2</td>\n",
              "    </tr>\n",
              "    <tr>\n",
              "      <th>4</th>\n",
              "      <td>5</td>\n",
              "      <td>54</td>\n",
              "      <td>admin.</td>\n",
              "      <td>married</td>\n",
              "      <td>tertiary</td>\n",
              "      <td>no</td>\n",
              "      <td>no</td>\n",
              "      <td>5</td>\n",
              "      <td>may</td>\n",
              "      <td>673</td>\n",
              "      <td>-1</td>\n",
              "      <td>0</td>\n",
              "      <td>yes</td>\n",
              "      <td>5</td>\n",
              "      <td>no</td>\n",
              "      <td>0</td>\n",
              "      <td>1</td>\n",
              "      <td>0</td>\n",
              "      <td>0</td>\n",
              "      <td>0</td>\n",
              "      <td>1</td>\n",
              "      <td>0</td>\n",
              "      <td>1</td>\n",
              "      <td>0</td>\n",
              "      <td>1</td>\n",
              "      <td>0</td>\n",
              "      <td>0</td>\n",
              "    </tr>\n",
              "  </tbody>\n",
              "</table>\n",
              "</div>"
            ],
            "text/plain": [
              "   client_id  age_bracket         job  marital  education has_housing_loan  \\\n",
              "0          1           59      admin.  married  secondary              yes   \n",
              "1          2           56      admin.  married  secondary               no   \n",
              "2          3           41  technician  married  secondary              yes   \n",
              "3          4           55    services  married  secondary              yes   \n",
              "4          5           54      admin.  married   tertiary               no   \n",
              "\n",
              "  has_personal_loan  prev_call_day prev_call_month  prev_call_duration  \\\n",
              "0                no              5             may                1042   \n",
              "1                no              5             may                1467   \n",
              "2                no              5             may                1389   \n",
              "3                no              5             may                 579   \n",
              "4                no              5             may                 673   \n",
              "\n",
              "   days_since_last_call  num_contacts_prev subs_deposit  prev_call_month_nbr  \\\n",
              "0                    -1                  0          yes                    5   \n",
              "1                    -1                  0          yes                    5   \n",
              "2                    -1                  0          yes                    5   \n",
              "3                    -1                  0          yes                    5   \n",
              "4                    -1                  0          yes                    5   \n",
              "\n",
              "  prev_contacted  m_divorced  m_married  m_single  edu_primary  edu_secondary  \\\n",
              "0             no           0          1         0            0              1   \n",
              "1             no           0          1         0            0              1   \n",
              "2             no           0          1         0            0              1   \n",
              "3             no           0          1         0            0              1   \n",
              "4             no           0          1         0            0              0   \n",
              "\n",
              "   edu_tertiary  edu_unknown  hl_no  hl_yes  pl_no  pl_yes  job_n  \n",
              "0             0            0      0       1      1       0      0  \n",
              "1             0            0      1       0      1       0      0  \n",
              "2             0            0      0       1      1       0      1  \n",
              "3             0            0      0       1      1       0      2  \n",
              "4             1            0      1       0      1       0      0  "
            ]
          },
          "metadata": {
            "tags": []
          },
          "execution_count": 70
        }
      ]
    },
    {
      "cell_type": "code",
      "metadata": {
        "colab": {
          "base_uri": "https://localhost:8080/",
          "height": 215
        },
        "id": "1HTtLZu7I_9O",
        "outputId": "ddf5e5df-3b62-4be3-f7b4-ade8955416f5"
      },
      "source": [
        "#option -2 for subs_deposit (using pd.factorize method)\n",
        "\n",
        "\n",
        "data[\"subs_deposit_n\"] = pd.factorize(data.subs_deposit)[0]\n",
        "\n",
        "data.head()"
      ],
      "execution_count": null,
      "outputs": [
        {
          "output_type": "execute_result",
          "data": {
            "text/html": [
              "<div>\n",
              "<style scoped>\n",
              "    .dataframe tbody tr th:only-of-type {\n",
              "        vertical-align: middle;\n",
              "    }\n",
              "\n",
              "    .dataframe tbody tr th {\n",
              "        vertical-align: top;\n",
              "    }\n",
              "\n",
              "    .dataframe thead th {\n",
              "        text-align: right;\n",
              "    }\n",
              "</style>\n",
              "<table border=\"1\" class=\"dataframe\">\n",
              "  <thead>\n",
              "    <tr style=\"text-align: right;\">\n",
              "      <th></th>\n",
              "      <th>client_id</th>\n",
              "      <th>age_bracket</th>\n",
              "      <th>job</th>\n",
              "      <th>marital</th>\n",
              "      <th>education</th>\n",
              "      <th>has_housing_loan</th>\n",
              "      <th>has_personal_loan</th>\n",
              "      <th>prev_call_day</th>\n",
              "      <th>prev_call_month</th>\n",
              "      <th>prev_call_duration</th>\n",
              "      <th>days_since_last_call</th>\n",
              "      <th>num_contacts_prev</th>\n",
              "      <th>subs_deposit</th>\n",
              "      <th>prev_call_month_nbr</th>\n",
              "      <th>prev_contacted</th>\n",
              "      <th>m_divorced</th>\n",
              "      <th>m_married</th>\n",
              "      <th>m_single</th>\n",
              "      <th>edu_primary</th>\n",
              "      <th>edu_secondary</th>\n",
              "      <th>edu_tertiary</th>\n",
              "      <th>edu_unknown</th>\n",
              "      <th>hl_no</th>\n",
              "      <th>hl_yes</th>\n",
              "      <th>pl_no</th>\n",
              "      <th>pl_yes</th>\n",
              "      <th>job_n</th>\n",
              "      <th>subs_deposit_n</th>\n",
              "    </tr>\n",
              "  </thead>\n",
              "  <tbody>\n",
              "    <tr>\n",
              "      <th>0</th>\n",
              "      <td>1</td>\n",
              "      <td>59</td>\n",
              "      <td>admin.</td>\n",
              "      <td>married</td>\n",
              "      <td>secondary</td>\n",
              "      <td>yes</td>\n",
              "      <td>no</td>\n",
              "      <td>5</td>\n",
              "      <td>may</td>\n",
              "      <td>1042</td>\n",
              "      <td>-1</td>\n",
              "      <td>0</td>\n",
              "      <td>yes</td>\n",
              "      <td>5</td>\n",
              "      <td>no</td>\n",
              "      <td>0</td>\n",
              "      <td>1</td>\n",
              "      <td>0</td>\n",
              "      <td>0</td>\n",
              "      <td>1</td>\n",
              "      <td>0</td>\n",
              "      <td>0</td>\n",
              "      <td>0</td>\n",
              "      <td>1</td>\n",
              "      <td>1</td>\n",
              "      <td>0</td>\n",
              "      <td>0</td>\n",
              "      <td>0</td>\n",
              "    </tr>\n",
              "    <tr>\n",
              "      <th>1</th>\n",
              "      <td>2</td>\n",
              "      <td>56</td>\n",
              "      <td>admin.</td>\n",
              "      <td>married</td>\n",
              "      <td>secondary</td>\n",
              "      <td>no</td>\n",
              "      <td>no</td>\n",
              "      <td>5</td>\n",
              "      <td>may</td>\n",
              "      <td>1467</td>\n",
              "      <td>-1</td>\n",
              "      <td>0</td>\n",
              "      <td>yes</td>\n",
              "      <td>5</td>\n",
              "      <td>no</td>\n",
              "      <td>0</td>\n",
              "      <td>1</td>\n",
              "      <td>0</td>\n",
              "      <td>0</td>\n",
              "      <td>1</td>\n",
              "      <td>0</td>\n",
              "      <td>0</td>\n",
              "      <td>1</td>\n",
              "      <td>0</td>\n",
              "      <td>1</td>\n",
              "      <td>0</td>\n",
              "      <td>0</td>\n",
              "      <td>0</td>\n",
              "    </tr>\n",
              "    <tr>\n",
              "      <th>2</th>\n",
              "      <td>3</td>\n",
              "      <td>41</td>\n",
              "      <td>technician</td>\n",
              "      <td>married</td>\n",
              "      <td>secondary</td>\n",
              "      <td>yes</td>\n",
              "      <td>no</td>\n",
              "      <td>5</td>\n",
              "      <td>may</td>\n",
              "      <td>1389</td>\n",
              "      <td>-1</td>\n",
              "      <td>0</td>\n",
              "      <td>yes</td>\n",
              "      <td>5</td>\n",
              "      <td>no</td>\n",
              "      <td>0</td>\n",
              "      <td>1</td>\n",
              "      <td>0</td>\n",
              "      <td>0</td>\n",
              "      <td>1</td>\n",
              "      <td>0</td>\n",
              "      <td>0</td>\n",
              "      <td>0</td>\n",
              "      <td>1</td>\n",
              "      <td>1</td>\n",
              "      <td>0</td>\n",
              "      <td>1</td>\n",
              "      <td>0</td>\n",
              "    </tr>\n",
              "    <tr>\n",
              "      <th>3</th>\n",
              "      <td>4</td>\n",
              "      <td>55</td>\n",
              "      <td>services</td>\n",
              "      <td>married</td>\n",
              "      <td>secondary</td>\n",
              "      <td>yes</td>\n",
              "      <td>no</td>\n",
              "      <td>5</td>\n",
              "      <td>may</td>\n",
              "      <td>579</td>\n",
              "      <td>-1</td>\n",
              "      <td>0</td>\n",
              "      <td>yes</td>\n",
              "      <td>5</td>\n",
              "      <td>no</td>\n",
              "      <td>0</td>\n",
              "      <td>1</td>\n",
              "      <td>0</td>\n",
              "      <td>0</td>\n",
              "      <td>1</td>\n",
              "      <td>0</td>\n",
              "      <td>0</td>\n",
              "      <td>0</td>\n",
              "      <td>1</td>\n",
              "      <td>1</td>\n",
              "      <td>0</td>\n",
              "      <td>2</td>\n",
              "      <td>0</td>\n",
              "    </tr>\n",
              "    <tr>\n",
              "      <th>4</th>\n",
              "      <td>5</td>\n",
              "      <td>54</td>\n",
              "      <td>admin.</td>\n",
              "      <td>married</td>\n",
              "      <td>tertiary</td>\n",
              "      <td>no</td>\n",
              "      <td>no</td>\n",
              "      <td>5</td>\n",
              "      <td>may</td>\n",
              "      <td>673</td>\n",
              "      <td>-1</td>\n",
              "      <td>0</td>\n",
              "      <td>yes</td>\n",
              "      <td>5</td>\n",
              "      <td>no</td>\n",
              "      <td>0</td>\n",
              "      <td>1</td>\n",
              "      <td>0</td>\n",
              "      <td>0</td>\n",
              "      <td>0</td>\n",
              "      <td>1</td>\n",
              "      <td>0</td>\n",
              "      <td>1</td>\n",
              "      <td>0</td>\n",
              "      <td>1</td>\n",
              "      <td>0</td>\n",
              "      <td>0</td>\n",
              "      <td>0</td>\n",
              "    </tr>\n",
              "  </tbody>\n",
              "</table>\n",
              "</div>"
            ],
            "text/plain": [
              "   client_id  age_bracket         job  marital  education has_housing_loan  \\\n",
              "0          1           59      admin.  married  secondary              yes   \n",
              "1          2           56      admin.  married  secondary               no   \n",
              "2          3           41  technician  married  secondary              yes   \n",
              "3          4           55    services  married  secondary              yes   \n",
              "4          5           54      admin.  married   tertiary               no   \n",
              "\n",
              "  has_personal_loan  prev_call_day prev_call_month  prev_call_duration  \\\n",
              "0                no              5             may                1042   \n",
              "1                no              5             may                1467   \n",
              "2                no              5             may                1389   \n",
              "3                no              5             may                 579   \n",
              "4                no              5             may                 673   \n",
              "\n",
              "   days_since_last_call  num_contacts_prev subs_deposit  prev_call_month_nbr  \\\n",
              "0                    -1                  0          yes                    5   \n",
              "1                    -1                  0          yes                    5   \n",
              "2                    -1                  0          yes                    5   \n",
              "3                    -1                  0          yes                    5   \n",
              "4                    -1                  0          yes                    5   \n",
              "\n",
              "  prev_contacted  m_divorced  m_married  m_single  edu_primary  edu_secondary  \\\n",
              "0             no           0          1         0            0              1   \n",
              "1             no           0          1         0            0              1   \n",
              "2             no           0          1         0            0              1   \n",
              "3             no           0          1         0            0              1   \n",
              "4             no           0          1         0            0              0   \n",
              "\n",
              "   edu_tertiary  edu_unknown  hl_no  hl_yes  pl_no  pl_yes  job_n  \\\n",
              "0             0            0      0       1      1       0      0   \n",
              "1             0            0      1       0      1       0      0   \n",
              "2             0            0      0       1      1       0      1   \n",
              "3             0            0      0       1      1       0      2   \n",
              "4             1            0      1       0      1       0      0   \n",
              "\n",
              "   subs_deposit_n  \n",
              "0               0  \n",
              "1               0  \n",
              "2               0  \n",
              "3               0  \n",
              "4               0  "
            ]
          },
          "metadata": {
            "tags": []
          },
          "execution_count": 71
        }
      ]
    },
    {
      "cell_type": "code",
      "metadata": {
        "id": "kBD1xsitJAFq"
      },
      "source": [
        ""
      ],
      "execution_count": null,
      "outputs": []
    },
    {
      "cell_type": "code",
      "metadata": {
        "id": "XsNtesbuJAIJ"
      },
      "source": [
        ""
      ],
      "execution_count": null,
      "outputs": []
    },
    {
      "cell_type": "code",
      "metadata": {
        "colab": {
          "base_uri": "https://localhost:8080/"
        },
        "id": "uxfidVPY0JcY",
        "outputId": "77777d61-7eb0-459f-9c25-2e5f46ed0048"
      },
      "source": [
        "#split the train and test data\n",
        "tr_data, test_data = train_test_split(data, test_size=0.25, random_state=42)\n",
        "print(\"Training set count: \", len(tr_data))\n",
        "print(\"Test set count: \",len(test_data))"
      ],
      "execution_count": null,
      "outputs": [
        {
          "output_type": "stream",
          "text": [
            "Training set count:  8371\n",
            "Test set count:  2791\n"
          ],
          "name": "stdout"
        }
      ]
    },
    {
      "cell_type": "code",
      "metadata": {
        "colab": {
          "base_uri": "https://localhost:8080/",
          "height": 706
        },
        "id": "mw_cnKWR4nsB",
        "outputId": "4005a1d7-b2dd-4d12-dc83-e25fe75db539"
      },
      "source": [
        "#Corelation Matrix\n",
        "#1 visualize in a heatmap\n",
        "\n",
        "tr_cor_mat=tr_data.corr()\n",
        "\n",
        "tr_mask=np.array(tr_cor_mat)\n",
        "tr_mask[np.tril_indices_from(tr_mask)] = False\n",
        "\n",
        "viz1=plt.gcf()\n",
        "viz1.set_size_inches(10,10)\n",
        "\n",
        "sb.heatmap(data=tr_cor_mat, mask=tr_mask, annot=True)"
      ],
      "execution_count": null,
      "outputs": [
        {
          "output_type": "execute_result",
          "data": {
            "text/plain": [
              "<matplotlib.axes._subplots.AxesSubplot at 0x7fcd073b7350>"
            ]
          },
          "metadata": {
            "tags": []
          },
          "execution_count": 73
        },
        {
          "output_type": "display_data",
          "data": {
            "image/png": "[encoded data removed]",
            "text/plain": [
              "<Figure size 720x720 with 2 Axes>"
            ]
          },
          "metadata": {
            "tags": [],
            "needs_background": "light"
          }
        }
      ]
    },
    {
      "cell_type": "code",
      "metadata": {
        "colab": {
          "base_uri": "https://localhost:8080/"
        },
        "id": "icOMdfZL4x1j",
        "outputId": "f6d7a1f3-caf4-4480-d1ef-ac97734c73c5"
      },
      "source": [
        "#Corelation Matrix\n",
        "#2 Looks at the values\n",
        "\n",
        "tr_cor_mat[\"subs_deposit_n\"].sort_values(ascending=False)\n",
        "\n",
        "#The below result shows that dep_Non Refund, lead_time, seg_Groups, prev_cancel and ctyp_Transient are the top 5 features which are having high correlation with the cancellation"
      ],
      "execution_count": null,
      "outputs": [
        {
          "output_type": "execute_result",
          "data": {
            "text/plain": [
              "subs_deposit_n          1.000000\n",
              "client_id               0.864549\n",
              "hl_yes                  0.192292\n",
              "pl_yes                  0.106714\n",
              "m_married               0.084808\n",
              "edu_primary             0.070452\n",
              "prev_call_day           0.052310\n",
              "edu_secondary           0.052107\n",
              "m_divorced             -0.000135\n",
              "edu_unknown            -0.016237\n",
              "job_n                  -0.019323\n",
              "prev_call_month_nbr    -0.029300\n",
              "age_bracket            -0.030901\n",
              "m_single               -0.090163\n",
              "edu_tertiary           -0.099084\n",
              "pl_no                  -0.106714\n",
              "num_contacts_prev      -0.145177\n",
              "days_since_last_call   -0.153627\n",
              "hl_no                  -0.192292\n",
              "prev_call_duration     -0.456498\n",
              "Name: subs_deposit_n, dtype: float64"
            ]
          },
          "metadata": {
            "tags": []
          },
          "execution_count": 74
        }
      ]
    },
    {
      "cell_type": "code",
      "metadata": {
        "colab": {
          "base_uri": "https://localhost:8080/",
          "height": 215
        },
        "id": "ec8JHGVY5MNl",
        "outputId": "bea157cc-7919-4f03-f8e2-556001bf4245"
      },
      "source": [
        "#I think, this is the time to drop the least corelated features\n",
        "# Keep the top/ bottom-N features (for this exercise)\n",
        "\n",
        "tr_data_mdl = tr_data.copy()\n",
        "\n",
        "features_sel = ['client_id','subs_deposit_n','hl_yes','pl_yes','m_married','edu_primary', 'm_single','edu_tertiary','pl_no','num_contacts_prev','days_since_last_call','hl_no','prev_call_duration']\n",
        "tr_data_mdl.drop(tr_data_mdl.columns.difference(features_sel),axis=1,inplace=True)\n",
        "\n",
        "tr_data_mdl.head()"
      ],
      "execution_count": null,
      "outputs": [
        {
          "output_type": "execute_result",
          "data": {
            "text/html": [
              "<div>\n",
              "<style scoped>\n",
              "    .dataframe tbody tr th:only-of-type {\n",
              "        vertical-align: middle;\n",
              "    }\n",
              "\n",
              "    .dataframe tbody tr th {\n",
              "        vertical-align: top;\n",
              "    }\n",
              "\n",
              "    .dataframe thead th {\n",
              "        text-align: right;\n",
              "    }\n",
              "</style>\n",
              "<table border=\"1\" class=\"dataframe\">\n",
              "  <thead>\n",
              "    <tr style=\"text-align: right;\">\n",
              "      <th></th>\n",
              "      <th>client_id</th>\n",
              "      <th>prev_call_duration</th>\n",
              "      <th>days_since_last_call</th>\n",
              "      <th>num_contacts_prev</th>\n",
              "      <th>m_married</th>\n",
              "      <th>m_single</th>\n",
              "      <th>edu_primary</th>\n",
              "      <th>edu_tertiary</th>\n",
              "      <th>hl_no</th>\n",
              "      <th>hl_yes</th>\n",
              "      <th>pl_no</th>\n",
              "      <th>pl_yes</th>\n",
              "      <th>subs_deposit_n</th>\n",
              "    </tr>\n",
              "  </thead>\n",
              "  <tbody>\n",
              "    <tr>\n",
              "      <th>5304</th>\n",
              "      <td>5305</td>\n",
              "      <td>98</td>\n",
              "      <td>-1</td>\n",
              "      <td>0</td>\n",
              "      <td>1</td>\n",
              "      <td>0</td>\n",
              "      <td>0</td>\n",
              "      <td>0</td>\n",
              "      <td>0</td>\n",
              "      <td>1</td>\n",
              "      <td>0</td>\n",
              "      <td>1</td>\n",
              "      <td>1</td>\n",
              "    </tr>\n",
              "    <tr>\n",
              "      <th>7512</th>\n",
              "      <td>7513</td>\n",
              "      <td>281</td>\n",
              "      <td>266</td>\n",
              "      <td>6</td>\n",
              "      <td>0</td>\n",
              "      <td>1</td>\n",
              "      <td>0</td>\n",
              "      <td>1</td>\n",
              "      <td>0</td>\n",
              "      <td>1</td>\n",
              "      <td>1</td>\n",
              "      <td>0</td>\n",
              "      <td>1</td>\n",
              "    </tr>\n",
              "    <tr>\n",
              "      <th>4700</th>\n",
              "      <td>4701</td>\n",
              "      <td>712</td>\n",
              "      <td>-1</td>\n",
              "      <td>0</td>\n",
              "      <td>0</td>\n",
              "      <td>1</td>\n",
              "      <td>0</td>\n",
              "      <td>0</td>\n",
              "      <td>0</td>\n",
              "      <td>1</td>\n",
              "      <td>1</td>\n",
              "      <td>0</td>\n",
              "      <td>0</td>\n",
              "    </tr>\n",
              "    <tr>\n",
              "      <th>4918</th>\n",
              "      <td>4919</td>\n",
              "      <td>566</td>\n",
              "      <td>-1</td>\n",
              "      <td>0</td>\n",
              "      <td>1</td>\n",
              "      <td>0</td>\n",
              "      <td>0</td>\n",
              "      <td>0</td>\n",
              "      <td>0</td>\n",
              "      <td>1</td>\n",
              "      <td>1</td>\n",
              "      <td>0</td>\n",
              "      <td>0</td>\n",
              "    </tr>\n",
              "    <tr>\n",
              "      <th>4450</th>\n",
              "      <td>4451</td>\n",
              "      <td>252</td>\n",
              "      <td>184</td>\n",
              "      <td>3</td>\n",
              "      <td>0</td>\n",
              "      <td>1</td>\n",
              "      <td>0</td>\n",
              "      <td>0</td>\n",
              "      <td>1</td>\n",
              "      <td>0</td>\n",
              "      <td>1</td>\n",
              "      <td>0</td>\n",
              "      <td>0</td>\n",
              "    </tr>\n",
              "  </tbody>\n",
              "</table>\n",
              "</div>"
            ],
            "text/plain": [
              "      client_id  prev_call_duration  days_since_last_call  num_contacts_prev  \\\n",
              "5304       5305                  98                    -1                  0   \n",
              "7512       7513                 281                   266                  6   \n",
              "4700       4701                 712                    -1                  0   \n",
              "4918       4919                 566                    -1                  0   \n",
              "4450       4451                 252                   184                  3   \n",
              "\n",
              "      m_married  m_single  edu_primary  edu_tertiary  hl_no  hl_yes  pl_no  \\\n",
              "5304          1         0            0             0      0       1      0   \n",
              "7512          0         1            0             1      0       1      1   \n",
              "4700          0         1            0             0      0       1      1   \n",
              "4918          1         0            0             0      0       1      1   \n",
              "4450          0         1            0             0      1       0      1   \n",
              "\n",
              "      pl_yes  subs_deposit_n  \n",
              "5304       1               1  \n",
              "7512       0               1  \n",
              "4700       0               0  \n",
              "4918       0               0  \n",
              "4450       0               0  "
            ]
          },
          "metadata": {
            "tags": []
          },
          "execution_count": 75
        }
      ]
    },
    {
      "cell_type": "code",
      "metadata": {
        "colab": {
          "base_uri": "https://localhost:8080/"
        },
        "id": "ZvOFJ5pL5Q3F",
        "outputId": "33492adb-d0c7-4181-bec1-f4a6fcd96df2"
      },
      "source": [
        "#remove client_id coulmn from training dataset as this needs to be removed before run the actual prediction\n",
        "tr_data_mdl.drop(['client_id'], axis=1, inplace=True)\n",
        "tr_data_mdl.columns"
      ],
      "execution_count": null,
      "outputs": [
        {
          "output_type": "execute_result",
          "data": {
            "text/plain": [
              "Index(['prev_call_duration', 'days_since_last_call', 'num_contacts_prev',\n",
              "       'm_married', 'm_single', 'edu_primary', 'edu_tertiary', 'hl_no',\n",
              "       'hl_yes', 'pl_no', 'pl_yes', 'subs_deposit_n'],\n",
              "      dtype='object')"
            ]
          },
          "metadata": {
            "tags": []
          },
          "execution_count": 76
        }
      ]
    },
    {
      "cell_type": "code",
      "metadata": {
        "id": "MRl454x75Q57"
      },
      "source": [
        "# Visualize the top N features and their feature importance."
      ],
      "execution_count": null,
      "outputs": []
    },
    {
      "cell_type": "code",
      "metadata": {
        "colab": {
          "base_uri": "https://localhost:8080/",
          "height": 369
        },
        "id": "5ErjKtNR5Q8Q",
        "outputId": "bf41168d-d18a-4174-e2fe-472a5bb402ca"
      },
      "source": [
        "#1 prev_call_duration\n",
        "# use kde (kernel density estimation)\n",
        "\n",
        "prev_call_dur = tr_data[\"prev_call_duration\"]\n",
        "\n",
        "plt.figure(figsize=(10,5))\n",
        "sb.histplot(prev_call_dur, kde=True)\n",
        "plt.tight_layout()\n",
        "plt.show()"
      ],
      "execution_count": null,
      "outputs": [
        {
          "output_type": "display_data",
          "data": {
            "image/png": "[encoded data removed]",
            "text/plain": [
              "<Figure size 720x360 with 1 Axes>"
            ]
          },
          "metadata": {
            "tags": [],
            "needs_background": "light"
          }
        }
      ]
    },
    {
      "cell_type": "code",
      "metadata": {
        "colab": {
          "base_uri": "https://localhost:8080/",
          "height": 215
        },
        "id": "OVjU62Fq5Q_K",
        "outputId": "51571a41-6666-4622-b681-0ba32f677d02"
      },
      "source": [
        "# Test Data\n",
        "\n",
        "test_data_mdl = test_data.copy()\n",
        "\n",
        "features_sel = ['client_id','subs_deposit_n','hl_yes','pl_yes','m_married','edu_primary', 'm_single','edu_tertiary','pl_no','num_contacts_prev','days_since_last_call','hl_no','prev_call_duration']\n",
        "test_data_mdl.drop(test_data_mdl.columns.difference(features_sel),axis=1,inplace=True)\n",
        "\n",
        "test_data_mdl.head()"
      ],
      "execution_count": null,
      "outputs": [
        {
          "output_type": "execute_result",
          "data": {
            "text/html": [
              "<div>\n",
              "<style scoped>\n",
              "    .dataframe tbody tr th:only-of-type {\n",
              "        vertical-align: middle;\n",
              "    }\n",
              "\n",
              "    .dataframe tbody tr th {\n",
              "        vertical-align: top;\n",
              "    }\n",
              "\n",
              "    .dataframe thead th {\n",
              "        text-align: right;\n",
              "    }\n",
              "</style>\n",
              "<table border=\"1\" class=\"dataframe\">\n",
              "  <thead>\n",
              "    <tr style=\"text-align: right;\">\n",
              "      <th></th>\n",
              "      <th>client_id</th>\n",
              "      <th>prev_call_duration</th>\n",
              "      <th>days_since_last_call</th>\n",
              "      <th>num_contacts_prev</th>\n",
              "      <th>m_married</th>\n",
              "      <th>m_single</th>\n",
              "      <th>edu_primary</th>\n",
              "      <th>edu_tertiary</th>\n",
              "      <th>hl_no</th>\n",
              "      <th>hl_yes</th>\n",
              "      <th>pl_no</th>\n",
              "      <th>pl_yes</th>\n",
              "      <th>subs_deposit_n</th>\n",
              "    </tr>\n",
              "  </thead>\n",
              "  <tbody>\n",
              "    <tr>\n",
              "      <th>5527</th>\n",
              "      <td>5528</td>\n",
              "      <td>182</td>\n",
              "      <td>-1</td>\n",
              "      <td>0</td>\n",
              "      <td>0</td>\n",
              "      <td>0</td>\n",
              "      <td>0</td>\n",
              "      <td>0</td>\n",
              "      <td>1</td>\n",
              "      <td>0</td>\n",
              "      <td>1</td>\n",
              "      <td>0</td>\n",
              "      <td>1</td>\n",
              "    </tr>\n",
              "    <tr>\n",
              "      <th>4541</th>\n",
              "      <td>4542</td>\n",
              "      <td>1323</td>\n",
              "      <td>-1</td>\n",
              "      <td>0</td>\n",
              "      <td>1</td>\n",
              "      <td>0</td>\n",
              "      <td>0</td>\n",
              "      <td>0</td>\n",
              "      <td>1</td>\n",
              "      <td>0</td>\n",
              "      <td>1</td>\n",
              "      <td>0</td>\n",
              "      <td>0</td>\n",
              "    </tr>\n",
              "    <tr>\n",
              "      <th>1964</th>\n",
              "      <td>1965</td>\n",
              "      <td>456</td>\n",
              "      <td>300</td>\n",
              "      <td>1</td>\n",
              "      <td>0</td>\n",
              "      <td>1</td>\n",
              "      <td>0</td>\n",
              "      <td>0</td>\n",
              "      <td>0</td>\n",
              "      <td>1</td>\n",
              "      <td>1</td>\n",
              "      <td>0</td>\n",
              "      <td>0</td>\n",
              "    </tr>\n",
              "    <tr>\n",
              "      <th>5007</th>\n",
              "      <td>5008</td>\n",
              "      <td>784</td>\n",
              "      <td>-1</td>\n",
              "      <td>0</td>\n",
              "      <td>1</td>\n",
              "      <td>0</td>\n",
              "      <td>0</td>\n",
              "      <td>0</td>\n",
              "      <td>1</td>\n",
              "      <td>0</td>\n",
              "      <td>1</td>\n",
              "      <td>0</td>\n",
              "      <td>0</td>\n",
              "    </tr>\n",
              "    <tr>\n",
              "      <th>8928</th>\n",
              "      <td>8929</td>\n",
              "      <td>84</td>\n",
              "      <td>-1</td>\n",
              "      <td>0</td>\n",
              "      <td>1</td>\n",
              "      <td>0</td>\n",
              "      <td>0</td>\n",
              "      <td>1</td>\n",
              "      <td>0</td>\n",
              "      <td>1</td>\n",
              "      <td>1</td>\n",
              "      <td>0</td>\n",
              "      <td>1</td>\n",
              "    </tr>\n",
              "  </tbody>\n",
              "</table>\n",
              "</div>"
            ],
            "text/plain": [
              "      client_id  prev_call_duration  days_since_last_call  num_contacts_prev  \\\n",
              "5527       5528                 182                    -1                  0   \n",
              "4541       4542                1323                    -1                  0   \n",
              "1964       1965                 456                   300                  1   \n",
              "5007       5008                 784                    -1                  0   \n",
              "8928       8929                  84                    -1                  0   \n",
              "\n",
              "      m_married  m_single  edu_primary  edu_tertiary  hl_no  hl_yes  pl_no  \\\n",
              "5527          0         0            0             0      1       0      1   \n",
              "4541          1         0            0             0      1       0      1   \n",
              "1964          0         1            0             0      0       1      1   \n",
              "5007          1         0            0             0      1       0      1   \n",
              "8928          1         0            0             1      0       1      1   \n",
              "\n",
              "      pl_yes  subs_deposit_n  \n",
              "5527       0               1  \n",
              "4541       0               0  \n",
              "1964       0               0  \n",
              "5007       0               0  \n",
              "8928       0               1  "
            ]
          },
          "metadata": {
            "tags": []
          },
          "execution_count": 78
        }
      ]
    },
    {
      "cell_type": "code",
      "metadata": {
        "colab": {
          "base_uri": "https://localhost:8080/",
          "height": 215
        },
        "id": "qXyLgQHUZZFI",
        "outputId": "6bc7c5f3-fac1-45e9-f968-3259f4ad852d"
      },
      "source": [
        "#remove is_cancelled column\n",
        "test_data_mdl.drop(\"subs_deposit_n\",axis=1,inplace=True)\n",
        "\n",
        "test_data_mdl.head()"
      ],
      "execution_count": null,
      "outputs": [
        {
          "output_type": "execute_result",
          "data": {
            "text/html": [
              "<div>\n",
              "<style scoped>\n",
              "    .dataframe tbody tr th:only-of-type {\n",
              "        vertical-align: middle;\n",
              "    }\n",
              "\n",
              "    .dataframe tbody tr th {\n",
              "        vertical-align: top;\n",
              "    }\n",
              "\n",
              "    .dataframe thead th {\n",
              "        text-align: right;\n",
              "    }\n",
              "</style>\n",
              "<table border=\"1\" class=\"dataframe\">\n",
              "  <thead>\n",
              "    <tr style=\"text-align: right;\">\n",
              "      <th></th>\n",
              "      <th>client_id</th>\n",
              "      <th>prev_call_duration</th>\n",
              "      <th>days_since_last_call</th>\n",
              "      <th>num_contacts_prev</th>\n",
              "      <th>m_married</th>\n",
              "      <th>m_single</th>\n",
              "      <th>edu_primary</th>\n",
              "      <th>edu_tertiary</th>\n",
              "      <th>hl_no</th>\n",
              "      <th>hl_yes</th>\n",
              "      <th>pl_no</th>\n",
              "      <th>pl_yes</th>\n",
              "    </tr>\n",
              "  </thead>\n",
              "  <tbody>\n",
              "    <tr>\n",
              "      <th>5527</th>\n",
              "      <td>5528</td>\n",
              "      <td>182</td>\n",
              "      <td>-1</td>\n",
              "      <td>0</td>\n",
              "      <td>0</td>\n",
              "      <td>0</td>\n",
              "      <td>0</td>\n",
              "      <td>0</td>\n",
              "      <td>1</td>\n",
              "      <td>0</td>\n",
              "      <td>1</td>\n",
              "      <td>0</td>\n",
              "    </tr>\n",
              "    <tr>\n",
              "      <th>4541</th>\n",
              "      <td>4542</td>\n",
              "      <td>1323</td>\n",
              "      <td>-1</td>\n",
              "      <td>0</td>\n",
              "      <td>1</td>\n",
              "      <td>0</td>\n",
              "      <td>0</td>\n",
              "      <td>0</td>\n",
              "      <td>1</td>\n",
              "      <td>0</td>\n",
              "      <td>1</td>\n",
              "      <td>0</td>\n",
              "    </tr>\n",
              "    <tr>\n",
              "      <th>1964</th>\n",
              "      <td>1965</td>\n",
              "      <td>456</td>\n",
              "      <td>300</td>\n",
              "      <td>1</td>\n",
              "      <td>0</td>\n",
              "      <td>1</td>\n",
              "      <td>0</td>\n",
              "      <td>0</td>\n",
              "      <td>0</td>\n",
              "      <td>1</td>\n",
              "      <td>1</td>\n",
              "      <td>0</td>\n",
              "    </tr>\n",
              "    <tr>\n",
              "      <th>5007</th>\n",
              "      <td>5008</td>\n",
              "      <td>784</td>\n",
              "      <td>-1</td>\n",
              "      <td>0</td>\n",
              "      <td>1</td>\n",
              "      <td>0</td>\n",
              "      <td>0</td>\n",
              "      <td>0</td>\n",
              "      <td>1</td>\n",
              "      <td>0</td>\n",
              "      <td>1</td>\n",
              "      <td>0</td>\n",
              "    </tr>\n",
              "    <tr>\n",
              "      <th>8928</th>\n",
              "      <td>8929</td>\n",
              "      <td>84</td>\n",
              "      <td>-1</td>\n",
              "      <td>0</td>\n",
              "      <td>1</td>\n",
              "      <td>0</td>\n",
              "      <td>0</td>\n",
              "      <td>1</td>\n",
              "      <td>0</td>\n",
              "      <td>1</td>\n",
              "      <td>1</td>\n",
              "      <td>0</td>\n",
              "    </tr>\n",
              "  </tbody>\n",
              "</table>\n",
              "</div>"
            ],
            "text/plain": [
              "      client_id  prev_call_duration  days_since_last_call  num_contacts_prev  \\\n",
              "5527       5528                 182                    -1                  0   \n",
              "4541       4542                1323                    -1                  0   \n",
              "1964       1965                 456                   300                  1   \n",
              "5007       5008                 784                    -1                  0   \n",
              "8928       8929                  84                    -1                  0   \n",
              "\n",
              "      m_married  m_single  edu_primary  edu_tertiary  hl_no  hl_yes  pl_no  \\\n",
              "5527          0         0            0             0      1       0      1   \n",
              "4541          1         0            0             0      1       0      1   \n",
              "1964          0         1            0             0      0       1      1   \n",
              "5007          1         0            0             0      1       0      1   \n",
              "8928          1         0            0             1      0       1      1   \n",
              "\n",
              "      pl_yes  \n",
              "5527       0  \n",
              "4541       0  \n",
              "1964       0  \n",
              "5007       0  \n",
              "8928       0  "
            ]
          },
          "metadata": {
            "tags": []
          },
          "execution_count": 79
        }
      ]
    },
    {
      "cell_type": "code",
      "metadata": {
        "colab": {
          "base_uri": "https://localhost:8080/",
          "height": 215
        },
        "id": "up5JLweSSaF7",
        "outputId": "9d455d89-f40e-4e86-c029-4f12bbd96d95"
      },
      "source": [
        "tr_data_mdl.head()"
      ],
      "execution_count": null,
      "outputs": [
        {
          "output_type": "execute_result",
          "data": {
            "text/html": [
              "<div>\n",
              "<style scoped>\n",
              "    .dataframe tbody tr th:only-of-type {\n",
              "        vertical-align: middle;\n",
              "    }\n",
              "\n",
              "    .dataframe tbody tr th {\n",
              "        vertical-align: top;\n",
              "    }\n",
              "\n",
              "    .dataframe thead th {\n",
              "        text-align: right;\n",
              "    }\n",
              "</style>\n",
              "<table border=\"1\" class=\"dataframe\">\n",
              "  <thead>\n",
              "    <tr style=\"text-align: right;\">\n",
              "      <th></th>\n",
              "      <th>prev_call_duration</th>\n",
              "      <th>days_since_last_call</th>\n",
              "      <th>num_contacts_prev</th>\n",
              "      <th>m_married</th>\n",
              "      <th>m_single</th>\n",
              "      <th>edu_primary</th>\n",
              "      <th>edu_tertiary</th>\n",
              "      <th>hl_no</th>\n",
              "      <th>hl_yes</th>\n",
              "      <th>pl_no</th>\n",
              "      <th>pl_yes</th>\n",
              "      <th>subs_deposit_n</th>\n",
              "    </tr>\n",
              "  </thead>\n",
              "  <tbody>\n",
              "    <tr>\n",
              "      <th>5304</th>\n",
              "      <td>98</td>\n",
              "      <td>-1</td>\n",
              "      <td>0</td>\n",
              "      <td>1</td>\n",
              "      <td>0</td>\n",
              "      <td>0</td>\n",
              "      <td>0</td>\n",
              "      <td>0</td>\n",
              "      <td>1</td>\n",
              "      <td>0</td>\n",
              "      <td>1</td>\n",
              "      <td>1</td>\n",
              "    </tr>\n",
              "    <tr>\n",
              "      <th>7512</th>\n",
              "      <td>281</td>\n",
              "      <td>266</td>\n",
              "      <td>6</td>\n",
              "      <td>0</td>\n",
              "      <td>1</td>\n",
              "      <td>0</td>\n",
              "      <td>1</td>\n",
              "      <td>0</td>\n",
              "      <td>1</td>\n",
              "      <td>1</td>\n",
              "      <td>0</td>\n",
              "      <td>1</td>\n",
              "    </tr>\n",
              "    <tr>\n",
              "      <th>4700</th>\n",
              "      <td>712</td>\n",
              "      <td>-1</td>\n",
              "      <td>0</td>\n",
              "      <td>0</td>\n",
              "      <td>1</td>\n",
              "      <td>0</td>\n",
              "      <td>0</td>\n",
              "      <td>0</td>\n",
              "      <td>1</td>\n",
              "      <td>1</td>\n",
              "      <td>0</td>\n",
              "      <td>0</td>\n",
              "    </tr>\n",
              "    <tr>\n",
              "      <th>4918</th>\n",
              "      <td>566</td>\n",
              "      <td>-1</td>\n",
              "      <td>0</td>\n",
              "      <td>1</td>\n",
              "      <td>0</td>\n",
              "      <td>0</td>\n",
              "      <td>0</td>\n",
              "      <td>0</td>\n",
              "      <td>1</td>\n",
              "      <td>1</td>\n",
              "      <td>0</td>\n",
              "      <td>0</td>\n",
              "    </tr>\n",
              "    <tr>\n",
              "      <th>4450</th>\n",
              "      <td>252</td>\n",
              "      <td>184</td>\n",
              "      <td>3</td>\n",
              "      <td>0</td>\n",
              "      <td>1</td>\n",
              "      <td>0</td>\n",
              "      <td>0</td>\n",
              "      <td>1</td>\n",
              "      <td>0</td>\n",
              "      <td>1</td>\n",
              "      <td>0</td>\n",
              "      <td>0</td>\n",
              "    </tr>\n",
              "  </tbody>\n",
              "</table>\n",
              "</div>"
            ],
            "text/plain": [
              "      prev_call_duration  days_since_last_call  num_contacts_prev  m_married  \\\n",
              "5304                  98                    -1                  0          1   \n",
              "7512                 281                   266                  6          0   \n",
              "4700                 712                    -1                  0          0   \n",
              "4918                 566                    -1                  0          1   \n",
              "4450                 252                   184                  3          0   \n",
              "\n",
              "      m_single  edu_primary  edu_tertiary  hl_no  hl_yes  pl_no  pl_yes  \\\n",
              "5304         0            0             0      0       1      0       1   \n",
              "7512         1            0             1      0       1      1       0   \n",
              "4700         1            0             0      0       1      1       0   \n",
              "4918         0            0             0      0       1      1       0   \n",
              "4450         1            0             0      1       0      1       0   \n",
              "\n",
              "      subs_deposit_n  \n",
              "5304               1  \n",
              "7512               1  \n",
              "4700               0  \n",
              "4918               0  \n",
              "4450               0  "
            ]
          },
          "metadata": {
            "tags": []
          },
          "execution_count": 34
        }
      ]
    },
    {
      "cell_type": "code",
      "metadata": {
        "id": "3wGeF1OsSaPP"
      },
      "source": [
        "#*******************\n",
        "#Model Selection\n",
        "#*******************\n",
        "\n",
        "#Precision and confusion matrix are the decision factor for the model selection\n",
        "#To start with, evaluating the below two models\n",
        "\n",
        "#1 KNN\n",
        "#2 Random Forest\n",
        "#3 Gradeient Boost"
      ],
      "execution_count": null,
      "outputs": []
    },
    {
      "cell_type": "code",
      "metadata": {
        "colab": {
          "base_uri": "https://localhost:8080/"
        },
        "id": "ac4M3Yt_SaSK",
        "outputId": "85b41583-07d1-4595-cd52-c6956da66452"
      },
      "source": [
        "tr_data_mdl.columns"
      ],
      "execution_count": null,
      "outputs": [
        {
          "output_type": "execute_result",
          "data": {
            "text/plain": [
              "Index(['prev_call_duration', 'days_since_last_call', 'num_contacts_prev',\n",
              "       'm_married', 'm_single', 'edu_primary', 'edu_tertiary', 'hl_no',\n",
              "       'hl_yes', 'pl_no', 'pl_yes', 'subs_deposit_n'],\n",
              "      dtype='object')"
            ]
          },
          "metadata": {
            "tags": []
          },
          "execution_count": 35
        }
      ]
    },
    {
      "cell_type": "code",
      "metadata": {
        "colab": {
          "base_uri": "https://localhost:8080/"
        },
        "id": "vU0iVShTSaUW",
        "outputId": "c8c66998-4c68-4de0-dd55-ad62d3496005"
      },
      "source": [
        "#validate the data types of all the columns; all are numeric\n",
        "tr_data_mdl.columns.to_series().groupby(tr_data_mdl.dtypes).groups"
      ],
      "execution_count": null,
      "outputs": [
        {
          "output_type": "execute_result",
          "data": {
            "text/plain": [
              "{uint8: ['m_married', 'm_single', 'edu_primary', 'edu_tertiary', 'hl_no', 'hl_yes', 'pl_no', 'pl_yes'], int64: ['prev_call_duration', 'days_since_last_call', 'num_contacts_prev', 'subs_deposit_n']}"
            ]
          },
          "metadata": {
            "tags": []
          },
          "execution_count": 80
        }
      ]
    },
    {
      "cell_type": "code",
      "metadata": {
        "colab": {
          "base_uri": "https://localhost:8080/"
        },
        "id": "SdEs8d-OS0DL",
        "outputId": "9543b47c-c0a6-442e-c8f1-ee867f430fdc"
      },
      "source": [
        "len(tr_data_mdl)"
      ],
      "execution_count": null,
      "outputs": [
        {
          "output_type": "execute_result",
          "data": {
            "text/plain": [
              "8371"
            ]
          },
          "metadata": {
            "tags": []
          },
          "execution_count": 37
        }
      ]
    },
    {
      "cell_type": "code",
      "metadata": {
        "id": "1kF0kbdDS0GJ"
      },
      "source": [
        "#set 25% as test size from the training dataset; this is for train the model\n",
        "x_train, x_test, y_train, y_test= train_test_split(tr_data_mdl.drop('subs_deposit_n',axis=1), tr_data_mdl['subs_deposit_n'], test_size=0.25, random_state=42)"
      ],
      "execution_count": null,
      "outputs": []
    },
    {
      "cell_type": "code",
      "metadata": {
        "colab": {
          "base_uri": "https://localhost:8080/"
        },
        "id": "W8uvwE0ES0J4",
        "outputId": "afdafb36-759e-434a-a4a9-2fb0c3e24e55"
      },
      "source": [
        "#1 KNN option-1 (default weights --> uniform)\n",
        "knn = KNeighborsClassifier()\n",
        "knn.fit(x_train, y_train)"
      ],
      "execution_count": null,
      "outputs": [
        {
          "output_type": "execute_result",
          "data": {
            "text/plain": [
              "KNeighborsClassifier(algorithm='auto', leaf_size=30, metric='minkowski',\n",
              "                     metric_params=None, n_jobs=None, n_neighbors=5, p=2,\n",
              "                     weights='uniform')"
            ]
          },
          "metadata": {
            "tags": []
          },
          "execution_count": 82
        }
      ]
    },
    {
      "cell_type": "code",
      "metadata": {
        "colab": {
          "base_uri": "https://localhost:8080/"
        },
        "id": "MKiVurYFS0Ld",
        "outputId": "a66e4dc6-a96c-41cb-87af-e5f9a7ab59d5"
      },
      "source": [
        "#get the accuracy score\n",
        "knn_pred=knn.predict(x_test)\n",
        "score=metrics.accuracy_score(y_test,knn_pred)\n",
        "print(score)"
      ],
      "execution_count": null,
      "outputs": [
        {
          "output_type": "stream",
          "text": [
            "0.7649307214524605\n"
          ],
          "name": "stdout"
        }
      ]
    },
    {
      "cell_type": "code",
      "metadata": {
        "colab": {
          "base_uri": "https://localhost:8080/"
        },
        "id": "CyhA0FPFS0OF",
        "outputId": "6dd72e35-f072-4737-aca3-fbd818f9adc5"
      },
      "source": [
        "confusion_matrix(y_test, knn_pred)"
      ],
      "execution_count": null,
      "outputs": [
        {
          "output_type": "execute_result",
          "data": {
            "text/plain": [
              "array([[780, 220],\n",
              "       [272, 821]])"
            ]
          },
          "metadata": {
            "tags": []
          },
          "execution_count": 84
        }
      ]
    },
    {
      "cell_type": "code",
      "metadata": {
        "colab": {
          "base_uri": "https://localhost:8080/"
        },
        "id": "_hhLp9WmnRzR",
        "outputId": "b8e3f4df-4573-4400-c3b8-5c95b97643dd"
      },
      "source": [
        "#f1 score\n",
        "print(classification_report(y_test, knn_pred))"
      ],
      "execution_count": null,
      "outputs": [
        {
          "output_type": "stream",
          "text": [
            "              precision    recall  f1-score   support\n",
            "\n",
            "           0       0.74      0.78      0.76      1000\n",
            "           1       0.79      0.75      0.77      1093\n",
            "\n",
            "    accuracy                           0.76      2093\n",
            "   macro avg       0.77      0.77      0.76      2093\n",
            "weighted avg       0.77      0.76      0.77      2093\n",
            "\n"
          ],
          "name": "stdout"
        }
      ]
    },
    {
      "cell_type": "code",
      "metadata": {
        "colab": {
          "base_uri": "https://localhost:8080/"
        },
        "id": "uoaNJ6f8S0QS",
        "outputId": "3254fe72-a228-4af3-c0d1-27df861d2c17"
      },
      "source": [
        "#1 KNN option-2 (default weights --> distance)\n",
        "knn2 = KNeighborsClassifier(weights='distance')\n",
        "knn2.fit(x_train, y_train)"
      ],
      "execution_count": null,
      "outputs": [
        {
          "output_type": "execute_result",
          "data": {
            "text/plain": [
              "KNeighborsClassifier(algorithm='auto', leaf_size=30, metric='minkowski',\n",
              "                     metric_params=None, n_jobs=None, n_neighbors=5, p=2,\n",
              "                     weights='distance')"
            ]
          },
          "metadata": {
            "tags": []
          },
          "execution_count": 86
        }
      ]
    },
    {
      "cell_type": "code",
      "metadata": {
        "colab": {
          "base_uri": "https://localhost:8080/"
        },
        "id": "kwYaV_WRTWBe",
        "outputId": "6b1dc049-da13-40cf-afa5-2f94eeef7501"
      },
      "source": [
        "#get the accuracy score\n",
        "knn_pred2=knn2.predict(x_test)\n",
        "score2=metrics.accuracy_score(y_test,knn_pred2)\n",
        "print(score2)"
      ],
      "execution_count": null,
      "outputs": [
        {
          "output_type": "stream",
          "text": [
            "0.7520305781175346\n"
          ],
          "name": "stdout"
        }
      ]
    },
    {
      "cell_type": "code",
      "metadata": {
        "colab": {
          "base_uri": "https://localhost:8080/"
        },
        "id": "1QujAIGgTWEL",
        "outputId": "ef6141e2-7160-49cd-ff77-d582f4a618f5"
      },
      "source": [
        "confusion_matrix(y_test, knn_pred2)"
      ],
      "execution_count": null,
      "outputs": [
        {
          "output_type": "execute_result",
          "data": {
            "text/plain": [
              "array([[783, 217],\n",
              "       [302, 791]])"
            ]
          },
          "metadata": {
            "tags": []
          },
          "execution_count": 88
        }
      ]
    },
    {
      "cell_type": "code",
      "metadata": {
        "colab": {
          "base_uri": "https://localhost:8080/"
        },
        "id": "fSajKkz55F5u",
        "outputId": "86ad2f6e-5028-41fc-c217-bdf9520ff3db"
      },
      "source": [
        "#f1 score\n",
        "print(classification_report(y_test, knn_pred2))"
      ],
      "execution_count": null,
      "outputs": [
        {
          "output_type": "stream",
          "text": [
            "              precision    recall  f1-score   support\n",
            "\n",
            "           0       0.72      0.78      0.75      1000\n",
            "           1       0.78      0.72      0.75      1093\n",
            "\n",
            "    accuracy                           0.75      2093\n",
            "   macro avg       0.75      0.75      0.75      2093\n",
            "weighted avg       0.75      0.75      0.75      2093\n",
            "\n"
          ],
          "name": "stdout"
        }
      ]
    },
    {
      "cell_type": "code",
      "metadata": {
        "colab": {
          "base_uri": "https://localhost:8080/"
        },
        "id": "FWl83QJyTWJJ",
        "outputId": "3c014884-f39b-4e87-868f-a58278de44c3"
      },
      "source": [
        "#2 Random Forest\n",
        "\n",
        "rf = RandomForestClassifier(random_state=42, n_jobs=-1)\n",
        "rf.fit(x_train, y_train)"
      ],
      "execution_count": null,
      "outputs": [
        {
          "output_type": "execute_result",
          "data": {
            "text/plain": [
              "RandomForestClassifier(bootstrap=True, ccp_alpha=0.0, class_weight=None,\n",
              "                       criterion='gini', max_depth=None, max_features='auto',\n",
              "                       max_leaf_nodes=None, max_samples=None,\n",
              "                       min_impurity_decrease=0.0, min_impurity_split=None,\n",
              "                       min_samples_leaf=1, min_samples_split=2,\n",
              "                       min_weight_fraction_leaf=0.0, n_estimators=100,\n",
              "                       n_jobs=-1, oob_score=False, random_state=42, verbose=0,\n",
              "                       warm_start=False)"
            ]
          },
          "metadata": {
            "tags": []
          },
          "execution_count": 91
        }
      ]
    },
    {
      "cell_type": "code",
      "metadata": {
        "colab": {
          "base_uri": "https://localhost:8080/"
        },
        "id": "Y3vG_zUuTWLV",
        "outputId": "df5c805c-8e30-4454-9154-c2647445c866"
      },
      "source": [
        "#get the accuracy score\n",
        "rf_pred=rf.predict(x_test)\n",
        "rf_ascore=metrics.accuracy_score(y_test,rf_pred)\n",
        "rf_pscore=metrics.precision_score(y_test,rf_pred)\n",
        "print(\"Accuracy score : \", rf_ascore)\n",
        "print(\"Precision score : \", rf_pscore)"
      ],
      "execution_count": null,
      "outputs": [
        {
          "output_type": "stream",
          "text": [
            "Accuracy score :  0.7434304825609174\n",
            "Precision score :  0.7607879924953096\n"
          ],
          "name": "stdout"
        }
      ]
    },
    {
      "cell_type": "code",
      "metadata": {
        "colab": {
          "base_uri": "https://localhost:8080/"
        },
        "id": "pZ89spKyTkl_",
        "outputId": "dbeec876-ae60-435f-ccdc-4f55cf4c619a"
      },
      "source": [
        "confusion_matrix(y_test, rf_pred)"
      ],
      "execution_count": null,
      "outputs": [
        {
          "output_type": "execute_result",
          "data": {
            "text/plain": [
              "array([[745, 255],\n",
              "       [282, 811]])"
            ]
          },
          "metadata": {
            "tags": []
          },
          "execution_count": 93
        }
      ]
    },
    {
      "cell_type": "code",
      "metadata": {
        "colab": {
          "base_uri": "https://localhost:8080/"
        },
        "id": "CpH7gEoJ5kol",
        "outputId": "c6cadfdb-7765-489e-b895-740db74a4c5f"
      },
      "source": [
        "#f1 score\n",
        "print(classification_report(y_test, rf_pred))"
      ],
      "execution_count": null,
      "outputs": [
        {
          "output_type": "stream",
          "text": [
            "              precision    recall  f1-score   support\n",
            "\n",
            "           0       0.73      0.74      0.74      1000\n",
            "           1       0.76      0.74      0.75      1093\n",
            "\n",
            "    accuracy                           0.74      2093\n",
            "   macro avg       0.74      0.74      0.74      2093\n",
            "weighted avg       0.74      0.74      0.74      2093\n",
            "\n"
          ],
          "name": "stdout"
        }
      ]
    },
    {
      "cell_type": "code",
      "metadata": {
        "colab": {
          "base_uri": "https://localhost:8080/"
        },
        "id": "y__DSdCiTkuU",
        "outputId": "e0986ace-4b2c-4d8c-90aa-126241a0bf47"
      },
      "source": [
        "#3 Gradient Boosting\n",
        "gb = GradientBoostingClassifier()\n",
        "cv=RepeatedStratifiedKFold(n_splits=10, n_repeats=3, random_state=1)\n",
        "n_scores= cross_val_score(gb,x_train, y_train,scoring='accuracy',cv=cv,n_jobs=-1,error_score='raise')\n",
        "print(mean(n_scores))\n",
        "print(std(n_scores))"
      ],
      "execution_count": null,
      "outputs": [
        {
          "output_type": "stream",
          "text": [
            "0.7952141258376594\n",
            "0.013004889773697879\n"
          ],
          "name": "stdout"
        }
      ]
    },
    {
      "cell_type": "code",
      "metadata": {
        "id": "NN5h_9i9Tkzk",
        "colab": {
          "base_uri": "https://localhost:8080/"
        },
        "outputId": "1b9ae0d5-0267-4874-8cfa-7288f468c542"
      },
      "source": [
        "gb.fit(x_train, y_train)"
      ],
      "execution_count": null,
      "outputs": [
        {
          "output_type": "execute_result",
          "data": {
            "text/plain": [
              "GradientBoostingClassifier(ccp_alpha=0.0, criterion='friedman_mse', init=None,\n",
              "                           learning_rate=0.1, loss='deviance', max_depth=3,\n",
              "                           max_features=None, max_leaf_nodes=None,\n",
              "                           min_impurity_decrease=0.0, min_impurity_split=None,\n",
              "                           min_samples_leaf=1, min_samples_split=2,\n",
              "                           min_weight_fraction_leaf=0.0, n_estimators=100,\n",
              "                           n_iter_no_change=None, presort='deprecated',\n",
              "                           random_state=None, subsample=1.0, tol=0.0001,\n",
              "                           validation_fraction=0.1, verbose=0,\n",
              "                           warm_start=False)"
            ]
          },
          "metadata": {
            "tags": []
          },
          "execution_count": 97
        }
      ]
    },
    {
      "cell_type": "code",
      "metadata": {
        "id": "peszWstLT432",
        "colab": {
          "base_uri": "https://localhost:8080/"
        },
        "outputId": "d9e1d52d-32c7-41af-f6d5-a2294842354f"
      },
      "source": [
        "#get the accuracy score\n",
        "gb_pred=gb.predict(x_test)\n",
        "print('Prediction: %d' % gb_pred[0])"
      ],
      "execution_count": null,
      "outputs": [
        {
          "output_type": "stream",
          "text": [
            "Prediction: 1\n"
          ],
          "name": "stdout"
        }
      ]
    },
    {
      "cell_type": "code",
      "metadata": {
        "colab": {
          "base_uri": "https://localhost:8080/"
        },
        "id": "c6yDJXu4593o",
        "outputId": "fffa28dc-2233-4891-8c2f-659b5edf6fda"
      },
      "source": [
        "confusion_matrix(y_test, gb_pred)"
      ],
      "execution_count": null,
      "outputs": [
        {
          "output_type": "execute_result",
          "data": {
            "text/plain": [
              "array([[816, 184],\n",
              "       [228, 865]])"
            ]
          },
          "metadata": {
            "tags": []
          },
          "execution_count": 99
        }
      ]
    },
    {
      "cell_type": "code",
      "metadata": {
        "colab": {
          "base_uri": "https://localhost:8080/"
        },
        "id": "fzST0HMA6HpE",
        "outputId": "8a57806f-6fd2-4a21-9b17-35157ae13cb1"
      },
      "source": [
        "#f1 score\n",
        "print(classification_report(y_test, gb_pred))"
      ],
      "execution_count": null,
      "outputs": [
        {
          "output_type": "stream",
          "text": [
            "              precision    recall  f1-score   support\n",
            "\n",
            "           0       0.78      0.82      0.80      1000\n",
            "           1       0.82      0.79      0.81      1093\n",
            "\n",
            "    accuracy                           0.80      2093\n",
            "   macro avg       0.80      0.80      0.80      2093\n",
            "weighted avg       0.80      0.80      0.80      2093\n",
            "\n"
          ],
          "name": "stdout"
        }
      ]
    },
    {
      "cell_type": "code",
      "metadata": {
        "id": "xywsfe5FT461"
      },
      "source": [
        "#Predict"
      ],
      "execution_count": null,
      "outputs": []
    },
    {
      "cell_type": "code",
      "metadata": {
        "id": "LohtWfdiXnQw"
      },
      "source": [
        ""
      ],
      "execution_count": null,
      "outputs": []
    },
    {
      "cell_type": "code",
      "metadata": {
        "colab": {
          "base_uri": "https://localhost:8080/",
          "height": 194
        },
        "id": "P6hr-B5BT49F",
        "outputId": "2c4f6393-0e5b-46aa-863a-5512bc0f9248"
      },
      "source": [
        "#Random Forest\n",
        "p_dict={'n_estimators': [500],'n_jobs':[-1],'max_features':[\"auto\",\"log2\"] }\n",
        "mdl_fin=GridSearchCV(estimator=RandomForestClassifier(), param_grid=p_dict)\n",
        "\n",
        "mdl_fin.fit(x_train, y_train)\n",
        "pred=mdl_fin.predict(test_data_mdl.drop('id',axis=1))\n",
        "is_cancelled={'id':test_data_mdl['id'], 'is_cancelled':pred}\n",
        "\n",
        "out_final = pd.DataFrame(is_cancelled)\n",
        "out_final.head()"
      ],
      "execution_count": null,
      "outputs": [
        {
          "output_type": "execute_result",
          "data": {
            "text/html": [
              "<div>\n",
              "<style scoped>\n",
              "    .dataframe tbody tr th:only-of-type {\n",
              "        vertical-align: middle;\n",
              "    }\n",
              "\n",
              "    .dataframe tbody tr th {\n",
              "        vertical-align: top;\n",
              "    }\n",
              "\n",
              "    .dataframe thead th {\n",
              "        text-align: right;\n",
              "    }\n",
              "</style>\n",
              "<table border=\"1\" class=\"dataframe\">\n",
              "  <thead>\n",
              "    <tr style=\"text-align: right;\">\n",
              "      <th></th>\n",
              "      <th>id</th>\n",
              "      <th>is_cancelled</th>\n",
              "    </tr>\n",
              "  </thead>\n",
              "  <tbody>\n",
              "    <tr>\n",
              "      <th>52744</th>\n",
              "      <td>52745</td>\n",
              "      <td>1</td>\n",
              "    </tr>\n",
              "    <tr>\n",
              "      <th>43365</th>\n",
              "      <td>43366</td>\n",
              "      <td>0</td>\n",
              "    </tr>\n",
              "    <tr>\n",
              "      <th>27212</th>\n",
              "      <td>27213</td>\n",
              "      <td>0</td>\n",
              "    </tr>\n",
              "    <tr>\n",
              "      <th>24540</th>\n",
              "      <td>24541</td>\n",
              "      <td>0</td>\n",
              "    </tr>\n",
              "    <tr>\n",
              "      <th>30965</th>\n",
              "      <td>30966</td>\n",
              "      <td>0</td>\n",
              "    </tr>\n",
              "  </tbody>\n",
              "</table>\n",
              "</div>"
            ],
            "text/plain": [
              "          id  is_cancelled\n",
              "52744  52745             1\n",
              "43365  43366             0\n",
              "27212  27213             0\n",
              "24540  24541             0\n",
              "30965  30966             0"
            ]
          },
          "metadata": {
            "tags": []
          },
          "execution_count": 80
        }
      ]
    },
    {
      "cell_type": "code",
      "metadata": {
        "colab": {
          "base_uri": "https://localhost:8080/"
        },
        "id": "8qIeGHMAyP4F",
        "outputId": "ac707dcf-586c-4a4c-bcb6-4f09fc718846"
      },
      "source": [
        "submission_df = out_final.copy()\n",
        "print(len(submission_df))"
      ],
      "execution_count": null,
      "outputs": [
        {
          "output_type": "stream",
          "text": [
            "41292\n"
          ],
          "name": "stdout"
        }
      ]
    },
    {
      "cell_type": "code",
      "metadata": {
        "id": "EfWkhbGoyUis"
      },
      "source": [
        "#Submission\n",
        "submission_df.to_csv('/content/submissions.csv',index=False)"
      ],
      "execution_count": null,
      "outputs": []
    },
    {
      "cell_type": "code",
      "metadata": {
        "id": "OnYXDRLMyUla"
      },
      "source": [
        ""
      ],
      "execution_count": null,
      "outputs": []
    },
    {
      "cell_type": "code",
      "metadata": {
        "colab": {
          "base_uri": "https://localhost:8080/",
          "height": 194
        },
        "id": "F-dVShTzseAB",
        "outputId": "3543a16a-cd53-4516-c890-0eef473647b0"
      },
      "source": [
        "#Run the model for GradientBoostingClassifier\n",
        "\n",
        "gb_pred=gb.predict(test_data_mdl.drop('id',axis=1))\n",
        "is_cancelled={'id':test_data_mdl['id'], 'is_cancelled':gb_pred}\n",
        "\n",
        "out_final = pd.DataFrame(is_cancelled)\n",
        "out_final.head()"
      ],
      "execution_count": null,
      "outputs": [
        {
          "output_type": "execute_result",
          "data": {
            "text/html": [
              "<div>\n",
              "<style scoped>\n",
              "    .dataframe tbody tr th:only-of-type {\n",
              "        vertical-align: middle;\n",
              "    }\n",
              "\n",
              "    .dataframe tbody tr th {\n",
              "        vertical-align: top;\n",
              "    }\n",
              "\n",
              "    .dataframe thead th {\n",
              "        text-align: right;\n",
              "    }\n",
              "</style>\n",
              "<table border=\"1\" class=\"dataframe\">\n",
              "  <thead>\n",
              "    <tr style=\"text-align: right;\">\n",
              "      <th></th>\n",
              "      <th>id</th>\n",
              "      <th>is_cancelled</th>\n",
              "    </tr>\n",
              "  </thead>\n",
              "  <tbody>\n",
              "    <tr>\n",
              "      <th>52744</th>\n",
              "      <td>52745</td>\n",
              "      <td>1</td>\n",
              "    </tr>\n",
              "    <tr>\n",
              "      <th>43365</th>\n",
              "      <td>43366</td>\n",
              "      <td>0</td>\n",
              "    </tr>\n",
              "    <tr>\n",
              "      <th>27212</th>\n",
              "      <td>27213</td>\n",
              "      <td>0</td>\n",
              "    </tr>\n",
              "    <tr>\n",
              "      <th>24540</th>\n",
              "      <td>24541</td>\n",
              "      <td>0</td>\n",
              "    </tr>\n",
              "    <tr>\n",
              "      <th>30965</th>\n",
              "      <td>30966</td>\n",
              "      <td>0</td>\n",
              "    </tr>\n",
              "  </tbody>\n",
              "</table>\n",
              "</div>"
            ],
            "text/plain": [
              "          id  is_cancelled\n",
              "52744  52745             1\n",
              "43365  43366             0\n",
              "27212  27213             0\n",
              "24540  24541             0\n",
              "30965  30966             0"
            ]
          },
          "metadata": {
            "tags": []
          },
          "execution_count": 86
        }
      ]
    },
    {
      "cell_type": "code",
      "metadata": {
        "id": "Z-G5OhFHseUe"
      },
      "source": [
        ""
      ],
      "execution_count": null,
      "outputs": []
    },
    {
      "cell_type": "code",
      "metadata": {
        "colab": {
          "base_uri": "https://localhost:8080/"
        },
        "id": "XQu49BNRUYQ2",
        "outputId": "59346e1c-ab47-4c92-a6a0-d75c2fa21c82"
      },
      "source": [
        "submission_df2 = out_final.copy()\n",
        "print(len(submission_df2))"
      ],
      "execution_count": null,
      "outputs": [
        {
          "output_type": "stream",
          "text": [
            "41292\n"
          ],
          "name": "stdout"
        }
      ]
    },
    {
      "cell_type": "code",
      "metadata": {
        "id": "dA5ETQbuUYUt"
      },
      "source": [
        "#Submission\n",
        "submission_df2.to_csv('/content/submissions2.csv',index=False)"
      ],
      "execution_count": null,
      "outputs": []
    }
  ]
}