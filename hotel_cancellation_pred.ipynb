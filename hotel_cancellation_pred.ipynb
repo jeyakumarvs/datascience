{
  "nbformat": 4,
  "nbformat_minor": 0,
  "metadata": {
    "colab": {
      "name": "hotel-cancellation-pred.ipynb",
      "provenance": [],
      "collapsed_sections": [],
      "authorship_tag": "ABX9TyPI1YzouYU/08wk6IOjTjGc"
    },
    "kernelspec": {
      "name": "python3",
      "display_name": "Python 3"
    },
    "language_info": {
      "name": "python"
    }
  },
  "cells": [
    {
      "cell_type": "code",
      "metadata": {
        "id": "Vp7rZNQqqKh6"
      },
      "source": [
        "# If additional packages are needed but are not installed by default, uncomment the last two lines of this cell\n",
        "# and replace <package list> with a list of additional packages.\n",
        "# This will ensure the notebook has all the dependencies and works everywhere\n",
        "\n",
        "import sys\n",
        "import numpy as np\n",
        "from numpy import mean\n",
        "from numpy import std\n",
        "import pandas as pd\n",
        "import matplotlib.pyplot as plt\n",
        "import seaborn as sb\n",
        "\n",
        "from sklearn.model_selection import train_test_split\n",
        "\n",
        "#classification ml\n",
        "from sklearn.neighbors import KNeighborsClassifier\n",
        "from sklearn.ensemble import RandomForestClassifier\n",
        "from sklearn.ensemble import GradientBoostingClassifier\n",
        "\n",
        "#model selection\n",
        "from sklearn.model_selection import RandomizedSearchCV\n",
        "from sklearn.model_selection import GridSearchCV\n",
        "from sklearn.model_selection import RepeatedStratifiedKFold\n",
        "from sklearn.model_selection import cross_val_score\n",
        "\n",
        "#sklearn score\n",
        "from sklearn.metrics import accuracy_score\n",
        "from sklearn.metrics import precision_score\n",
        "from sklearn.metrics import recall_score\n",
        "from sklearn.metrics import make_scorer\n",
        "\n",
        "#others\n",
        "from sklearn import metrics\n",
        "from sklearn.metrics import classification_report\n",
        "from sklearn.metrics import confusion_matrix\n",
        "\n"
      ],
      "execution_count": 1,
      "outputs": []
    },
    {
      "cell_type": "code",
      "metadata": {
        "id": "O-SEwCbHtdrv"
      },
      "source": [
        "# Libraries\n",
        "import pandas as pd\n",
        "pd.set_option(\"display.max_columns\", 101)"
      ],
      "execution_count": 2,
      "outputs": []
    },
    {
      "cell_type": "code",
      "metadata": {
        "id": "VDc01w63ths6"
      },
      "source": [
        "# <H1>Data Wrangling & Visualization</H1>"
      ],
      "execution_count": null,
      "outputs": []
    },
    {
      "cell_type": "code",
      "metadata": {
        "id": "s_rbLB8Otk0Q"
      },
      "source": [
        "# The dataset is already loaded below\n",
        "data = pd.read_csv(\"/content/hotel_bookings.csv\")"
      ],
      "execution_count": 3,
      "outputs": []
    },
    {
      "cell_type": "code",
      "metadata": {
        "colab": {
          "base_uri": "https://localhost:8080/",
          "height": 194
        },
        "id": "NFb4_fOCue3E",
        "outputId": "f9740934-43b4-4dce-818a-eb2a71c09d24"
      },
      "source": [
        "data.head()"
      ],
      "execution_count": 4,
      "outputs": [
        {
          "output_type": "execute_result",
          "data": {
            "text/html": [
              "<div>\n",
              "<style scoped>\n",
              "    .dataframe tbody tr th:only-of-type {\n",
              "        vertical-align: middle;\n",
              "    }\n",
              "\n",
              "    .dataframe tbody tr th {\n",
              "        vertical-align: top;\n",
              "    }\n",
              "\n",
              "    .dataframe thead th {\n",
              "        text-align: right;\n",
              "    }\n",
              "</style>\n",
              "<table border=\"1\" class=\"dataframe\">\n",
              "  <thead>\n",
              "    <tr style=\"text-align: right;\">\n",
              "      <th></th>\n",
              "      <th>id</th>\n",
              "      <th>is_cancelled</th>\n",
              "      <th>lead_time</th>\n",
              "      <th>arrival_week</th>\n",
              "      <th>duration</th>\n",
              "      <th>segment</th>\n",
              "      <th>prev_cancel</th>\n",
              "      <th>booking_changes</th>\n",
              "      <th>deposit</th>\n",
              "      <th>waiting_period</th>\n",
              "      <th>per_Day_price</th>\n",
              "      <th>parking</th>\n",
              "      <th>special_request</th>\n",
              "      <th>cust_type</th>\n",
              "    </tr>\n",
              "  </thead>\n",
              "  <tbody>\n",
              "    <tr>\n",
              "      <th>0</th>\n",
              "      <td>1</td>\n",
              "      <td>0</td>\n",
              "      <td>342</td>\n",
              "      <td>27</td>\n",
              "      <td>0</td>\n",
              "      <td>Direct</td>\n",
              "      <td>0</td>\n",
              "      <td>3</td>\n",
              "      <td>No Deposit</td>\n",
              "      <td>0</td>\n",
              "      <td>0.0</td>\n",
              "      <td>0</td>\n",
              "      <td>0</td>\n",
              "      <td>Transient</td>\n",
              "    </tr>\n",
              "    <tr>\n",
              "      <th>1</th>\n",
              "      <td>2</td>\n",
              "      <td>0</td>\n",
              "      <td>737</td>\n",
              "      <td>27</td>\n",
              "      <td>0</td>\n",
              "      <td>Direct</td>\n",
              "      <td>0</td>\n",
              "      <td>4</td>\n",
              "      <td>No Deposit</td>\n",
              "      <td>0</td>\n",
              "      <td>0.0</td>\n",
              "      <td>0</td>\n",
              "      <td>0</td>\n",
              "      <td>Transient</td>\n",
              "    </tr>\n",
              "    <tr>\n",
              "      <th>2</th>\n",
              "      <td>3</td>\n",
              "      <td>0</td>\n",
              "      <td>7</td>\n",
              "      <td>27</td>\n",
              "      <td>1</td>\n",
              "      <td>Direct</td>\n",
              "      <td>0</td>\n",
              "      <td>0</td>\n",
              "      <td>No Deposit</td>\n",
              "      <td>0</td>\n",
              "      <td>75.0</td>\n",
              "      <td>0</td>\n",
              "      <td>0</td>\n",
              "      <td>Transient</td>\n",
              "    </tr>\n",
              "    <tr>\n",
              "      <th>3</th>\n",
              "      <td>4</td>\n",
              "      <td>0</td>\n",
              "      <td>13</td>\n",
              "      <td>27</td>\n",
              "      <td>1</td>\n",
              "      <td>Corporate</td>\n",
              "      <td>0</td>\n",
              "      <td>0</td>\n",
              "      <td>No Deposit</td>\n",
              "      <td>0</td>\n",
              "      <td>75.0</td>\n",
              "      <td>0</td>\n",
              "      <td>0</td>\n",
              "      <td>Transient</td>\n",
              "    </tr>\n",
              "    <tr>\n",
              "      <th>4</th>\n",
              "      <td>5</td>\n",
              "      <td>0</td>\n",
              "      <td>14</td>\n",
              "      <td>27</td>\n",
              "      <td>2</td>\n",
              "      <td>Online TA</td>\n",
              "      <td>0</td>\n",
              "      <td>0</td>\n",
              "      <td>No Deposit</td>\n",
              "      <td>0</td>\n",
              "      <td>98.0</td>\n",
              "      <td>0</td>\n",
              "      <td>1</td>\n",
              "      <td>Transient</td>\n",
              "    </tr>\n",
              "  </tbody>\n",
              "</table>\n",
              "</div>"
            ],
            "text/plain": [
              "   id  is_cancelled  lead_time  arrival_week  duration    segment  \\\n",
              "0   1             0        342            27         0     Direct   \n",
              "1   2             0        737            27         0     Direct   \n",
              "2   3             0          7            27         1     Direct   \n",
              "3   4             0         13            27         1  Corporate   \n",
              "4   5             0         14            27         2  Online TA   \n",
              "\n",
              "   prev_cancel  booking_changes     deposit  waiting_period  per_Day_price  \\\n",
              "0            0                3  No Deposit               0            0.0   \n",
              "1            0                4  No Deposit               0            0.0   \n",
              "2            0                0  No Deposit               0           75.0   \n",
              "3            0                0  No Deposit               0           75.0   \n",
              "4            0                0  No Deposit               0           98.0   \n",
              "\n",
              "   parking  special_request  cust_type  \n",
              "0        0                0  Transient  \n",
              "1        0                0  Transient  \n",
              "2        0                0  Transient  \n",
              "3        0                0  Transient  \n",
              "4        0                1  Transient  "
            ]
          },
          "metadata": {
            "tags": []
          },
          "execution_count": 4
        }
      ]
    },
    {
      "cell_type": "code",
      "metadata": {
        "colab": {
          "base_uri": "https://localhost:8080/"
        },
        "id": "GOWEVS0Fu3RL",
        "outputId": "c0fcdd30-eb47-4bee-ad04-92b944d511c2"
      },
      "source": [
        "#Explore columns\n",
        "data.columns"
      ],
      "execution_count": 5,
      "outputs": [
        {
          "output_type": "execute_result",
          "data": {
            "text/plain": [
              "Index(['id', 'is_cancelled', 'lead_time', 'arrival_week', 'duration',\n",
              "       'segment', 'prev_cancel', 'booking_changes', 'deposit',\n",
              "       'waiting_period', 'per_Day_price', 'parking', 'special_request',\n",
              "       'cust_type'],\n",
              "      dtype='object')"
            ]
          },
          "metadata": {
            "tags": []
          },
          "execution_count": 5
        }
      ]
    },
    {
      "cell_type": "code",
      "metadata": {
        "colab": {
          "base_uri": "https://localhost:8080/",
          "height": 283
        },
        "id": "tMidMM1qu9KQ",
        "outputId": "c900c16b-067c-4f71-c8dc-36ede81aa93d"
      },
      "source": [
        "data.describe()"
      ],
      "execution_count": 6,
      "outputs": [
        {
          "output_type": "execute_result",
          "data": {
            "text/html": [
              "<div>\n",
              "<style scoped>\n",
              "    .dataframe tbody tr th:only-of-type {\n",
              "        vertical-align: middle;\n",
              "    }\n",
              "\n",
              "    .dataframe tbody tr th {\n",
              "        vertical-align: top;\n",
              "    }\n",
              "\n",
              "    .dataframe thead th {\n",
              "        text-align: right;\n",
              "    }\n",
              "</style>\n",
              "<table border=\"1\" class=\"dataframe\">\n",
              "  <thead>\n",
              "    <tr style=\"text-align: right;\">\n",
              "      <th></th>\n",
              "      <th>id</th>\n",
              "      <th>is_cancelled</th>\n",
              "      <th>lead_time</th>\n",
              "      <th>arrival_week</th>\n",
              "      <th>duration</th>\n",
              "      <th>prev_cancel</th>\n",
              "      <th>booking_changes</th>\n",
              "      <th>waiting_period</th>\n",
              "      <th>per_Day_price</th>\n",
              "      <th>parking</th>\n",
              "      <th>special_request</th>\n",
              "    </tr>\n",
              "  </thead>\n",
              "  <tbody>\n",
              "    <tr>\n",
              "      <th>count</th>\n",
              "      <td>82584.000000</td>\n",
              "      <td>82584.000000</td>\n",
              "      <td>82584.000000</td>\n",
              "      <td>82584.000000</td>\n",
              "      <td>82584.000000</td>\n",
              "      <td>82584.000000</td>\n",
              "      <td>82584.000000</td>\n",
              "      <td>82584.000000</td>\n",
              "      <td>82584.000000</td>\n",
              "      <td>82584.000000</td>\n",
              "      <td>82584.000000</td>\n",
              "    </tr>\n",
              "    <tr>\n",
              "      <th>mean</th>\n",
              "      <td>41292.500000</td>\n",
              "      <td>0.531980</td>\n",
              "      <td>112.702594</td>\n",
              "      <td>28.183910</td>\n",
              "      <td>3.641722</td>\n",
              "      <td>0.119987</td>\n",
              "      <td>0.202557</td>\n",
              "      <td>3.044282</td>\n",
              "      <td>97.887379</td>\n",
              "      <td>0.071249</td>\n",
              "      <td>0.467282</td>\n",
              "    </tr>\n",
              "    <tr>\n",
              "      <th>std</th>\n",
              "      <td>23840.091653</td>\n",
              "      <td>0.498979</td>\n",
              "      <td>112.046011</td>\n",
              "      <td>13.722642</td>\n",
              "      <td>2.806403</td>\n",
              "      <td>1.008675</td>\n",
              "      <td>0.632728</td>\n",
              "      <td>20.308573</td>\n",
              "      <td>53.959556</td>\n",
              "      <td>0.261165</td>\n",
              "      <td>0.746202</td>\n",
              "    </tr>\n",
              "    <tr>\n",
              "      <th>min</th>\n",
              "      <td>1.000000</td>\n",
              "      <td>0.000000</td>\n",
              "      <td>0.000000</td>\n",
              "      <td>1.000000</td>\n",
              "      <td>0.000000</td>\n",
              "      <td>0.000000</td>\n",
              "      <td>0.000000</td>\n",
              "      <td>0.000000</td>\n",
              "      <td>-6.380000</td>\n",
              "      <td>0.000000</td>\n",
              "      <td>0.000000</td>\n",
              "    </tr>\n",
              "    <tr>\n",
              "      <th>25%</th>\n",
              "      <td>20646.750000</td>\n",
              "      <td>0.000000</td>\n",
              "      <td>21.000000</td>\n",
              "      <td>17.000000</td>\n",
              "      <td>2.000000</td>\n",
              "      <td>0.000000</td>\n",
              "      <td>0.000000</td>\n",
              "      <td>0.000000</td>\n",
              "      <td>62.000000</td>\n",
              "      <td>0.000000</td>\n",
              "      <td>0.000000</td>\n",
              "    </tr>\n",
              "    <tr>\n",
              "      <th>50%</th>\n",
              "      <td>41292.500000</td>\n",
              "      <td>1.000000</td>\n",
              "      <td>77.000000</td>\n",
              "      <td>29.000000</td>\n",
              "      <td>3.000000</td>\n",
              "      <td>0.000000</td>\n",
              "      <td>0.000000</td>\n",
              "      <td>0.000000</td>\n",
              "      <td>89.000000</td>\n",
              "      <td>0.000000</td>\n",
              "      <td>0.000000</td>\n",
              "    </tr>\n",
              "    <tr>\n",
              "      <th>75%</th>\n",
              "      <td>61938.250000</td>\n",
              "      <td>1.000000</td>\n",
              "      <td>174.000000</td>\n",
              "      <td>39.000000</td>\n",
              "      <td>4.000000</td>\n",
              "      <td>0.000000</td>\n",
              "      <td>0.000000</td>\n",
              "      <td>0.000000</td>\n",
              "      <td>120.700000</td>\n",
              "      <td>0.000000</td>\n",
              "      <td>1.000000</td>\n",
              "    </tr>\n",
              "    <tr>\n",
              "      <th>max</th>\n",
              "      <td>82584.000000</td>\n",
              "      <td>1.000000</td>\n",
              "      <td>737.000000</td>\n",
              "      <td>53.000000</td>\n",
              "      <td>69.000000</td>\n",
              "      <td>26.000000</td>\n",
              "      <td>20.000000</td>\n",
              "      <td>391.000000</td>\n",
              "      <td>5400.000000</td>\n",
              "      <td>8.000000</td>\n",
              "      <td>5.000000</td>\n",
              "    </tr>\n",
              "  </tbody>\n",
              "</table>\n",
              "</div>"
            ],
            "text/plain": [
              "                 id  is_cancelled     lead_time  arrival_week      duration  \\\n",
              "count  82584.000000  82584.000000  82584.000000  82584.000000  82584.000000   \n",
              "mean   41292.500000      0.531980    112.702594     28.183910      3.641722   \n",
              "std    23840.091653      0.498979    112.046011     13.722642      2.806403   \n",
              "min        1.000000      0.000000      0.000000      1.000000      0.000000   \n",
              "25%    20646.750000      0.000000     21.000000     17.000000      2.000000   \n",
              "50%    41292.500000      1.000000     77.000000     29.000000      3.000000   \n",
              "75%    61938.250000      1.000000    174.000000     39.000000      4.000000   \n",
              "max    82584.000000      1.000000    737.000000     53.000000     69.000000   \n",
              "\n",
              "        prev_cancel  booking_changes  waiting_period  per_Day_price  \\\n",
              "count  82584.000000     82584.000000    82584.000000   82584.000000   \n",
              "mean       0.119987         0.202557        3.044282      97.887379   \n",
              "std        1.008675         0.632728       20.308573      53.959556   \n",
              "min        0.000000         0.000000        0.000000      -6.380000   \n",
              "25%        0.000000         0.000000        0.000000      62.000000   \n",
              "50%        0.000000         0.000000        0.000000      89.000000   \n",
              "75%        0.000000         0.000000        0.000000     120.700000   \n",
              "max       26.000000        20.000000      391.000000    5400.000000   \n",
              "\n",
              "            parking  special_request  \n",
              "count  82584.000000     82584.000000  \n",
              "mean       0.071249         0.467282  \n",
              "std        0.261165         0.746202  \n",
              "min        0.000000         0.000000  \n",
              "25%        0.000000         0.000000  \n",
              "50%        0.000000         0.000000  \n",
              "75%        0.000000         1.000000  \n",
              "max        8.000000         5.000000  "
            ]
          },
          "metadata": {
            "tags": []
          },
          "execution_count": 6
        }
      ]
    },
    {
      "cell_type": "code",
      "metadata": {
        "colab": {
          "base_uri": "https://localhost:8080/"
        },
        "id": "BSK-pacSvCF4",
        "outputId": "72dba7ef-6d3b-452b-cb57-04c813a486bd"
      },
      "source": [
        "#based on this information, there is no missing data; so, no need to worry about the filling the missing data\n",
        "data.info()"
      ],
      "execution_count": 7,
      "outputs": [
        {
          "output_type": "stream",
          "text": [
            "<class 'pandas.core.frame.DataFrame'>\n",
            "RangeIndex: 82584 entries, 0 to 82583\n",
            "Data columns (total 14 columns):\n",
            " #   Column           Non-Null Count  Dtype  \n",
            "---  ------           --------------  -----  \n",
            " 0   id               82584 non-null  int64  \n",
            " 1   is_cancelled     82584 non-null  int64  \n",
            " 2   lead_time        82584 non-null  int64  \n",
            " 3   arrival_week     82584 non-null  int64  \n",
            " 4   duration         82584 non-null  int64  \n",
            " 5   segment          82584 non-null  object \n",
            " 6   prev_cancel      82584 non-null  int64  \n",
            " 7   booking_changes  82584 non-null  int64  \n",
            " 8   deposit          82584 non-null  object \n",
            " 9   waiting_period   82584 non-null  int64  \n",
            " 10  per_Day_price    82584 non-null  float64\n",
            " 11  parking          82584 non-null  int64  \n",
            " 12  special_request  82584 non-null  int64  \n",
            " 13  cust_type        82584 non-null  object \n",
            "dtypes: float64(1), int64(10), object(3)\n",
            "memory usage: 8.8+ MB\n"
          ],
          "name": "stdout"
        }
      ]
    },
    {
      "cell_type": "code",
      "metadata": {
        "id": "JtGhmElGvKJE"
      },
      "source": [
        "#while convert the categorical varibles into Numerical varialble, noticed an issue in the data \n",
        "#data has spaces in the trailing end and that makes the column names with trailing spaces\n",
        "\n",
        "data[\"deposit2\"] = data[\"deposit\"].map(lambda x : x.strip())\n",
        "data[\"cust_type2\"] = data[\"cust_type\"].map(lambda x : x.strip())\n",
        "data[\"segment2\"] = data[\"segment\"].map(lambda x : x.strip())"
      ],
      "execution_count": 9,
      "outputs": []
    },
    {
      "cell_type": "code",
      "metadata": {
        "colab": {
          "base_uri": "https://localhost:8080/",
          "height": 194
        },
        "id": "BA3oWl6cvKLZ",
        "outputId": "e404e636-fadd-4b32-fa8a-7af8ff158e94"
      },
      "source": [
        "data.head()"
      ],
      "execution_count": 10,
      "outputs": [
        {
          "output_type": "execute_result",
          "data": {
            "text/html": [
              "<div>\n",
              "<style scoped>\n",
              "    .dataframe tbody tr th:only-of-type {\n",
              "        vertical-align: middle;\n",
              "    }\n",
              "\n",
              "    .dataframe tbody tr th {\n",
              "        vertical-align: top;\n",
              "    }\n",
              "\n",
              "    .dataframe thead th {\n",
              "        text-align: right;\n",
              "    }\n",
              "</style>\n",
              "<table border=\"1\" class=\"dataframe\">\n",
              "  <thead>\n",
              "    <tr style=\"text-align: right;\">\n",
              "      <th></th>\n",
              "      <th>id</th>\n",
              "      <th>is_cancelled</th>\n",
              "      <th>lead_time</th>\n",
              "      <th>arrival_week</th>\n",
              "      <th>duration</th>\n",
              "      <th>segment</th>\n",
              "      <th>prev_cancel</th>\n",
              "      <th>booking_changes</th>\n",
              "      <th>deposit</th>\n",
              "      <th>waiting_period</th>\n",
              "      <th>per_Day_price</th>\n",
              "      <th>parking</th>\n",
              "      <th>special_request</th>\n",
              "      <th>cust_type</th>\n",
              "      <th>deposit2</th>\n",
              "      <th>cust_type2</th>\n",
              "      <th>segment2</th>\n",
              "    </tr>\n",
              "  </thead>\n",
              "  <tbody>\n",
              "    <tr>\n",
              "      <th>0</th>\n",
              "      <td>1</td>\n",
              "      <td>0</td>\n",
              "      <td>342</td>\n",
              "      <td>27</td>\n",
              "      <td>0</td>\n",
              "      <td>Direct</td>\n",
              "      <td>0</td>\n",
              "      <td>3</td>\n",
              "      <td>No Deposit</td>\n",
              "      <td>0</td>\n",
              "      <td>0.0</td>\n",
              "      <td>0</td>\n",
              "      <td>0</td>\n",
              "      <td>Transient</td>\n",
              "      <td>No Deposit</td>\n",
              "      <td>Transient</td>\n",
              "      <td>Direct</td>\n",
              "    </tr>\n",
              "    <tr>\n",
              "      <th>1</th>\n",
              "      <td>2</td>\n",
              "      <td>0</td>\n",
              "      <td>737</td>\n",
              "      <td>27</td>\n",
              "      <td>0</td>\n",
              "      <td>Direct</td>\n",
              "      <td>0</td>\n",
              "      <td>4</td>\n",
              "      <td>No Deposit</td>\n",
              "      <td>0</td>\n",
              "      <td>0.0</td>\n",
              "      <td>0</td>\n",
              "      <td>0</td>\n",
              "      <td>Transient</td>\n",
              "      <td>No Deposit</td>\n",
              "      <td>Transient</td>\n",
              "      <td>Direct</td>\n",
              "    </tr>\n",
              "    <tr>\n",
              "      <th>2</th>\n",
              "      <td>3</td>\n",
              "      <td>0</td>\n",
              "      <td>7</td>\n",
              "      <td>27</td>\n",
              "      <td>1</td>\n",
              "      <td>Direct</td>\n",
              "      <td>0</td>\n",
              "      <td>0</td>\n",
              "      <td>No Deposit</td>\n",
              "      <td>0</td>\n",
              "      <td>75.0</td>\n",
              "      <td>0</td>\n",
              "      <td>0</td>\n",
              "      <td>Transient</td>\n",
              "      <td>No Deposit</td>\n",
              "      <td>Transient</td>\n",
              "      <td>Direct</td>\n",
              "    </tr>\n",
              "    <tr>\n",
              "      <th>3</th>\n",
              "      <td>4</td>\n",
              "      <td>0</td>\n",
              "      <td>13</td>\n",
              "      <td>27</td>\n",
              "      <td>1</td>\n",
              "      <td>Corporate</td>\n",
              "      <td>0</td>\n",
              "      <td>0</td>\n",
              "      <td>No Deposit</td>\n",
              "      <td>0</td>\n",
              "      <td>75.0</td>\n",
              "      <td>0</td>\n",
              "      <td>0</td>\n",
              "      <td>Transient</td>\n",
              "      <td>No Deposit</td>\n",
              "      <td>Transient</td>\n",
              "      <td>Corporate</td>\n",
              "    </tr>\n",
              "    <tr>\n",
              "      <th>4</th>\n",
              "      <td>5</td>\n",
              "      <td>0</td>\n",
              "      <td>14</td>\n",
              "      <td>27</td>\n",
              "      <td>2</td>\n",
              "      <td>Online TA</td>\n",
              "      <td>0</td>\n",
              "      <td>0</td>\n",
              "      <td>No Deposit</td>\n",
              "      <td>0</td>\n",
              "      <td>98.0</td>\n",
              "      <td>0</td>\n",
              "      <td>1</td>\n",
              "      <td>Transient</td>\n",
              "      <td>No Deposit</td>\n",
              "      <td>Transient</td>\n",
              "      <td>Online TA</td>\n",
              "    </tr>\n",
              "  </tbody>\n",
              "</table>\n",
              "</div>"
            ],
            "text/plain": [
              "   id  is_cancelled  lead_time  arrival_week  duration    segment  \\\n",
              "0   1             0        342            27         0     Direct   \n",
              "1   2             0        737            27         0     Direct   \n",
              "2   3             0          7            27         1     Direct   \n",
              "3   4             0         13            27         1  Corporate   \n",
              "4   5             0         14            27         2  Online TA   \n",
              "\n",
              "   prev_cancel  booking_changes     deposit  waiting_period  per_Day_price  \\\n",
              "0            0                3  No Deposit               0            0.0   \n",
              "1            0                4  No Deposit               0            0.0   \n",
              "2            0                0  No Deposit               0           75.0   \n",
              "3            0                0  No Deposit               0           75.0   \n",
              "4            0                0  No Deposit               0           98.0   \n",
              "\n",
              "   parking  special_request  cust_type    deposit2 cust_type2   segment2  \n",
              "0        0                0  Transient  No Deposit  Transient     Direct  \n",
              "1        0                0  Transient  No Deposit  Transient     Direct  \n",
              "2        0                0  Transient  No Deposit  Transient     Direct  \n",
              "3        0                0  Transient  No Deposit  Transient  Corporate  \n",
              "4        0                1  Transient  No Deposit  Transient  Online TA  "
            ]
          },
          "metadata": {
            "tags": []
          },
          "execution_count": 10
        }
      ]
    },
    {
      "cell_type": "code",
      "metadata": {
        "id": "FOXqY3UGvKN2"
      },
      "source": [
        " # Visualization, Modeling, Machine Learning"
      ],
      "execution_count": null,
      "outputs": []
    },
    {
      "cell_type": "code",
      "metadata": {
        "colab": {
          "base_uri": "https://localhost:8080/"
        },
        "id": "IqlLHhcHwBZI",
        "outputId": "a99adb3e-ea3a-4874-de6d-9d4eea948902"
      },
      "source": [
        "data.is_cancelled.value_counts()"
      ],
      "execution_count": 11,
      "outputs": [
        {
          "output_type": "execute_result",
          "data": {
            "text/plain": [
              "1    43933\n",
              "0    38651\n",
              "Name: is_cancelled, dtype: int64"
            ]
          },
          "metadata": {
            "tags": []
          },
          "execution_count": 11
        }
      ]
    },
    {
      "cell_type": "code",
      "metadata": {
        "colab": {
          "base_uri": "https://localhost:8080/"
        },
        "id": "B9DQXAZKwBbn",
        "outputId": "2ebd1510-9f67-4bb6-d6af-54060b2d2449"
      },
      "source": [
        "data.segment.value_counts()"
      ],
      "execution_count": 12,
      "outputs": [
        {
          "output_type": "execute_result",
          "data": {
            "text/plain": [
              "Online TA        35555\n",
              "Groups           17245\n",
              "Offline TA/TO    17044\n",
              "Direct            8506\n",
              "Corporate         3718\n",
              "Complementary      473\n",
              "Aviation            41\n",
              "Undefined            2\n",
              "Name: segment, dtype: int64"
            ]
          },
          "metadata": {
            "tags": []
          },
          "execution_count": 12
        }
      ]
    },
    {
      "cell_type": "code",
      "metadata": {
        "colab": {
          "base_uri": "https://localhost:8080/"
        },
        "id": "9r79AbU_wBeI",
        "outputId": "0487b5b5-82b4-44f1-f023-3516166c785f"
      },
      "source": [
        "data.deposit.value_counts()"
      ],
      "execution_count": 13,
      "outputs": [
        {
          "output_type": "execute_result",
          "data": {
            "text/plain": [
              "No Deposit    68045\n",
              "Non Refund    14380\n",
              "Refundable      159\n",
              "Name: deposit, dtype: int64"
            ]
          },
          "metadata": {
            "tags": []
          },
          "execution_count": 13
        }
      ]
    },
    {
      "cell_type": "code",
      "metadata": {
        "colab": {
          "base_uri": "https://localhost:8080/"
        },
        "id": "U_BfB8Y2wBgi",
        "outputId": "0b77c61f-570f-48a4-85ea-a1191b5d8c7c"
      },
      "source": [
        "data.cust_type.value_counts()"
      ],
      "execution_count": 14,
      "outputs": [
        {
          "output_type": "execute_result",
          "data": {
            "text/plain": [
              "Transient          61214\n",
              "Transient-Party    16977\n",
              "Contract            3946\n",
              "Group                446\n",
              "Tran                   1\n",
              "Name: cust_type, dtype: int64"
            ]
          },
          "metadata": {
            "tags": []
          },
          "execution_count": 14
        }
      ]
    },
    {
      "cell_type": "code",
      "metadata": {
        "colab": {
          "base_uri": "https://localhost:8080/",
          "height": 315
        },
        "id": "u0SEQ5pkz9to",
        "outputId": "1339f0f3-c1a3-48b2-dd88-73476acd3142"
      },
      "source": [
        "#Before generate the the corelation matrix, the categorical variables needs to be converted into Numertical variables\n",
        "\n",
        "#******************************************\n",
        "# *** 1 hot encoding is being used here ***\n",
        "#******************************************\n",
        "\n",
        "#1 segment\n",
        "data_seg = data[\"segment2\"]\n",
        "\n",
        "dum_df1 = pd.get_dummies(data_seg, columns=[\"segment2\"], prefix=\"seg\")\n",
        "dum_df1.head(10)\n",
        "\n",
        "#add these features into the main training df\n",
        "data = data.join(dum_df1)\n",
        "\n",
        "data.head()"
      ],
      "execution_count": 15,
      "outputs": [
        {
          "output_type": "execute_result",
          "data": {
            "text/html": [
              "<div>\n",
              "<style scoped>\n",
              "    .dataframe tbody tr th:only-of-type {\n",
              "        vertical-align: middle;\n",
              "    }\n",
              "\n",
              "    .dataframe tbody tr th {\n",
              "        vertical-align: top;\n",
              "    }\n",
              "\n",
              "    .dataframe thead th {\n",
              "        text-align: right;\n",
              "    }\n",
              "</style>\n",
              "<table border=\"1\" class=\"dataframe\">\n",
              "  <thead>\n",
              "    <tr style=\"text-align: right;\">\n",
              "      <th></th>\n",
              "      <th>id</th>\n",
              "      <th>is_cancelled</th>\n",
              "      <th>lead_time</th>\n",
              "      <th>arrival_week</th>\n",
              "      <th>duration</th>\n",
              "      <th>segment</th>\n",
              "      <th>prev_cancel</th>\n",
              "      <th>booking_changes</th>\n",
              "      <th>deposit</th>\n",
              "      <th>waiting_period</th>\n",
              "      <th>per_Day_price</th>\n",
              "      <th>parking</th>\n",
              "      <th>special_request</th>\n",
              "      <th>cust_type</th>\n",
              "      <th>deposit2</th>\n",
              "      <th>cust_type2</th>\n",
              "      <th>segment2</th>\n",
              "      <th>seg_Aviation</th>\n",
              "      <th>seg_Complementary</th>\n",
              "      <th>seg_Corporate</th>\n",
              "      <th>seg_Direct</th>\n",
              "      <th>seg_Groups</th>\n",
              "      <th>seg_Offline TA/TO</th>\n",
              "      <th>seg_Online TA</th>\n",
              "      <th>seg_Undefined</th>\n",
              "    </tr>\n",
              "  </thead>\n",
              "  <tbody>\n",
              "    <tr>\n",
              "      <th>0</th>\n",
              "      <td>1</td>\n",
              "      <td>0</td>\n",
              "      <td>342</td>\n",
              "      <td>27</td>\n",
              "      <td>0</td>\n",
              "      <td>Direct</td>\n",
              "      <td>0</td>\n",
              "      <td>3</td>\n",
              "      <td>No Deposit</td>\n",
              "      <td>0</td>\n",
              "      <td>0.0</td>\n",
              "      <td>0</td>\n",
              "      <td>0</td>\n",
              "      <td>Transient</td>\n",
              "      <td>No Deposit</td>\n",
              "      <td>Transient</td>\n",
              "      <td>Direct</td>\n",
              "      <td>0</td>\n",
              "      <td>0</td>\n",
              "      <td>0</td>\n",
              "      <td>1</td>\n",
              "      <td>0</td>\n",
              "      <td>0</td>\n",
              "      <td>0</td>\n",
              "      <td>0</td>\n",
              "    </tr>\n",
              "    <tr>\n",
              "      <th>1</th>\n",
              "      <td>2</td>\n",
              "      <td>0</td>\n",
              "      <td>737</td>\n",
              "      <td>27</td>\n",
              "      <td>0</td>\n",
              "      <td>Direct</td>\n",
              "      <td>0</td>\n",
              "      <td>4</td>\n",
              "      <td>No Deposit</td>\n",
              "      <td>0</td>\n",
              "      <td>0.0</td>\n",
              "      <td>0</td>\n",
              "      <td>0</td>\n",
              "      <td>Transient</td>\n",
              "      <td>No Deposit</td>\n",
              "      <td>Transient</td>\n",
              "      <td>Direct</td>\n",
              "      <td>0</td>\n",
              "      <td>0</td>\n",
              "      <td>0</td>\n",
              "      <td>1</td>\n",
              "      <td>0</td>\n",
              "      <td>0</td>\n",
              "      <td>0</td>\n",
              "      <td>0</td>\n",
              "    </tr>\n",
              "    <tr>\n",
              "      <th>2</th>\n",
              "      <td>3</td>\n",
              "      <td>0</td>\n",
              "      <td>7</td>\n",
              "      <td>27</td>\n",
              "      <td>1</td>\n",
              "      <td>Direct</td>\n",
              "      <td>0</td>\n",
              "      <td>0</td>\n",
              "      <td>No Deposit</td>\n",
              "      <td>0</td>\n",
              "      <td>75.0</td>\n",
              "      <td>0</td>\n",
              "      <td>0</td>\n",
              "      <td>Transient</td>\n",
              "      <td>No Deposit</td>\n",
              "      <td>Transient</td>\n",
              "      <td>Direct</td>\n",
              "      <td>0</td>\n",
              "      <td>0</td>\n",
              "      <td>0</td>\n",
              "      <td>1</td>\n",
              "      <td>0</td>\n",
              "      <td>0</td>\n",
              "      <td>0</td>\n",
              "      <td>0</td>\n",
              "    </tr>\n",
              "    <tr>\n",
              "      <th>3</th>\n",
              "      <td>4</td>\n",
              "      <td>0</td>\n",
              "      <td>13</td>\n",
              "      <td>27</td>\n",
              "      <td>1</td>\n",
              "      <td>Corporate</td>\n",
              "      <td>0</td>\n",
              "      <td>0</td>\n",
              "      <td>No Deposit</td>\n",
              "      <td>0</td>\n",
              "      <td>75.0</td>\n",
              "      <td>0</td>\n",
              "      <td>0</td>\n",
              "      <td>Transient</td>\n",
              "      <td>No Deposit</td>\n",
              "      <td>Transient</td>\n",
              "      <td>Corporate</td>\n",
              "      <td>0</td>\n",
              "      <td>0</td>\n",
              "      <td>1</td>\n",
              "      <td>0</td>\n",
              "      <td>0</td>\n",
              "      <td>0</td>\n",
              "      <td>0</td>\n",
              "      <td>0</td>\n",
              "    </tr>\n",
              "    <tr>\n",
              "      <th>4</th>\n",
              "      <td>5</td>\n",
              "      <td>0</td>\n",
              "      <td>14</td>\n",
              "      <td>27</td>\n",
              "      <td>2</td>\n",
              "      <td>Online TA</td>\n",
              "      <td>0</td>\n",
              "      <td>0</td>\n",
              "      <td>No Deposit</td>\n",
              "      <td>0</td>\n",
              "      <td>98.0</td>\n",
              "      <td>0</td>\n",
              "      <td>1</td>\n",
              "      <td>Transient</td>\n",
              "      <td>No Deposit</td>\n",
              "      <td>Transient</td>\n",
              "      <td>Online TA</td>\n",
              "      <td>0</td>\n",
              "      <td>0</td>\n",
              "      <td>0</td>\n",
              "      <td>0</td>\n",
              "      <td>0</td>\n",
              "      <td>0</td>\n",
              "      <td>1</td>\n",
              "      <td>0</td>\n",
              "    </tr>\n",
              "  </tbody>\n",
              "</table>\n",
              "</div>"
            ],
            "text/plain": [
              "   id  is_cancelled  lead_time  arrival_week  duration    segment  \\\n",
              "0   1             0        342            27         0     Direct   \n",
              "1   2             0        737            27         0     Direct   \n",
              "2   3             0          7            27         1     Direct   \n",
              "3   4             0         13            27         1  Corporate   \n",
              "4   5             0         14            27         2  Online TA   \n",
              "\n",
              "   prev_cancel  booking_changes     deposit  waiting_period  per_Day_price  \\\n",
              "0            0                3  No Deposit               0            0.0   \n",
              "1            0                4  No Deposit               0            0.0   \n",
              "2            0                0  No Deposit               0           75.0   \n",
              "3            0                0  No Deposit               0           75.0   \n",
              "4            0                0  No Deposit               0           98.0   \n",
              "\n",
              "   parking  special_request  cust_type    deposit2 cust_type2   segment2  \\\n",
              "0        0                0  Transient  No Deposit  Transient     Direct   \n",
              "1        0                0  Transient  No Deposit  Transient     Direct   \n",
              "2        0                0  Transient  No Deposit  Transient     Direct   \n",
              "3        0                0  Transient  No Deposit  Transient  Corporate   \n",
              "4        0                1  Transient  No Deposit  Transient  Online TA   \n",
              "\n",
              "   seg_Aviation  seg_Complementary  seg_Corporate  seg_Direct  seg_Groups  \\\n",
              "0             0                  0              0           1           0   \n",
              "1             0                  0              0           1           0   \n",
              "2             0                  0              0           1           0   \n",
              "3             0                  0              1           0           0   \n",
              "4             0                  0              0           0           0   \n",
              "\n",
              "   seg_Offline TA/TO  seg_Online TA  seg_Undefined  \n",
              "0                  0              0              0  \n",
              "1                  0              0              0  \n",
              "2                  0              0              0  \n",
              "3                  0              0              0  \n",
              "4                  0              1              0  "
            ]
          },
          "metadata": {
            "tags": []
          },
          "execution_count": 15
        }
      ]
    },
    {
      "cell_type": "code",
      "metadata": {
        "colab": {
          "base_uri": "https://localhost:8080/",
          "height": 315
        },
        "id": "2sAK91Qq0JUk",
        "outputId": "67972c3b-6006-4cbb-fea3-0fbc72162a31"
      },
      "source": [
        "#2 cust_type (use the second column with he the spaces at the end gor trimmed)\n",
        "data_ctyp = data[\"cust_type2\"]\n",
        "\n",
        "dum_df2 = pd.get_dummies(data_ctyp, columns=[\"cust_type2\"], prefix=\"ctyp\")\n",
        "dum_df2.head(10)\n",
        "\n",
        "#add these features into the main training df\n",
        "data = data.join(dum_df2)\n",
        "\n",
        "data.head()"
      ],
      "execution_count": 16,
      "outputs": [
        {
          "output_type": "execute_result",
          "data": {
            "text/html": [
              "<div>\n",
              "<style scoped>\n",
              "    .dataframe tbody tr th:only-of-type {\n",
              "        vertical-align: middle;\n",
              "    }\n",
              "\n",
              "    .dataframe tbody tr th {\n",
              "        vertical-align: top;\n",
              "    }\n",
              "\n",
              "    .dataframe thead th {\n",
              "        text-align: right;\n",
              "    }\n",
              "</style>\n",
              "<table border=\"1\" class=\"dataframe\">\n",
              "  <thead>\n",
              "    <tr style=\"text-align: right;\">\n",
              "      <th></th>\n",
              "      <th>id</th>\n",
              "      <th>is_cancelled</th>\n",
              "      <th>lead_time</th>\n",
              "      <th>arrival_week</th>\n",
              "      <th>duration</th>\n",
              "      <th>segment</th>\n",
              "      <th>prev_cancel</th>\n",
              "      <th>booking_changes</th>\n",
              "      <th>deposit</th>\n",
              "      <th>waiting_period</th>\n",
              "      <th>per_Day_price</th>\n",
              "      <th>parking</th>\n",
              "      <th>special_request</th>\n",
              "      <th>cust_type</th>\n",
              "      <th>deposit2</th>\n",
              "      <th>cust_type2</th>\n",
              "      <th>segment2</th>\n",
              "      <th>seg_Aviation</th>\n",
              "      <th>seg_Complementary</th>\n",
              "      <th>seg_Corporate</th>\n",
              "      <th>seg_Direct</th>\n",
              "      <th>seg_Groups</th>\n",
              "      <th>seg_Offline TA/TO</th>\n",
              "      <th>seg_Online TA</th>\n",
              "      <th>seg_Undefined</th>\n",
              "      <th>ctyp_Contract</th>\n",
              "      <th>ctyp_Group</th>\n",
              "      <th>ctyp_Tran</th>\n",
              "      <th>ctyp_Transient</th>\n",
              "      <th>ctyp_Transient-Party</th>\n",
              "    </tr>\n",
              "  </thead>\n",
              "  <tbody>\n",
              "    <tr>\n",
              "      <th>0</th>\n",
              "      <td>1</td>\n",
              "      <td>0</td>\n",
              "      <td>342</td>\n",
              "      <td>27</td>\n",
              "      <td>0</td>\n",
              "      <td>Direct</td>\n",
              "      <td>0</td>\n",
              "      <td>3</td>\n",
              "      <td>No Deposit</td>\n",
              "      <td>0</td>\n",
              "      <td>0.0</td>\n",
              "      <td>0</td>\n",
              "      <td>0</td>\n",
              "      <td>Transient</td>\n",
              "      <td>No Deposit</td>\n",
              "      <td>Transient</td>\n",
              "      <td>Direct</td>\n",
              "      <td>0</td>\n",
              "      <td>0</td>\n",
              "      <td>0</td>\n",
              "      <td>1</td>\n",
              "      <td>0</td>\n",
              "      <td>0</td>\n",
              "      <td>0</td>\n",
              "      <td>0</td>\n",
              "      <td>0</td>\n",
              "      <td>0</td>\n",
              "      <td>0</td>\n",
              "      <td>1</td>\n",
              "      <td>0</td>\n",
              "    </tr>\n",
              "    <tr>\n",
              "      <th>1</th>\n",
              "      <td>2</td>\n",
              "      <td>0</td>\n",
              "      <td>737</td>\n",
              "      <td>27</td>\n",
              "      <td>0</td>\n",
              "      <td>Direct</td>\n",
              "      <td>0</td>\n",
              "      <td>4</td>\n",
              "      <td>No Deposit</td>\n",
              "      <td>0</td>\n",
              "      <td>0.0</td>\n",
              "      <td>0</td>\n",
              "      <td>0</td>\n",
              "      <td>Transient</td>\n",
              "      <td>No Deposit</td>\n",
              "      <td>Transient</td>\n",
              "      <td>Direct</td>\n",
              "      <td>0</td>\n",
              "      <td>0</td>\n",
              "      <td>0</td>\n",
              "      <td>1</td>\n",
              "      <td>0</td>\n",
              "      <td>0</td>\n",
              "      <td>0</td>\n",
              "      <td>0</td>\n",
              "      <td>0</td>\n",
              "      <td>0</td>\n",
              "      <td>0</td>\n",
              "      <td>1</td>\n",
              "      <td>0</td>\n",
              "    </tr>\n",
              "    <tr>\n",
              "      <th>2</th>\n",
              "      <td>3</td>\n",
              "      <td>0</td>\n",
              "      <td>7</td>\n",
              "      <td>27</td>\n",
              "      <td>1</td>\n",
              "      <td>Direct</td>\n",
              "      <td>0</td>\n",
              "      <td>0</td>\n",
              "      <td>No Deposit</td>\n",
              "      <td>0</td>\n",
              "      <td>75.0</td>\n",
              "      <td>0</td>\n",
              "      <td>0</td>\n",
              "      <td>Transient</td>\n",
              "      <td>No Deposit</td>\n",
              "      <td>Transient</td>\n",
              "      <td>Direct</td>\n",
              "      <td>0</td>\n",
              "      <td>0</td>\n",
              "      <td>0</td>\n",
              "      <td>1</td>\n",
              "      <td>0</td>\n",
              "      <td>0</td>\n",
              "      <td>0</td>\n",
              "      <td>0</td>\n",
              "      <td>0</td>\n",
              "      <td>0</td>\n",
              "      <td>0</td>\n",
              "      <td>1</td>\n",
              "      <td>0</td>\n",
              "    </tr>\n",
              "    <tr>\n",
              "      <th>3</th>\n",
              "      <td>4</td>\n",
              "      <td>0</td>\n",
              "      <td>13</td>\n",
              "      <td>27</td>\n",
              "      <td>1</td>\n",
              "      <td>Corporate</td>\n",
              "      <td>0</td>\n",
              "      <td>0</td>\n",
              "      <td>No Deposit</td>\n",
              "      <td>0</td>\n",
              "      <td>75.0</td>\n",
              "      <td>0</td>\n",
              "      <td>0</td>\n",
              "      <td>Transient</td>\n",
              "      <td>No Deposit</td>\n",
              "      <td>Transient</td>\n",
              "      <td>Corporate</td>\n",
              "      <td>0</td>\n",
              "      <td>0</td>\n",
              "      <td>1</td>\n",
              "      <td>0</td>\n",
              "      <td>0</td>\n",
              "      <td>0</td>\n",
              "      <td>0</td>\n",
              "      <td>0</td>\n",
              "      <td>0</td>\n",
              "      <td>0</td>\n",
              "      <td>0</td>\n",
              "      <td>1</td>\n",
              "      <td>0</td>\n",
              "    </tr>\n",
              "    <tr>\n",
              "      <th>4</th>\n",
              "      <td>5</td>\n",
              "      <td>0</td>\n",
              "      <td>14</td>\n",
              "      <td>27</td>\n",
              "      <td>2</td>\n",
              "      <td>Online TA</td>\n",
              "      <td>0</td>\n",
              "      <td>0</td>\n",
              "      <td>No Deposit</td>\n",
              "      <td>0</td>\n",
              "      <td>98.0</td>\n",
              "      <td>0</td>\n",
              "      <td>1</td>\n",
              "      <td>Transient</td>\n",
              "      <td>No Deposit</td>\n",
              "      <td>Transient</td>\n",
              "      <td>Online TA</td>\n",
              "      <td>0</td>\n",
              "      <td>0</td>\n",
              "      <td>0</td>\n",
              "      <td>0</td>\n",
              "      <td>0</td>\n",
              "      <td>0</td>\n",
              "      <td>1</td>\n",
              "      <td>0</td>\n",
              "      <td>0</td>\n",
              "      <td>0</td>\n",
              "      <td>0</td>\n",
              "      <td>1</td>\n",
              "      <td>0</td>\n",
              "    </tr>\n",
              "  </tbody>\n",
              "</table>\n",
              "</div>"
            ],
            "text/plain": [
              "   id  is_cancelled  lead_time  arrival_week  duration    segment  \\\n",
              "0   1             0        342            27         0     Direct   \n",
              "1   2             0        737            27         0     Direct   \n",
              "2   3             0          7            27         1     Direct   \n",
              "3   4             0         13            27         1  Corporate   \n",
              "4   5             0         14            27         2  Online TA   \n",
              "\n",
              "   prev_cancel  booking_changes     deposit  waiting_period  per_Day_price  \\\n",
              "0            0                3  No Deposit               0            0.0   \n",
              "1            0                4  No Deposit               0            0.0   \n",
              "2            0                0  No Deposit               0           75.0   \n",
              "3            0                0  No Deposit               0           75.0   \n",
              "4            0                0  No Deposit               0           98.0   \n",
              "\n",
              "   parking  special_request  cust_type    deposit2 cust_type2   segment2  \\\n",
              "0        0                0  Transient  No Deposit  Transient     Direct   \n",
              "1        0                0  Transient  No Deposit  Transient     Direct   \n",
              "2        0                0  Transient  No Deposit  Transient     Direct   \n",
              "3        0                0  Transient  No Deposit  Transient  Corporate   \n",
              "4        0                1  Transient  No Deposit  Transient  Online TA   \n",
              "\n",
              "   seg_Aviation  seg_Complementary  seg_Corporate  seg_Direct  seg_Groups  \\\n",
              "0             0                  0              0           1           0   \n",
              "1             0                  0              0           1           0   \n",
              "2             0                  0              0           1           0   \n",
              "3             0                  0              1           0           0   \n",
              "4             0                  0              0           0           0   \n",
              "\n",
              "   seg_Offline TA/TO  seg_Online TA  seg_Undefined  ctyp_Contract  ctyp_Group  \\\n",
              "0                  0              0              0              0           0   \n",
              "1                  0              0              0              0           0   \n",
              "2                  0              0              0              0           0   \n",
              "3                  0              0              0              0           0   \n",
              "4                  0              1              0              0           0   \n",
              "\n",
              "   ctyp_Tran  ctyp_Transient  ctyp_Transient-Party  \n",
              "0          0               1                     0  \n",
              "1          0               1                     0  \n",
              "2          0               1                     0  \n",
              "3          0               1                     0  \n",
              "4          0               1                     0  "
            ]
          },
          "metadata": {
            "tags": []
          },
          "execution_count": 16
        }
      ]
    },
    {
      "cell_type": "code",
      "metadata": {
        "colab": {
          "base_uri": "https://localhost:8080/",
          "height": 315
        },
        "id": "l_HvtEQl0JXd",
        "outputId": "75c0ef0d-0f91-400c-9020-4d57fed0758b"
      },
      "source": [
        "#3 deposit (use the second column with he the spaces at the end gor trimmed)\n",
        "data_dep = data[\"deposit2\"]\n",
        "\n",
        "dum_df3 = pd.get_dummies(data_dep, columns=[\"deposit2\"], prefix=\"dep\")\n",
        "dum_df3.head(10)\n",
        "\n",
        "#add these features into the main training df\n",
        "data = data.join(dum_df3)\n",
        "\n",
        "data.head()"
      ],
      "execution_count": 17,
      "outputs": [
        {
          "output_type": "execute_result",
          "data": {
            "text/html": [
              "<div>\n",
              "<style scoped>\n",
              "    .dataframe tbody tr th:only-of-type {\n",
              "        vertical-align: middle;\n",
              "    }\n",
              "\n",
              "    .dataframe tbody tr th {\n",
              "        vertical-align: top;\n",
              "    }\n",
              "\n",
              "    .dataframe thead th {\n",
              "        text-align: right;\n",
              "    }\n",
              "</style>\n",
              "<table border=\"1\" class=\"dataframe\">\n",
              "  <thead>\n",
              "    <tr style=\"text-align: right;\">\n",
              "      <th></th>\n",
              "      <th>id</th>\n",
              "      <th>is_cancelled</th>\n",
              "      <th>lead_time</th>\n",
              "      <th>arrival_week</th>\n",
              "      <th>duration</th>\n",
              "      <th>segment</th>\n",
              "      <th>prev_cancel</th>\n",
              "      <th>booking_changes</th>\n",
              "      <th>deposit</th>\n",
              "      <th>waiting_period</th>\n",
              "      <th>per_Day_price</th>\n",
              "      <th>parking</th>\n",
              "      <th>special_request</th>\n",
              "      <th>cust_type</th>\n",
              "      <th>deposit2</th>\n",
              "      <th>cust_type2</th>\n",
              "      <th>segment2</th>\n",
              "      <th>seg_Aviation</th>\n",
              "      <th>seg_Complementary</th>\n",
              "      <th>seg_Corporate</th>\n",
              "      <th>seg_Direct</th>\n",
              "      <th>seg_Groups</th>\n",
              "      <th>seg_Offline TA/TO</th>\n",
              "      <th>seg_Online TA</th>\n",
              "      <th>seg_Undefined</th>\n",
              "      <th>ctyp_Contract</th>\n",
              "      <th>ctyp_Group</th>\n",
              "      <th>ctyp_Tran</th>\n",
              "      <th>ctyp_Transient</th>\n",
              "      <th>ctyp_Transient-Party</th>\n",
              "      <th>dep_No Deposit</th>\n",
              "      <th>dep_Non Refund</th>\n",
              "      <th>dep_Refundable</th>\n",
              "    </tr>\n",
              "  </thead>\n",
              "  <tbody>\n",
              "    <tr>\n",
              "      <th>0</th>\n",
              "      <td>1</td>\n",
              "      <td>0</td>\n",
              "      <td>342</td>\n",
              "      <td>27</td>\n",
              "      <td>0</td>\n",
              "      <td>Direct</td>\n",
              "      <td>0</td>\n",
              "      <td>3</td>\n",
              "      <td>No Deposit</td>\n",
              "      <td>0</td>\n",
              "      <td>0.0</td>\n",
              "      <td>0</td>\n",
              "      <td>0</td>\n",
              "      <td>Transient</td>\n",
              "      <td>No Deposit</td>\n",
              "      <td>Transient</td>\n",
              "      <td>Direct</td>\n",
              "      <td>0</td>\n",
              "      <td>0</td>\n",
              "      <td>0</td>\n",
              "      <td>1</td>\n",
              "      <td>0</td>\n",
              "      <td>0</td>\n",
              "      <td>0</td>\n",
              "      <td>0</td>\n",
              "      <td>0</td>\n",
              "      <td>0</td>\n",
              "      <td>0</td>\n",
              "      <td>1</td>\n",
              "      <td>0</td>\n",
              "      <td>1</td>\n",
              "      <td>0</td>\n",
              "      <td>0</td>\n",
              "    </tr>\n",
              "    <tr>\n",
              "      <th>1</th>\n",
              "      <td>2</td>\n",
              "      <td>0</td>\n",
              "      <td>737</td>\n",
              "      <td>27</td>\n",
              "      <td>0</td>\n",
              "      <td>Direct</td>\n",
              "      <td>0</td>\n",
              "      <td>4</td>\n",
              "      <td>No Deposit</td>\n",
              "      <td>0</td>\n",
              "      <td>0.0</td>\n",
              "      <td>0</td>\n",
              "      <td>0</td>\n",
              "      <td>Transient</td>\n",
              "      <td>No Deposit</td>\n",
              "      <td>Transient</td>\n",
              "      <td>Direct</td>\n",
              "      <td>0</td>\n",
              "      <td>0</td>\n",
              "      <td>0</td>\n",
              "      <td>1</td>\n",
              "      <td>0</td>\n",
              "      <td>0</td>\n",
              "      <td>0</td>\n",
              "      <td>0</td>\n",
              "      <td>0</td>\n",
              "      <td>0</td>\n",
              "      <td>0</td>\n",
              "      <td>1</td>\n",
              "      <td>0</td>\n",
              "      <td>1</td>\n",
              "      <td>0</td>\n",
              "      <td>0</td>\n",
              "    </tr>\n",
              "    <tr>\n",
              "      <th>2</th>\n",
              "      <td>3</td>\n",
              "      <td>0</td>\n",
              "      <td>7</td>\n",
              "      <td>27</td>\n",
              "      <td>1</td>\n",
              "      <td>Direct</td>\n",
              "      <td>0</td>\n",
              "      <td>0</td>\n",
              "      <td>No Deposit</td>\n",
              "      <td>0</td>\n",
              "      <td>75.0</td>\n",
              "      <td>0</td>\n",
              "      <td>0</td>\n",
              "      <td>Transient</td>\n",
              "      <td>No Deposit</td>\n",
              "      <td>Transient</td>\n",
              "      <td>Direct</td>\n",
              "      <td>0</td>\n",
              "      <td>0</td>\n",
              "      <td>0</td>\n",
              "      <td>1</td>\n",
              "      <td>0</td>\n",
              "      <td>0</td>\n",
              "      <td>0</td>\n",
              "      <td>0</td>\n",
              "      <td>0</td>\n",
              "      <td>0</td>\n",
              "      <td>0</td>\n",
              "      <td>1</td>\n",
              "      <td>0</td>\n",
              "      <td>1</td>\n",
              "      <td>0</td>\n",
              "      <td>0</td>\n",
              "    </tr>\n",
              "    <tr>\n",
              "      <th>3</th>\n",
              "      <td>4</td>\n",
              "      <td>0</td>\n",
              "      <td>13</td>\n",
              "      <td>27</td>\n",
              "      <td>1</td>\n",
              "      <td>Corporate</td>\n",
              "      <td>0</td>\n",
              "      <td>0</td>\n",
              "      <td>No Deposit</td>\n",
              "      <td>0</td>\n",
              "      <td>75.0</td>\n",
              "      <td>0</td>\n",
              "      <td>0</td>\n",
              "      <td>Transient</td>\n",
              "      <td>No Deposit</td>\n",
              "      <td>Transient</td>\n",
              "      <td>Corporate</td>\n",
              "      <td>0</td>\n",
              "      <td>0</td>\n",
              "      <td>1</td>\n",
              "      <td>0</td>\n",
              "      <td>0</td>\n",
              "      <td>0</td>\n",
              "      <td>0</td>\n",
              "      <td>0</td>\n",
              "      <td>0</td>\n",
              "      <td>0</td>\n",
              "      <td>0</td>\n",
              "      <td>1</td>\n",
              "      <td>0</td>\n",
              "      <td>1</td>\n",
              "      <td>0</td>\n",
              "      <td>0</td>\n",
              "    </tr>\n",
              "    <tr>\n",
              "      <th>4</th>\n",
              "      <td>5</td>\n",
              "      <td>0</td>\n",
              "      <td>14</td>\n",
              "      <td>27</td>\n",
              "      <td>2</td>\n",
              "      <td>Online TA</td>\n",
              "      <td>0</td>\n",
              "      <td>0</td>\n",
              "      <td>No Deposit</td>\n",
              "      <td>0</td>\n",
              "      <td>98.0</td>\n",
              "      <td>0</td>\n",
              "      <td>1</td>\n",
              "      <td>Transient</td>\n",
              "      <td>No Deposit</td>\n",
              "      <td>Transient</td>\n",
              "      <td>Online TA</td>\n",
              "      <td>0</td>\n",
              "      <td>0</td>\n",
              "      <td>0</td>\n",
              "      <td>0</td>\n",
              "      <td>0</td>\n",
              "      <td>0</td>\n",
              "      <td>1</td>\n",
              "      <td>0</td>\n",
              "      <td>0</td>\n",
              "      <td>0</td>\n",
              "      <td>0</td>\n",
              "      <td>1</td>\n",
              "      <td>0</td>\n",
              "      <td>1</td>\n",
              "      <td>0</td>\n",
              "      <td>0</td>\n",
              "    </tr>\n",
              "  </tbody>\n",
              "</table>\n",
              "</div>"
            ],
            "text/plain": [
              "   id  is_cancelled  lead_time  arrival_week  duration    segment  \\\n",
              "0   1             0        342            27         0     Direct   \n",
              "1   2             0        737            27         0     Direct   \n",
              "2   3             0          7            27         1     Direct   \n",
              "3   4             0         13            27         1  Corporate   \n",
              "4   5             0         14            27         2  Online TA   \n",
              "\n",
              "   prev_cancel  booking_changes     deposit  waiting_period  per_Day_price  \\\n",
              "0            0                3  No Deposit               0            0.0   \n",
              "1            0                4  No Deposit               0            0.0   \n",
              "2            0                0  No Deposit               0           75.0   \n",
              "3            0                0  No Deposit               0           75.0   \n",
              "4            0                0  No Deposit               0           98.0   \n",
              "\n",
              "   parking  special_request  cust_type    deposit2 cust_type2   segment2  \\\n",
              "0        0                0  Transient  No Deposit  Transient     Direct   \n",
              "1        0                0  Transient  No Deposit  Transient     Direct   \n",
              "2        0                0  Transient  No Deposit  Transient     Direct   \n",
              "3        0                0  Transient  No Deposit  Transient  Corporate   \n",
              "4        0                1  Transient  No Deposit  Transient  Online TA   \n",
              "\n",
              "   seg_Aviation  seg_Complementary  seg_Corporate  seg_Direct  seg_Groups  \\\n",
              "0             0                  0              0           1           0   \n",
              "1             0                  0              0           1           0   \n",
              "2             0                  0              0           1           0   \n",
              "3             0                  0              1           0           0   \n",
              "4             0                  0              0           0           0   \n",
              "\n",
              "   seg_Offline TA/TO  seg_Online TA  seg_Undefined  ctyp_Contract  ctyp_Group  \\\n",
              "0                  0              0              0              0           0   \n",
              "1                  0              0              0              0           0   \n",
              "2                  0              0              0              0           0   \n",
              "3                  0              0              0              0           0   \n",
              "4                  0              1              0              0           0   \n",
              "\n",
              "   ctyp_Tran  ctyp_Transient  ctyp_Transient-Party  dep_No Deposit  \\\n",
              "0          0               1                     0               1   \n",
              "1          0               1                     0               1   \n",
              "2          0               1                     0               1   \n",
              "3          0               1                     0               1   \n",
              "4          0               1                     0               1   \n",
              "\n",
              "   dep_Non Refund  dep_Refundable  \n",
              "0               0               0  \n",
              "1               0               0  \n",
              "2               0               0  \n",
              "3               0               0  \n",
              "4               0               0  "
            ]
          },
          "metadata": {
            "tags": []
          },
          "execution_count": 17
        }
      ]
    },
    {
      "cell_type": "code",
      "metadata": {
        "id": "46RiqMyf0j0R"
      },
      "source": [
        ""
      ],
      "execution_count": null,
      "outputs": []
    },
    {
      "cell_type": "code",
      "metadata": {
        "colab": {
          "base_uri": "https://localhost:8080/"
        },
        "id": "uxfidVPY0JcY",
        "outputId": "b9e72629-0b8e-41e0-fd50-56e7d1fb3296"
      },
      "source": [
        "#split the train and test data\n",
        "tr_data, test_data = train_test_split(data, test_size=0.5, random_state=42)\n",
        "print(\"Training set count: \", len(tr_data))\n",
        "print(\"Test set count: \",len(test_data))"
      ],
      "execution_count": 48,
      "outputs": [
        {
          "output_type": "stream",
          "text": [
            "Training set count:  41292\n",
            "Test set count:  41292\n"
          ],
          "name": "stdout"
        }
      ]
    },
    {
      "cell_type": "code",
      "metadata": {
        "colab": {
          "base_uri": "https://localhost:8080/",
          "height": 705
        },
        "id": "mw_cnKWR4nsB",
        "outputId": "e97ada29-45c7-473b-84c4-5ddbd69d343e"
      },
      "source": [
        "#Corelation Matrix\n",
        "#1 visualize in a heatmap\n",
        "\n",
        "tr_cor_mat=tr_data.corr()\n",
        "\n",
        "tr_mask=np.array(tr_cor_mat)\n",
        "tr_mask[np.tril_indices_from(tr_mask)] = False\n",
        "\n",
        "viz1=plt.gcf()\n",
        "viz1.set_size_inches(10,10)\n",
        "\n",
        "sb.heatmap(data=tr_cor_mat, mask=tr_mask, annot=True)"
      ],
      "execution_count": 49,
      "outputs": [
        {
          "output_type": "execute_result",
          "data": {
            "text/plain": [
              "<matplotlib.axes._subplots.AxesSubplot at 0x7fd1a3301290>"
            ]
          },
          "metadata": {
            "tags": []
          },
          "execution_count": 49
        },
        {
          "output_type": "display_data",
          "data": {
            "image/png": "[encoded data removed]",
            "text/plain": [
              "<Figure size 720x720 with 2 Axes>"
            ]
          },
          "metadata": {
            "tags": [],
            "needs_background": "light"
          }
        }
      ]
    },
    {
      "cell_type": "code",
      "metadata": {
        "colab": {
          "base_uri": "https://localhost:8080/"
        },
        "id": "icOMdfZL4x1j",
        "outputId": "f11e788c-3ad8-4ccc-8692-37f9d851247e"
      },
      "source": [
        "#Corelation Matrix\n",
        "#2 Looks at the values\n",
        "\n",
        "tr_cor_mat[\"is_cancelled\"].sort_values(ascending=False)\n",
        "\n",
        "#The below result shows that dep_Non Refund, lead_time, seg_Groups, prev_cancel and ctyp_Transient are the top 5 features which are having high correlation with the cancellation"
      ],
      "execution_count": 50,
      "outputs": [
        {
          "output_type": "execute_result",
          "data": {
            "text/plain": [
              "is_cancelled            1.000000\n",
              "dep_Non Refund          0.423070\n",
              "id                      0.320765\n",
              "lead_time               0.309166\n",
              "ctyp_Transient          0.200236\n",
              "seg_Groups              0.170917\n",
              "per_Day_price           0.138426\n",
              "prev_cancel             0.090553\n",
              "seg_Online TA           0.083141\n",
              "waiting_period          0.028649\n",
              "seg_Aviation            0.019554\n",
              "seg_Undefined           0.006517\n",
              "ctyp_Tran              -0.005256\n",
              "dep_Refundable         -0.031078\n",
              "seg_Offline TA/TO      -0.048319\n",
              "duration               -0.049997\n",
              "seg_Complementary      -0.054295\n",
              "ctyp_Group             -0.064043\n",
              "arrival_week           -0.069027\n",
              "ctyp_Contract          -0.096118\n",
              "seg_Corporate          -0.115773\n",
              "ctyp_Transient-Party   -0.154259\n",
              "booking_changes        -0.169655\n",
              "special_request        -0.200483\n",
              "seg_Direct             -0.206952\n",
              "parking                -0.291699\n",
              "dep_No Deposit         -0.417300\n",
              "Name: is_cancelled, dtype: float64"
            ]
          },
          "metadata": {
            "tags": []
          },
          "execution_count": 50
        }
      ]
    },
    {
      "cell_type": "code",
      "metadata": {
        "colab": {
          "base_uri": "https://localhost:8080/",
          "height": 194
        },
        "id": "ec8JHGVY5MNl",
        "outputId": "0682eb2d-87d6-4ff6-f58a-4cf61fb93d00"
      },
      "source": [
        "#I think, this is the time to drop the least corelated features\n",
        "# Keep the top/ bottom-N features (for this exercise)\n",
        "\n",
        "tr_data_mdl = tr_data.copy()\n",
        "#Rename it to make it consitent with other features\n",
        "tr_data_mdl.rename(columns={'dep_Non Refund':'dep_non_refund'}, inplace=True)\n",
        "tr_data_mdl.rename(columns={'dep_No Deposit':'dep_no_deposit'}, inplace=True)\n",
        "tr_data_mdl.rename(columns={'ctyp_Transient-Party':'ctyp_transient_party'}, inplace=True)\n",
        "\n",
        "features_sel = ['id','is_cancelled','dep_non_refund','lead_time','ctyp_Transient','seg_Groups', 'dep_no_deposit','parking','seg_Direct','special_request','booking_changes','ctyp_transient_party']\n",
        "tr_data_mdl.drop(tr_data_mdl.columns.difference(features_sel),axis=1,inplace=True)\n",
        "\n",
        "tr_data_mdl.head()"
      ],
      "execution_count": 51,
      "outputs": [
        {
          "output_type": "execute_result",
          "data": {
            "text/html": [
              "<div>\n",
              "<style scoped>\n",
              "    .dataframe tbody tr th:only-of-type {\n",
              "        vertical-align: middle;\n",
              "    }\n",
              "\n",
              "    .dataframe tbody tr th {\n",
              "        vertical-align: top;\n",
              "    }\n",
              "\n",
              "    .dataframe thead th {\n",
              "        text-align: right;\n",
              "    }\n",
              "</style>\n",
              "<table border=\"1\" class=\"dataframe\">\n",
              "  <thead>\n",
              "    <tr style=\"text-align: right;\">\n",
              "      <th></th>\n",
              "      <th>id</th>\n",
              "      <th>is_cancelled</th>\n",
              "      <th>lead_time</th>\n",
              "      <th>booking_changes</th>\n",
              "      <th>parking</th>\n",
              "      <th>special_request</th>\n",
              "      <th>seg_Direct</th>\n",
              "      <th>seg_Groups</th>\n",
              "      <th>ctyp_Transient</th>\n",
              "      <th>ctyp_transient_party</th>\n",
              "      <th>dep_no_deposit</th>\n",
              "      <th>dep_non_refund</th>\n",
              "    </tr>\n",
              "  </thead>\n",
              "  <tbody>\n",
              "    <tr>\n",
              "      <th>68883</th>\n",
              "      <td>68884</td>\n",
              "      <td>1</td>\n",
              "      <td>26</td>\n",
              "      <td>0</td>\n",
              "      <td>0</td>\n",
              "      <td>0</td>\n",
              "      <td>0</td>\n",
              "      <td>0</td>\n",
              "      <td>1</td>\n",
              "      <td>0</td>\n",
              "      <td>0</td>\n",
              "      <td>1</td>\n",
              "    </tr>\n",
              "    <tr>\n",
              "      <th>47758</th>\n",
              "      <td>47759</td>\n",
              "      <td>1</td>\n",
              "      <td>1</td>\n",
              "      <td>0</td>\n",
              "      <td>0</td>\n",
              "      <td>0</td>\n",
              "      <td>0</td>\n",
              "      <td>0</td>\n",
              "      <td>1</td>\n",
              "      <td>0</td>\n",
              "      <td>1</td>\n",
              "      <td>0</td>\n",
              "    </tr>\n",
              "    <tr>\n",
              "      <th>57735</th>\n",
              "      <td>57736</td>\n",
              "      <td>1</td>\n",
              "      <td>267</td>\n",
              "      <td>0</td>\n",
              "      <td>0</td>\n",
              "      <td>0</td>\n",
              "      <td>0</td>\n",
              "      <td>0</td>\n",
              "      <td>1</td>\n",
              "      <td>0</td>\n",
              "      <td>0</td>\n",
              "      <td>1</td>\n",
              "    </tr>\n",
              "    <tr>\n",
              "      <th>13347</th>\n",
              "      <td>13348</td>\n",
              "      <td>1</td>\n",
              "      <td>98</td>\n",
              "      <td>0</td>\n",
              "      <td>0</td>\n",
              "      <td>2</td>\n",
              "      <td>0</td>\n",
              "      <td>0</td>\n",
              "      <td>1</td>\n",
              "      <td>0</td>\n",
              "      <td>1</td>\n",
              "      <td>0</td>\n",
              "    </tr>\n",
              "    <tr>\n",
              "      <th>12104</th>\n",
              "      <td>12105</td>\n",
              "      <td>1</td>\n",
              "      <td>247</td>\n",
              "      <td>0</td>\n",
              "      <td>0</td>\n",
              "      <td>1</td>\n",
              "      <td>0</td>\n",
              "      <td>0</td>\n",
              "      <td>1</td>\n",
              "      <td>0</td>\n",
              "      <td>1</td>\n",
              "      <td>0</td>\n",
              "    </tr>\n",
              "  </tbody>\n",
              "</table>\n",
              "</div>"
            ],
            "text/plain": [
              "          id  is_cancelled  lead_time  booking_changes  parking  \\\n",
              "68883  68884             1         26                0        0   \n",
              "47758  47759             1          1                0        0   \n",
              "57735  57736             1        267                0        0   \n",
              "13347  13348             1         98                0        0   \n",
              "12104  12105             1        247                0        0   \n",
              "\n",
              "       special_request  seg_Direct  seg_Groups  ctyp_Transient  \\\n",
              "68883                0           0           0               1   \n",
              "47758                0           0           0               1   \n",
              "57735                0           0           0               1   \n",
              "13347                2           0           0               1   \n",
              "12104                1           0           0               1   \n",
              "\n",
              "       ctyp_transient_party  dep_no_deposit  dep_non_refund  \n",
              "68883                     0               0               1  \n",
              "47758                     0               1               0  \n",
              "57735                     0               0               1  \n",
              "13347                     0               1               0  \n",
              "12104                     0               1               0  "
            ]
          },
          "metadata": {
            "tags": []
          },
          "execution_count": 51
        }
      ]
    },
    {
      "cell_type": "code",
      "metadata": {
        "colab": {
          "base_uri": "https://localhost:8080/"
        },
        "id": "ZvOFJ5pL5Q3F",
        "outputId": "e264294e-9fe3-49da-e56a-3200293d64b1"
      },
      "source": [
        "#remove id coulmn from training dataset as this needs to be removed before run the actual prediction\n",
        "tr_data_mdl.drop(['id'], axis=1, inplace=True)\n",
        "tr_data_mdl.columns"
      ],
      "execution_count": 52,
      "outputs": [
        {
          "output_type": "execute_result",
          "data": {
            "text/plain": [
              "Index(['is_cancelled', 'lead_time', 'booking_changes', 'parking',\n",
              "       'special_request', 'seg_Direct', 'seg_Groups', 'ctyp_Transient',\n",
              "       'ctyp_transient_party', 'dep_no_deposit', 'dep_non_refund'],\n",
              "      dtype='object')"
            ]
          },
          "metadata": {
            "tags": []
          },
          "execution_count": 52
        }
      ]
    },
    {
      "cell_type": "code",
      "metadata": {
        "id": "MRl454x75Q57"
      },
      "source": [
        "# Visualize the top N features and their feature importance."
      ],
      "execution_count": null,
      "outputs": []
    },
    {
      "cell_type": "code",
      "metadata": {
        "colab": {
          "base_uri": "https://localhost:8080/",
          "height": 369
        },
        "id": "5ErjKtNR5Q8Q",
        "outputId": "e9ff8cff-65cb-4765-e74d-34d2103a4ff7"
      },
      "source": [
        "#1 lead Time\n",
        "# use kde (kernel density estimation)\n",
        "\n",
        "lead_time = tr_data[\"lead_time\"]\n",
        "\n",
        "plt.figure(figsize=(10,5))\n",
        "sb.histplot(lead_time, kde=True)\n",
        "plt.tight_layout()\n",
        "plt.show()"
      ],
      "execution_count": 53,
      "outputs": [
        {
          "output_type": "display_data",
          "data": {
            "image/png": "[encoded data removed]",
            "text/plain": [
              "<Figure size 720x360 with 1 Axes>"
            ]
          },
          "metadata": {
            "tags": [],
            "needs_background": "light"
          }
        }
      ]
    },
    {
      "cell_type": "code",
      "metadata": {
        "colab": {
          "base_uri": "https://localhost:8080/",
          "height": 194
        },
        "id": "OVjU62Fq5Q_K",
        "outputId": "b6536b19-337e-4cfc-f44a-6f3181c7a734"
      },
      "source": [
        "# Test Data\n",
        "\n",
        "test_data_mdl = test_data.copy()\n",
        "#Rename it to make it consitent with other features\n",
        "test_data_mdl.rename(columns={'dep_Non Refund':'dep_non_refund'}, inplace=True)\n",
        "test_data_mdl.rename(columns={'dep_No Deposit':'dep_no_deposit'}, inplace=True)\n",
        "test_data_mdl.rename(columns={'ctyp_Transient-Party':'ctyp_transient_party'}, inplace=True)\n",
        "\n",
        "features_sel = ['id','is_cancelled','dep_non_refund','lead_time','ctyp_Transient','seg_Groups', 'dep_no_deposit','parking','seg_Direct','special_request','booking_changes','ctyp_transient_party']\n",
        "test_data_mdl.drop(test_data_mdl.columns.difference(features_sel),axis=1,inplace=True)\n",
        "\n",
        "test_data_mdl.head()"
      ],
      "execution_count": 55,
      "outputs": [
        {
          "output_type": "execute_result",
          "data": {
            "text/html": [
              "<div>\n",
              "<style scoped>\n",
              "    .dataframe tbody tr th:only-of-type {\n",
              "        vertical-align: middle;\n",
              "    }\n",
              "\n",
              "    .dataframe tbody tr th {\n",
              "        vertical-align: top;\n",
              "    }\n",
              "\n",
              "    .dataframe thead th {\n",
              "        text-align: right;\n",
              "    }\n",
              "</style>\n",
              "<table border=\"1\" class=\"dataframe\">\n",
              "  <thead>\n",
              "    <tr style=\"text-align: right;\">\n",
              "      <th></th>\n",
              "      <th>id</th>\n",
              "      <th>is_cancelled</th>\n",
              "      <th>lead_time</th>\n",
              "      <th>booking_changes</th>\n",
              "      <th>parking</th>\n",
              "      <th>special_request</th>\n",
              "      <th>seg_Direct</th>\n",
              "      <th>seg_Groups</th>\n",
              "      <th>ctyp_Transient</th>\n",
              "      <th>ctyp_transient_party</th>\n",
              "      <th>dep_no_deposit</th>\n",
              "      <th>dep_non_refund</th>\n",
              "    </tr>\n",
              "  </thead>\n",
              "  <tbody>\n",
              "    <tr>\n",
              "      <th>52744</th>\n",
              "      <td>52745</td>\n",
              "      <td>1</td>\n",
              "      <td>65</td>\n",
              "      <td>0</td>\n",
              "      <td>0</td>\n",
              "      <td>0</td>\n",
              "      <td>0</td>\n",
              "      <td>0</td>\n",
              "      <td>1</td>\n",
              "      <td>0</td>\n",
              "      <td>1</td>\n",
              "      <td>0</td>\n",
              "    </tr>\n",
              "    <tr>\n",
              "      <th>43365</th>\n",
              "      <td>43366</td>\n",
              "      <td>0</td>\n",
              "      <td>74</td>\n",
              "      <td>0</td>\n",
              "      <td>0</td>\n",
              "      <td>0</td>\n",
              "      <td>0</td>\n",
              "      <td>0</td>\n",
              "      <td>0</td>\n",
              "      <td>1</td>\n",
              "      <td>1</td>\n",
              "      <td>0</td>\n",
              "    </tr>\n",
              "    <tr>\n",
              "      <th>27212</th>\n",
              "      <td>27213</td>\n",
              "      <td>0</td>\n",
              "      <td>0</td>\n",
              "      <td>0</td>\n",
              "      <td>0</td>\n",
              "      <td>1</td>\n",
              "      <td>0</td>\n",
              "      <td>0</td>\n",
              "      <td>1</td>\n",
              "      <td>0</td>\n",
              "      <td>1</td>\n",
              "      <td>0</td>\n",
              "    </tr>\n",
              "    <tr>\n",
              "      <th>24540</th>\n",
              "      <td>24541</td>\n",
              "      <td>0</td>\n",
              "      <td>27</td>\n",
              "      <td>0</td>\n",
              "      <td>1</td>\n",
              "      <td>0</td>\n",
              "      <td>0</td>\n",
              "      <td>0</td>\n",
              "      <td>1</td>\n",
              "      <td>0</td>\n",
              "      <td>1</td>\n",
              "      <td>0</td>\n",
              "    </tr>\n",
              "    <tr>\n",
              "      <th>30965</th>\n",
              "      <td>30966</td>\n",
              "      <td>0</td>\n",
              "      <td>87</td>\n",
              "      <td>3</td>\n",
              "      <td>0</td>\n",
              "      <td>2</td>\n",
              "      <td>0</td>\n",
              "      <td>0</td>\n",
              "      <td>0</td>\n",
              "      <td>1</td>\n",
              "      <td>1</td>\n",
              "      <td>0</td>\n",
              "    </tr>\n",
              "  </tbody>\n",
              "</table>\n",
              "</div>"
            ],
            "text/plain": [
              "          id  is_cancelled  lead_time  booking_changes  parking  \\\n",
              "52744  52745             1         65                0        0   \n",
              "43365  43366             0         74                0        0   \n",
              "27212  27213             0          0                0        0   \n",
              "24540  24541             0         27                0        1   \n",
              "30965  30966             0         87                3        0   \n",
              "\n",
              "       special_request  seg_Direct  seg_Groups  ctyp_Transient  \\\n",
              "52744                0           0           0               1   \n",
              "43365                0           0           0               0   \n",
              "27212                1           0           0               1   \n",
              "24540                0           0           0               1   \n",
              "30965                2           0           0               0   \n",
              "\n",
              "       ctyp_transient_party  dep_no_deposit  dep_non_refund  \n",
              "52744                     0               1               0  \n",
              "43365                     1               1               0  \n",
              "27212                     0               1               0  \n",
              "24540                     0               1               0  \n",
              "30965                     1               1               0  "
            ]
          },
          "metadata": {
            "tags": []
          },
          "execution_count": 55
        }
      ]
    },
    {
      "cell_type": "code",
      "metadata": {
        "colab": {
          "base_uri": "https://localhost:8080/",
          "height": 194
        },
        "id": "qXyLgQHUZZFI",
        "outputId": "42f02575-ad63-4b95-b5f7-b2bb495fdb9c"
      },
      "source": [
        "#remove is_cancelled column\n",
        "test_data_mdl.drop(\"is_cancelled\",axis=1,inplace=True)\n",
        "\n",
        "test_data_mdl.head()"
      ],
      "execution_count": 56,
      "outputs": [
        {
          "output_type": "execute_result",
          "data": {
            "text/html": [
              "<div>\n",
              "<style scoped>\n",
              "    .dataframe tbody tr th:only-of-type {\n",
              "        vertical-align: middle;\n",
              "    }\n",
              "\n",
              "    .dataframe tbody tr th {\n",
              "        vertical-align: top;\n",
              "    }\n",
              "\n",
              "    .dataframe thead th {\n",
              "        text-align: right;\n",
              "    }\n",
              "</style>\n",
              "<table border=\"1\" class=\"dataframe\">\n",
              "  <thead>\n",
              "    <tr style=\"text-align: right;\">\n",
              "      <th></th>\n",
              "      <th>id</th>\n",
              "      <th>lead_time</th>\n",
              "      <th>booking_changes</th>\n",
              "      <th>parking</th>\n",
              "      <th>special_request</th>\n",
              "      <th>seg_Direct</th>\n",
              "      <th>seg_Groups</th>\n",
              "      <th>ctyp_Transient</th>\n",
              "      <th>ctyp_transient_party</th>\n",
              "      <th>dep_no_deposit</th>\n",
              "      <th>dep_non_refund</th>\n",
              "    </tr>\n",
              "  </thead>\n",
              "  <tbody>\n",
              "    <tr>\n",
              "      <th>52744</th>\n",
              "      <td>52745</td>\n",
              "      <td>65</td>\n",
              "      <td>0</td>\n",
              "      <td>0</td>\n",
              "      <td>0</td>\n",
              "      <td>0</td>\n",
              "      <td>0</td>\n",
              "      <td>1</td>\n",
              "      <td>0</td>\n",
              "      <td>1</td>\n",
              "      <td>0</td>\n",
              "    </tr>\n",
              "    <tr>\n",
              "      <th>43365</th>\n",
              "      <td>43366</td>\n",
              "      <td>74</td>\n",
              "      <td>0</td>\n",
              "      <td>0</td>\n",
              "      <td>0</td>\n",
              "      <td>0</td>\n",
              "      <td>0</td>\n",
              "      <td>0</td>\n",
              "      <td>1</td>\n",
              "      <td>1</td>\n",
              "      <td>0</td>\n",
              "    </tr>\n",
              "    <tr>\n",
              "      <th>27212</th>\n",
              "      <td>27213</td>\n",
              "      <td>0</td>\n",
              "      <td>0</td>\n",
              "      <td>0</td>\n",
              "      <td>1</td>\n",
              "      <td>0</td>\n",
              "      <td>0</td>\n",
              "      <td>1</td>\n",
              "      <td>0</td>\n",
              "      <td>1</td>\n",
              "      <td>0</td>\n",
              "    </tr>\n",
              "    <tr>\n",
              "      <th>24540</th>\n",
              "      <td>24541</td>\n",
              "      <td>27</td>\n",
              "      <td>0</td>\n",
              "      <td>1</td>\n",
              "      <td>0</td>\n",
              "      <td>0</td>\n",
              "      <td>0</td>\n",
              "      <td>1</td>\n",
              "      <td>0</td>\n",
              "      <td>1</td>\n",
              "      <td>0</td>\n",
              "    </tr>\n",
              "    <tr>\n",
              "      <th>30965</th>\n",
              "      <td>30966</td>\n",
              "      <td>87</td>\n",
              "      <td>3</td>\n",
              "      <td>0</td>\n",
              "      <td>2</td>\n",
              "      <td>0</td>\n",
              "      <td>0</td>\n",
              "      <td>0</td>\n",
              "      <td>1</td>\n",
              "      <td>1</td>\n",
              "      <td>0</td>\n",
              "    </tr>\n",
              "  </tbody>\n",
              "</table>\n",
              "</div>"
            ],
            "text/plain": [
              "          id  lead_time  booking_changes  parking  special_request  \\\n",
              "52744  52745         65                0        0                0   \n",
              "43365  43366         74                0        0                0   \n",
              "27212  27213          0                0        0                1   \n",
              "24540  24541         27                0        1                0   \n",
              "30965  30966         87                3        0                2   \n",
              "\n",
              "       seg_Direct  seg_Groups  ctyp_Transient  ctyp_transient_party  \\\n",
              "52744           0           0               1                     0   \n",
              "43365           0           0               0                     1   \n",
              "27212           0           0               1                     0   \n",
              "24540           0           0               1                     0   \n",
              "30965           0           0               0                     1   \n",
              "\n",
              "       dep_no_deposit  dep_non_refund  \n",
              "52744               1               0  \n",
              "43365               1               0  \n",
              "27212               1               0  \n",
              "24540               1               0  \n",
              "30965               1               0  "
            ]
          },
          "metadata": {
            "tags": []
          },
          "execution_count": 56
        }
      ]
    },
    {
      "cell_type": "code",
      "metadata": {
        "colab": {
          "base_uri": "https://localhost:8080/",
          "height": 194
        },
        "id": "up5JLweSSaF7",
        "outputId": "5abfde15-272e-4086-95da-212c5c71eb41"
      },
      "source": [
        "tr_data_mdl.head()"
      ],
      "execution_count": 57,
      "outputs": [
        {
          "output_type": "execute_result",
          "data": {
            "text/html": [
              "<div>\n",
              "<style scoped>\n",
              "    .dataframe tbody tr th:only-of-type {\n",
              "        vertical-align: middle;\n",
              "    }\n",
              "\n",
              "    .dataframe tbody tr th {\n",
              "        vertical-align: top;\n",
              "    }\n",
              "\n",
              "    .dataframe thead th {\n",
              "        text-align: right;\n",
              "    }\n",
              "</style>\n",
              "<table border=\"1\" class=\"dataframe\">\n",
              "  <thead>\n",
              "    <tr style=\"text-align: right;\">\n",
              "      <th></th>\n",
              "      <th>is_cancelled</th>\n",
              "      <th>lead_time</th>\n",
              "      <th>booking_changes</th>\n",
              "      <th>parking</th>\n",
              "      <th>special_request</th>\n",
              "      <th>seg_Direct</th>\n",
              "      <th>seg_Groups</th>\n",
              "      <th>ctyp_Transient</th>\n",
              "      <th>ctyp_transient_party</th>\n",
              "      <th>dep_no_deposit</th>\n",
              "      <th>dep_non_refund</th>\n",
              "    </tr>\n",
              "  </thead>\n",
              "  <tbody>\n",
              "    <tr>\n",
              "      <th>68883</th>\n",
              "      <td>1</td>\n",
              "      <td>26</td>\n",
              "      <td>0</td>\n",
              "      <td>0</td>\n",
              "      <td>0</td>\n",
              "      <td>0</td>\n",
              "      <td>0</td>\n",
              "      <td>1</td>\n",
              "      <td>0</td>\n",
              "      <td>0</td>\n",
              "      <td>1</td>\n",
              "    </tr>\n",
              "    <tr>\n",
              "      <th>47758</th>\n",
              "      <td>1</td>\n",
              "      <td>1</td>\n",
              "      <td>0</td>\n",
              "      <td>0</td>\n",
              "      <td>0</td>\n",
              "      <td>0</td>\n",
              "      <td>0</td>\n",
              "      <td>1</td>\n",
              "      <td>0</td>\n",
              "      <td>1</td>\n",
              "      <td>0</td>\n",
              "    </tr>\n",
              "    <tr>\n",
              "      <th>57735</th>\n",
              "      <td>1</td>\n",
              "      <td>267</td>\n",
              "      <td>0</td>\n",
              "      <td>0</td>\n",
              "      <td>0</td>\n",
              "      <td>0</td>\n",
              "      <td>0</td>\n",
              "      <td>1</td>\n",
              "      <td>0</td>\n",
              "      <td>0</td>\n",
              "      <td>1</td>\n",
              "    </tr>\n",
              "    <tr>\n",
              "      <th>13347</th>\n",
              "      <td>1</td>\n",
              "      <td>98</td>\n",
              "      <td>0</td>\n",
              "      <td>0</td>\n",
              "      <td>2</td>\n",
              "      <td>0</td>\n",
              "      <td>0</td>\n",
              "      <td>1</td>\n",
              "      <td>0</td>\n",
              "      <td>1</td>\n",
              "      <td>0</td>\n",
              "    </tr>\n",
              "    <tr>\n",
              "      <th>12104</th>\n",
              "      <td>1</td>\n",
              "      <td>247</td>\n",
              "      <td>0</td>\n",
              "      <td>0</td>\n",
              "      <td>1</td>\n",
              "      <td>0</td>\n",
              "      <td>0</td>\n",
              "      <td>1</td>\n",
              "      <td>0</td>\n",
              "      <td>1</td>\n",
              "      <td>0</td>\n",
              "    </tr>\n",
              "  </tbody>\n",
              "</table>\n",
              "</div>"
            ],
            "text/plain": [
              "       is_cancelled  lead_time  booking_changes  parking  special_request  \\\n",
              "68883             1         26                0        0                0   \n",
              "47758             1          1                0        0                0   \n",
              "57735             1        267                0        0                0   \n",
              "13347             1         98                0        0                2   \n",
              "12104             1        247                0        0                1   \n",
              "\n",
              "       seg_Direct  seg_Groups  ctyp_Transient  ctyp_transient_party  \\\n",
              "68883           0           0               1                     0   \n",
              "47758           0           0               1                     0   \n",
              "57735           0           0               1                     0   \n",
              "13347           0           0               1                     0   \n",
              "12104           0           0               1                     0   \n",
              "\n",
              "       dep_no_deposit  dep_non_refund  \n",
              "68883               0               1  \n",
              "47758               1               0  \n",
              "57735               0               1  \n",
              "13347               1               0  \n",
              "12104               1               0  "
            ]
          },
          "metadata": {
            "tags": []
          },
          "execution_count": 57
        }
      ]
    },
    {
      "cell_type": "code",
      "metadata": {
        "id": "3wGeF1OsSaPP"
      },
      "source": [
        "#*******************\n",
        "#Model Selection\n",
        "#*******************\n",
        "\n",
        "#Precision and confusion matrix are the decision factor for the model selection\n",
        "#To start with, evaluating the below two models\n",
        "\n",
        "#1 KNN\n",
        "#2 Random Forest\n",
        "#3 Gradeient Boost"
      ],
      "execution_count": null,
      "outputs": []
    },
    {
      "cell_type": "code",
      "metadata": {
        "colab": {
          "base_uri": "https://localhost:8080/"
        },
        "id": "ac4M3Yt_SaSK",
        "outputId": "fd035810-e9ed-4223-c478-9e6f2e85038b"
      },
      "source": [
        "tr_data_mdl.columns"
      ],
      "execution_count": 58,
      "outputs": [
        {
          "output_type": "execute_result",
          "data": {
            "text/plain": [
              "Index(['is_cancelled', 'lead_time', 'booking_changes', 'parking',\n",
              "       'special_request', 'seg_Direct', 'seg_Groups', 'ctyp_Transient',\n",
              "       'ctyp_transient_party', 'dep_no_deposit', 'dep_non_refund'],\n",
              "      dtype='object')"
            ]
          },
          "metadata": {
            "tags": []
          },
          "execution_count": 58
        }
      ]
    },
    {
      "cell_type": "code",
      "metadata": {
        "colab": {
          "base_uri": "https://localhost:8080/"
        },
        "id": "vU0iVShTSaUW",
        "outputId": "07693f65-8330-45d3-f78f-566e62904e8e"
      },
      "source": [
        "#validate the data types of all the columns; all are numeric\n",
        "tr_data_mdl.columns.to_series().groupby(tr_data_mdl.dtypes).groups"
      ],
      "execution_count": 59,
      "outputs": [
        {
          "output_type": "execute_result",
          "data": {
            "text/plain": [
              "{uint8: ['seg_Direct', 'seg_Groups', 'ctyp_Transient', 'ctyp_transient_party', 'dep_no_deposit', 'dep_non_refund'], int64: ['is_cancelled', 'lead_time', 'booking_changes', 'parking', 'special_request']}"
            ]
          },
          "metadata": {
            "tags": []
          },
          "execution_count": 59
        }
      ]
    },
    {
      "cell_type": "code",
      "metadata": {
        "colab": {
          "base_uri": "https://localhost:8080/"
        },
        "id": "SdEs8d-OS0DL",
        "outputId": "ac989776-b0cd-4b9b-d0da-0f558436634e"
      },
      "source": [
        "len(tr_data_mdl)"
      ],
      "execution_count": 60,
      "outputs": [
        {
          "output_type": "execute_result",
          "data": {
            "text/plain": [
              "41292"
            ]
          },
          "metadata": {
            "tags": []
          },
          "execution_count": 60
        }
      ]
    },
    {
      "cell_type": "code",
      "metadata": {
        "id": "1kF0kbdDS0GJ"
      },
      "source": [
        "#set 25% as test size from the training dataset; this is for train the model\n",
        "x_train, x_test, y_train, y_test= train_test_split(tr_data_mdl.drop('is_cancelled',axis=1), tr_data_mdl['is_cancelled'], test_size=0.25, random_state=42)"
      ],
      "execution_count": 61,
      "outputs": []
    },
    {
      "cell_type": "code",
      "metadata": {
        "colab": {
          "base_uri": "https://localhost:8080/"
        },
        "id": "W8uvwE0ES0J4",
        "outputId": "5e4a1c53-b497-4d41-d2f8-f2465b8bcd61"
      },
      "source": [
        "#1 KNN option-1 (default weights --> uniform)\n",
        "knn = KNeighborsClassifier()\n",
        "knn.fit(x_train, y_train)"
      ],
      "execution_count": 62,
      "outputs": [
        {
          "output_type": "execute_result",
          "data": {
            "text/plain": [
              "KNeighborsClassifier(algorithm='auto', leaf_size=30, metric='minkowski',\n",
              "                     metric_params=None, n_jobs=None, n_neighbors=5, p=2,\n",
              "                     weights='uniform')"
            ]
          },
          "metadata": {
            "tags": []
          },
          "execution_count": 62
        }
      ]
    },
    {
      "cell_type": "code",
      "metadata": {
        "colab": {
          "base_uri": "https://localhost:8080/"
        },
        "id": "MKiVurYFS0Ld",
        "outputId": "94f0ed94-bafb-48f3-ca61-ed0430e54518"
      },
      "source": [
        "#get the accuracy score\n",
        "knn_pred=knn.predict(x_test)\n",
        "score=metrics.accuracy_score(y_test,knn_pred)\n",
        "print(score)"
      ],
      "execution_count": 63,
      "outputs": [
        {
          "output_type": "stream",
          "text": [
            "0.7603409861474377\n"
          ],
          "name": "stdout"
        }
      ]
    },
    {
      "cell_type": "code",
      "metadata": {
        "colab": {
          "base_uri": "https://localhost:8080/"
        },
        "id": "CyhA0FPFS0OF",
        "outputId": "7468d23c-277c-4ae2-bfb1-43ba0478bcbc"
      },
      "source": [
        "confusion_matrix(y_test, knn_pred)"
      ],
      "execution_count": 64,
      "outputs": [
        {
          "output_type": "execute_result",
          "data": {
            "text/plain": [
              "array([[3407, 1402],\n",
              "       [1072, 4442]])"
            ]
          },
          "metadata": {
            "tags": []
          },
          "execution_count": 64
        }
      ]
    },
    {
      "cell_type": "code",
      "metadata": {
        "colab": {
          "base_uri": "https://localhost:8080/"
        },
        "id": "uoaNJ6f8S0QS",
        "outputId": "73efb8c0-14e8-40a0-9c1d-ca427ed08e1f"
      },
      "source": [
        "#1 KNN option-2 (default weights --> distance)\n",
        "knn2 = KNeighborsClassifier(weights='distance')\n",
        "knn2.fit(x_train, y_train)"
      ],
      "execution_count": 65,
      "outputs": [
        {
          "output_type": "execute_result",
          "data": {
            "text/plain": [
              "KNeighborsClassifier(algorithm='auto', leaf_size=30, metric='minkowski',\n",
              "                     metric_params=None, n_jobs=None, n_neighbors=5, p=2,\n",
              "                     weights='distance')"
            ]
          },
          "metadata": {
            "tags": []
          },
          "execution_count": 65
        }
      ]
    },
    {
      "cell_type": "code",
      "metadata": {
        "colab": {
          "base_uri": "https://localhost:8080/"
        },
        "id": "kwYaV_WRTWBe",
        "outputId": "1bd78dea-a66d-4629-ccea-3805311a9314"
      },
      "source": [
        "#get the accuracy score\n",
        "knn_pred2=knn2.predict(x_test)\n",
        "score2=metrics.accuracy_score(y_test,knn_pred2)\n",
        "print(score2)"
      ],
      "execution_count": 66,
      "outputs": [
        {
          "output_type": "stream",
          "text": [
            "0.7674125738641868\n"
          ],
          "name": "stdout"
        }
      ]
    },
    {
      "cell_type": "code",
      "metadata": {
        "colab": {
          "base_uri": "https://localhost:8080/"
        },
        "id": "1QujAIGgTWEL",
        "outputId": "96ea2c48-ac87-43d0-9c30-1c8619200238"
      },
      "source": [
        "confusion_matrix(y_test, knn_pred2)"
      ],
      "execution_count": 68,
      "outputs": [
        {
          "output_type": "execute_result",
          "data": {
            "text/plain": [
              "array([[3521, 1288],\n",
              "       [1113, 4401]])"
            ]
          },
          "metadata": {
            "tags": []
          },
          "execution_count": 68
        }
      ]
    },
    {
      "cell_type": "code",
      "metadata": {
        "colab": {
          "base_uri": "https://localhost:8080/"
        },
        "id": "FWl83QJyTWJJ",
        "outputId": "e50f237f-7100-45d7-8225-44b6216c1285"
      },
      "source": [
        "#2 Random Forest\n",
        "\n",
        "rf = RandomForestClassifier(random_state=42, n_jobs=-1)\n",
        "rf.fit(x_train, y_train)"
      ],
      "execution_count": 69,
      "outputs": [
        {
          "output_type": "execute_result",
          "data": {
            "text/plain": [
              "RandomForestClassifier(bootstrap=True, ccp_alpha=0.0, class_weight=None,\n",
              "                       criterion='gini', max_depth=None, max_features='auto',\n",
              "                       max_leaf_nodes=None, max_samples=None,\n",
              "                       min_impurity_decrease=0.0, min_impurity_split=None,\n",
              "                       min_samples_leaf=1, min_samples_split=2,\n",
              "                       min_weight_fraction_leaf=0.0, n_estimators=100,\n",
              "                       n_jobs=-1, oob_score=False, random_state=42, verbose=0,\n",
              "                       warm_start=False)"
            ]
          },
          "metadata": {
            "tags": []
          },
          "execution_count": 69
        }
      ]
    },
    {
      "cell_type": "code",
      "metadata": {
        "colab": {
          "base_uri": "https://localhost:8080/"
        },
        "id": "Y3vG_zUuTWLV",
        "outputId": "5beba8ef-c35a-4fc8-d5a0-5b6d289034fc"
      },
      "source": [
        "#get the accuracy score\n",
        "rf_pred=rf.predict(x_test)\n",
        "rf_ascore=metrics.accuracy_score(y_test,rf_pred)\n",
        "rf_pscore=metrics.precision_score(y_test,rf_pred)\n",
        "print(\"Accuracy score : \", rf_ascore)\n",
        "print(\"Precision score : \", rf_pscore)"
      ],
      "execution_count": 70,
      "outputs": [
        {
          "output_type": "stream",
          "text": [
            "Accuracy score :  0.7898866608544028\n",
            "Precision score :  0.7946098291351066\n"
          ],
          "name": "stdout"
        }
      ]
    },
    {
      "cell_type": "code",
      "metadata": {
        "colab": {
          "base_uri": "https://localhost:8080/"
        },
        "id": "pZ89spKyTkl_",
        "outputId": "f6a73833-809a-4742-d00c-d683875c00ba"
      },
      "source": [
        "confusion_matrix(y_test, rf_pred)"
      ],
      "execution_count": 71,
      "outputs": [
        {
          "output_type": "execute_result",
          "data": {
            "text/plain": [
              "array([[3643, 1166],\n",
              "       [1003, 4511]])"
            ]
          },
          "metadata": {
            "tags": []
          },
          "execution_count": 71
        }
      ]
    },
    {
      "cell_type": "code",
      "metadata": {
        "colab": {
          "base_uri": "https://localhost:8080/"
        },
        "id": "lI2n-f1iTkpT",
        "outputId": "58734795-36e5-486c-887d-56156e18c6f3"
      },
      "source": [
        "#get the accuracy score\n",
        "rf_pred=rf.predict(x_test)\n",
        "rf_ascore=metrics.accuracy_score(y_test,rf_pred)\n",
        "rf_pscore=metrics.precision_score(y_test,rf_pred)\n",
        "print(\"Accuracy score : \", rf_ascore)\n",
        "print(\"Precision score : \", rf_pscore)"
      ],
      "execution_count": 72,
      "outputs": [
        {
          "output_type": "stream",
          "text": [
            "Accuracy score :  0.7898866608544028\n",
            "Precision score :  0.7946098291351066\n"
          ],
          "name": "stdout"
        }
      ]
    },
    {
      "cell_type": "code",
      "metadata": {
        "colab": {
          "base_uri": "https://localhost:8080/"
        },
        "id": "hcVE1g6OTkrx",
        "outputId": "a650dad0-2be3-4379-c226-e4e36112e875"
      },
      "source": [
        "confusion_matrix(y_test, rf_pred)"
      ],
      "execution_count": 73,
      "outputs": [
        {
          "output_type": "execute_result",
          "data": {
            "text/plain": [
              "array([[3643, 1166],\n",
              "       [1003, 4511]])"
            ]
          },
          "metadata": {
            "tags": []
          },
          "execution_count": 73
        }
      ]
    },
    {
      "cell_type": "code",
      "metadata": {
        "colab": {
          "base_uri": "https://localhost:8080/"
        },
        "id": "y__DSdCiTkuU",
        "outputId": "bf8596c0-7acf-49ab-a8f6-fb79e1d63145"
      },
      "source": [
        "#3 Gradient Boosting\n",
        "gb = GradientBoostingClassifier()\n",
        "cv=RepeatedStratifiedKFold(n_splits=10, n_repeats=3, random_state=1)\n",
        "n_scores= cross_val_score(gb,x_train, y_train,scoring='accuracy',cv=cv,n_jobs=-1,error_score='raise')\n",
        "print(mean(n_scores))\n",
        "print(std(n_scores))"
      ],
      "execution_count": 74,
      "outputs": [
        {
          "output_type": "stream",
          "text": [
            "0.7737414920721534\n",
            "0.009184113687071758\n"
          ],
          "name": "stdout"
        }
      ]
    },
    {
      "cell_type": "code",
      "metadata": {
        "id": "NN5h_9i9Tkzk",
        "colab": {
          "base_uri": "https://localhost:8080/"
        },
        "outputId": "3baeddb8-0a8c-48af-9a16-6f2a13edea36"
      },
      "source": [
        "gb.fit(x_train, y_train)"
      ],
      "execution_count": 75,
      "outputs": [
        {
          "output_type": "execute_result",
          "data": {
            "text/plain": [
              "GradientBoostingClassifier(ccp_alpha=0.0, criterion='friedman_mse', init=None,\n",
              "                           learning_rate=0.1, loss='deviance', max_depth=3,\n",
              "                           max_features=None, max_leaf_nodes=None,\n",
              "                           min_impurity_decrease=0.0, min_impurity_split=None,\n",
              "                           min_samples_leaf=1, min_samples_split=2,\n",
              "                           min_weight_fraction_leaf=0.0, n_estimators=100,\n",
              "                           n_iter_no_change=None, presort='deprecated',\n",
              "                           random_state=None, subsample=1.0, tol=0.0001,\n",
              "                           validation_fraction=0.1, verbose=0,\n",
              "                           warm_start=False)"
            ]
          },
          "metadata": {
            "tags": []
          },
          "execution_count": 75
        }
      ]
    },
    {
      "cell_type": "code",
      "metadata": {
        "id": "peszWstLT432",
        "colab": {
          "base_uri": "https://localhost:8080/"
        },
        "outputId": "8aca9d80-e99b-41ee-b36a-4ad5af76d7e3"
      },
      "source": [
        "#get the accuracy score\n",
        "gb_pred=gb.predict(x_test)\n",
        "print('Prediction: %d' % gb_pred[0])"
      ],
      "execution_count": 79,
      "outputs": [
        {
          "output_type": "stream",
          "text": [
            "Prediction: 0\n"
          ],
          "name": "stdout"
        }
      ]
    },
    {
      "cell_type": "code",
      "metadata": {
        "id": "xywsfe5FT461"
      },
      "source": [
        "#Predict"
      ],
      "execution_count": null,
      "outputs": []
    },
    {
      "cell_type": "code",
      "metadata": {
        "id": "LohtWfdiXnQw"
      },
      "source": [
        ""
      ],
      "execution_count": null,
      "outputs": []
    },
    {
      "cell_type": "code",
      "metadata": {
        "colab": {
          "base_uri": "https://localhost:8080/",
          "height": 194
        },
        "id": "P6hr-B5BT49F",
        "outputId": "2c4f6393-0e5b-46aa-863a-5512bc0f9248"
      },
      "source": [
        "#Random Forest\n",
        "p_dict={'n_estimators': [500],'n_jobs':[-1],'max_features':[\"auto\",\"log2\"] }\n",
        "mdl_fin=GridSearchCV(estimator=RandomForestClassifier(), param_grid=p_dict)\n",
        "\n",
        "mdl_fin.fit(x_train, y_train)\n",
        "pred=mdl_fin.predict(test_data_mdl.drop('id',axis=1))\n",
        "is_cancelled={'id':test_data_mdl['id'], 'is_cancelled':pred}\n",
        "\n",
        "out_final = pd.DataFrame(is_cancelled)\n",
        "out_final.head()"
      ],
      "execution_count": 80,
      "outputs": [
        {
          "output_type": "execute_result",
          "data": {
            "text/html": [
              "<div>\n",
              "<style scoped>\n",
              "    .dataframe tbody tr th:only-of-type {\n",
              "        vertical-align: middle;\n",
              "    }\n",
              "\n",
              "    .dataframe tbody tr th {\n",
              "        vertical-align: top;\n",
              "    }\n",
              "\n",
              "    .dataframe thead th {\n",
              "        text-align: right;\n",
              "    }\n",
              "</style>\n",
              "<table border=\"1\" class=\"dataframe\">\n",
              "  <thead>\n",
              "    <tr style=\"text-align: right;\">\n",
              "      <th></th>\n",
              "      <th>id</th>\n",
              "      <th>is_cancelled</th>\n",
              "    </tr>\n",
              "  </thead>\n",
              "  <tbody>\n",
              "    <tr>\n",
              "      <th>52744</th>\n",
              "      <td>52745</td>\n",
              "      <td>1</td>\n",
              "    </tr>\n",
              "    <tr>\n",
              "      <th>43365</th>\n",
              "      <td>43366</td>\n",
              "      <td>0</td>\n",
              "    </tr>\n",
              "    <tr>\n",
              "      <th>27212</th>\n",
              "      <td>27213</td>\n",
              "      <td>0</td>\n",
              "    </tr>\n",
              "    <tr>\n",
              "      <th>24540</th>\n",
              "      <td>24541</td>\n",
              "      <td>0</td>\n",
              "    </tr>\n",
              "    <tr>\n",
              "      <th>30965</th>\n",
              "      <td>30966</td>\n",
              "      <td>0</td>\n",
              "    </tr>\n",
              "  </tbody>\n",
              "</table>\n",
              "</div>"
            ],
            "text/plain": [
              "          id  is_cancelled\n",
              "52744  52745             1\n",
              "43365  43366             0\n",
              "27212  27213             0\n",
              "24540  24541             0\n",
              "30965  30966             0"
            ]
          },
          "metadata": {
            "tags": []
          },
          "execution_count": 80
        }
      ]
    },
    {
      "cell_type": "code",
      "metadata": {
        "colab": {
          "base_uri": "https://localhost:8080/"
        },
        "id": "8qIeGHMAyP4F",
        "outputId": "ac707dcf-586c-4a4c-bcb6-4f09fc718846"
      },
      "source": [
        "submission_df = out_final.copy()\n",
        "print(len(submission_df))"
      ],
      "execution_count": 81,
      "outputs": [
        {
          "output_type": "stream",
          "text": [
            "41292\n"
          ],
          "name": "stdout"
        }
      ]
    },
    {
      "cell_type": "code",
      "metadata": {
        "id": "EfWkhbGoyUis"
      },
      "source": [
        "#Submission\n",
        "submission_df.to_csv('/content/submissions.csv',index=False)"
      ],
      "execution_count": 83,
      "outputs": []
    },
    {
      "cell_type": "code",
      "metadata": {
        "id": "OnYXDRLMyUla"
      },
      "source": [
        ""
      ],
      "execution_count": null,
      "outputs": []
    },
    {
      "cell_type": "code",
      "metadata": {
        "colab": {
          "base_uri": "https://localhost:8080/",
          "height": 194
        },
        "id": "F-dVShTzseAB",
        "outputId": "3543a16a-cd53-4516-c890-0eef473647b0"
      },
      "source": [
        "#Run the model for GradientBoostingClassifier\n",
        "\n",
        "gb_pred=gb.predict(test_data_mdl.drop('id',axis=1))\n",
        "is_cancelled={'id':test_data_mdl['id'], 'is_cancelled':gb_pred}\n",
        "\n",
        "out_final = pd.DataFrame(is_cancelled)\n",
        "out_final.head()"
      ],
      "execution_count": 86,
      "outputs": [
        {
          "output_type": "execute_result",
          "data": {
            "text/html": [
              "<div>\n",
              "<style scoped>\n",
              "    .dataframe tbody tr th:only-of-type {\n",
              "        vertical-align: middle;\n",
              "    }\n",
              "\n",
              "    .dataframe tbody tr th {\n",
              "        vertical-align: top;\n",
              "    }\n",
              "\n",
              "    .dataframe thead th {\n",
              "        text-align: right;\n",
              "    }\n",
              "</style>\n",
              "<table border=\"1\" class=\"dataframe\">\n",
              "  <thead>\n",
              "    <tr style=\"text-align: right;\">\n",
              "      <th></th>\n",
              "      <th>id</th>\n",
              "      <th>is_cancelled</th>\n",
              "    </tr>\n",
              "  </thead>\n",
              "  <tbody>\n",
              "    <tr>\n",
              "      <th>52744</th>\n",
              "      <td>52745</td>\n",
              "      <td>1</td>\n",
              "    </tr>\n",
              "    <tr>\n",
              "      <th>43365</th>\n",
              "      <td>43366</td>\n",
              "      <td>0</td>\n",
              "    </tr>\n",
              "    <tr>\n",
              "      <th>27212</th>\n",
              "      <td>27213</td>\n",
              "      <td>0</td>\n",
              "    </tr>\n",
              "    <tr>\n",
              "      <th>24540</th>\n",
              "      <td>24541</td>\n",
              "      <td>0</td>\n",
              "    </tr>\n",
              "    <tr>\n",
              "      <th>30965</th>\n",
              "      <td>30966</td>\n",
              "      <td>0</td>\n",
              "    </tr>\n",
              "  </tbody>\n",
              "</table>\n",
              "</div>"
            ],
            "text/plain": [
              "          id  is_cancelled\n",
              "52744  52745             1\n",
              "43365  43366             0\n",
              "27212  27213             0\n",
              "24540  24541             0\n",
              "30965  30966             0"
            ]
          },
          "metadata": {
            "tags": []
          },
          "execution_count": 86
        }
      ]
    },
    {
      "cell_type": "code",
      "metadata": {
        "id": "Z-G5OhFHseUe"
      },
      "source": [
        ""
      ],
      "execution_count": null,
      "outputs": []
    },
    {
      "cell_type": "code",
      "metadata": {
        "colab": {
          "base_uri": "https://localhost:8080/"
        },
        "id": "XQu49BNRUYQ2",
        "outputId": "59346e1c-ab47-4c92-a6a0-d75c2fa21c82"
      },
      "source": [
        "submission_df2 = out_final.copy()\n",
        "print(len(submission_df2))"
      ],
      "execution_count": 87,
      "outputs": [
        {
          "output_type": "stream",
          "text": [
            "41292\n"
          ],
          "name": "stdout"
        }
      ]
    },
    {
      "cell_type": "code",
      "metadata": {
        "id": "dA5ETQbuUYUt"
      },
      "source": [
        "#Submission\n",
        "submission_df2.to_csv('/content/submissions2.csv',index=False)"
      ],
      "execution_count": 88,
      "outputs": []
    }
  ]
}